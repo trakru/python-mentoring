{
 "cells": [
  {
   "cell_type": "code",
   "execution_count": 4,
   "metadata": {},
   "outputs": [
    {
     "name": "stdout",
     "output_type": "stream",
     "text": [
      "Writing animal.py\n"
     ]
    }
   ],
   "source": [
    "%%writefile animal.py\n",
    "\n",
    "class Animal():\n",
    "    \"\"\"A simple class definition for all animals\"\"\"\n",
    "    \n",
    "    def __init__(self, name, age, species, pet):\n",
    "        \"\"\"Initialize name, age & species attributes\"\"\"\n",
    "        self.name = name\n",
    "        self.age = age\n",
    "        self.species = species\n",
    "        self.pet = pet\n",
    "        \n",
    "    def is_pettable(self, pet):\n",
    "        \"\"\"find if an animal can be a pet\"\"\"\n",
    "        if self.pet == True:\n",
    "            print(self.species.title() + \"can be a pet\")\n",
    "        else:\n",
    "            print(self.species.title() + \"is unlikely to be a human pet\")"
   ]
  },
  {
   "cell_type": "code",
   "execution_count": 9,
   "metadata": {},
   "outputs": [],
   "source": [
    "from animal import Animal\n",
    "\n",
    "class Dog():\n",
    "    \"\"\"A simple attempt to model a dog.\"\"\"\n",
    "    \n",
    "    def __init__(self, name, age, species, pet):\n",
    "        \"\"\"Initialize name and age attributes.\"\"\"\n",
    "        super().__init__(name, age, species, pet)\n",
    "        \n",
    "#     def sit(self):\n",
    "#         \"\"\"Simulate a dog sitting in response to a command.\"\"\"\n",
    "#         print(self.name.title() + \" is now sitting.\")\n",
    "\n",
    "#     def roll_over(self):\n",
    "#         \"\"\"Simulate rolling over in response to a command.\"\"\"\n",
    "#         print(self.name.title() + \" rolled over!\")"
   ]
  },
  {
   "cell_type": "code",
   "execution_count": 10,
   "metadata": {},
   "outputs": [
    {
     "ename": "TypeError",
     "evalue": "__init__() takes 0 positional arguments but 5 were given",
     "output_type": "error",
     "traceback": [
      "\u001b[1;31m---------------------------------------------------------------------------\u001b[0m",
      "\u001b[1;31mTypeError\u001b[0m                                 Traceback (most recent call last)",
      "\u001b[1;32m<ipython-input-10-8c3422e54249>\u001b[0m in \u001b[0;36m<module>\u001b[1;34m\u001b[0m\n\u001b[1;32m----> 1\u001b[1;33m \u001b[0mmy_dog\u001b[0m \u001b[1;33m=\u001b[0m \u001b[0mDog\u001b[0m \u001b[1;33m(\u001b[0m\u001b[1;34m'tom'\u001b[0m\u001b[1;33m,\u001b[0m \u001b[1;36m7\u001b[0m\u001b[1;33m,\u001b[0m \u001b[1;34m'poodle'\u001b[0m\u001b[1;33m,\u001b[0m \u001b[1;32mTrue\u001b[0m\u001b[1;33m)\u001b[0m\u001b[1;33m\u001b[0m\u001b[1;33m\u001b[0m\u001b[0m\n\u001b[0m",
      "\u001b[1;31mTypeError\u001b[0m: __init__() takes 0 positional arguments but 5 were given"
     ]
    }
   ],
   "source": [
    "my_dog = Dog ('tom', 7, 'poodle', True)"
   ]
  },
  {
   "cell_type": "code",
   "execution_count": 6,
   "metadata": {},
   "outputs": [
    {
     "ename": "TypeError",
     "evalue": "object.__init__() takes no parameters",
     "output_type": "error",
     "traceback": [
      "\u001b[1;31m---------------------------------------------------------------------------\u001b[0m",
      "\u001b[1;31mTypeError\u001b[0m                                 Traceback (most recent call last)",
      "\u001b[1;32m<ipython-input-6-cc46e0b27fff>\u001b[0m in \u001b[0;36m<module>\u001b[1;34m\u001b[0m\n\u001b[1;32m----> 1\u001b[1;33m \u001b[0mmy_dog\u001b[0m \u001b[1;33m=\u001b[0m \u001b[0mDog\u001b[0m\u001b[1;33m(\u001b[0m\u001b[1;34m'willie'\u001b[0m\u001b[1;33m,\u001b[0m \u001b[1;36m6\u001b[0m\u001b[1;33m)\u001b[0m\u001b[1;33m\u001b[0m\u001b[1;33m\u001b[0m\u001b[0m\n\u001b[0m\u001b[0;32m      2\u001b[0m \u001b[0myour_dog\u001b[0m \u001b[1;33m=\u001b[0m \u001b[0mDog\u001b[0m\u001b[1;33m(\u001b[0m\u001b[1;34m'lucy'\u001b[0m\u001b[1;33m,\u001b[0m \u001b[1;36m3\u001b[0m\u001b[1;33m)\u001b[0m\u001b[1;33m\u001b[0m\u001b[1;33m\u001b[0m\u001b[0m\n",
      "\u001b[1;32m<ipython-input-5-dace8b22081c>\u001b[0m in \u001b[0;36m__init__\u001b[1;34m(self, name, age)\u001b[0m\n\u001b[0;32m      6\u001b[0m     \u001b[1;32mdef\u001b[0m \u001b[0m__init__\u001b[0m\u001b[1;33m(\u001b[0m\u001b[0mself\u001b[0m\u001b[1;33m,\u001b[0m \u001b[0mname\u001b[0m\u001b[1;33m,\u001b[0m \u001b[0mage\u001b[0m\u001b[1;33m)\u001b[0m\u001b[1;33m:\u001b[0m\u001b[1;33m\u001b[0m\u001b[1;33m\u001b[0m\u001b[0m\n\u001b[0;32m      7\u001b[0m         \u001b[1;34m\"\"\"Initialize name and age attributes.\"\"\"\u001b[0m\u001b[1;33m\u001b[0m\u001b[1;33m\u001b[0m\u001b[0m\n\u001b[1;32m----> 8\u001b[1;33m         \u001b[0msuper\u001b[0m\u001b[1;33m(\u001b[0m\u001b[1;33m)\u001b[0m\u001b[1;33m.\u001b[0m\u001b[0m__init__\u001b[0m\u001b[1;33m(\u001b[0m\u001b[0mname\u001b[0m\u001b[1;33m,\u001b[0m \u001b[0mage\u001b[0m\u001b[1;33m)\u001b[0m\u001b[1;33m\u001b[0m\u001b[1;33m\u001b[0m\u001b[0m\n\u001b[0m\u001b[0;32m      9\u001b[0m \u001b[1;33m\u001b[0m\u001b[0m\n\u001b[0;32m     10\u001b[0m     \u001b[1;32mdef\u001b[0m \u001b[0msit\u001b[0m\u001b[1;33m(\u001b[0m\u001b[0mself\u001b[0m\u001b[1;33m)\u001b[0m\u001b[1;33m:\u001b[0m\u001b[1;33m\u001b[0m\u001b[1;33m\u001b[0m\u001b[0m\n",
      "\u001b[1;31mTypeError\u001b[0m: object.__init__() takes no parameters"
     ]
    }
   ],
   "source": [
    "my_dog = Dog('willie', 6)\n",
    "your_dog = Dog('lucy', 3)"
   ]
  },
  {
   "cell_type": "code",
   "execution_count": 4,
   "metadata": {},
   "outputs": [
    {
     "name": "stdout",
     "output_type": "stream",
     "text": [
      "My dog's name is WILLIE.\n",
      "My dog is 6 years old.\n"
     ]
    }
   ],
   "source": [
    "print(\"My dog's name is \" + my_dog.name.upper() + \".\")\n",
    "print(\"My dog is \" + str(my_dog.age) + \" years old.\")\n",
    "\n",
    "\n"
   ]
  },
  {
   "cell_type": "code",
   "execution_count": 5,
   "metadata": {},
   "outputs": [
    {
     "name": "stdout",
     "output_type": "stream",
     "text": [
      "Willie is now sitting.\n"
     ]
    }
   ],
   "source": [
    "my_dog.sit()"
   ]
  },
  {
   "cell_type": "code",
   "execution_count": 6,
   "metadata": {},
   "outputs": [
    {
     "name": "stdout",
     "output_type": "stream",
     "text": [
      "\n",
      "My dog's name is Lucy.\n",
      "My dog is 3 years old.\n",
      "Lucy is now sitting.\n"
     ]
    }
   ],
   "source": [
    "print(\"\\nMy dog's name is \" + your_dog.name.title() + \".\")\n",
    "print(\"My dog is \" + str(your_dog.age) + \" years old.\")\n",
    "your_dog.sit()"
   ]
  }
 ],
 "metadata": {
  "kernelspec": {
   "display_name": "Python 3",
   "language": "python",
   "name": "python3"
  },
  "language_info": {
   "codemirror_mode": {
    "name": "ipython",
    "version": 3
   },
   "file_extension": ".py",
   "mimetype": "text/x-python",
   "name": "python",
   "nbconvert_exporter": "python",
   "pygments_lexer": "ipython3",
   "version": "3.6.10"
  }
 },
 "nbformat": 4,
 "nbformat_minor": 4
}
