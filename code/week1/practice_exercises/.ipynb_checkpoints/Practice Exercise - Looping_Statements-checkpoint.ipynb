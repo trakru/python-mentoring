{
 "cells": [
  {
   "cell_type": "markdown",
   "metadata": {
    "id": "qsSM6nqtOHqX"
   },
   "source": [
    "# LOOPING STATEMENTS EXERCISE"
   ]
  },
  {
   "cell_type": "markdown",
   "metadata": {
    "id": "MK_gMBUpOHqZ"
   },
   "source": [
    "---------------"
   ]
  },
  {
   "cell_type": "markdown",
   "metadata": {
    "id": "8xPwPP9eOHqb"
   },
   "source": [
    "### 1.Print -10 to -1, using for loop"
   ]
  },
  {
   "cell_type": "code",
   "execution_count": null,
   "metadata": {
    "id": "7FI5DF0eOHqc"
   },
   "outputs": [],
   "source": []
  },
  {
   "cell_type": "markdown",
   "metadata": {
    "id": "a1gEQAhrOHqc"
   },
   "source": [
    "### 2.Using while loop, print numbers 1 to 10"
   ]
  },
  {
   "cell_type": "code",
   "execution_count": null,
   "metadata": {
    "id": "9xUFZnNZOHqd"
   },
   "outputs": [],
   "source": []
  },
  {
   "cell_type": "markdown",
   "metadata": {
    "id": "ZxD7wxvGOHqd"
   },
   "source": [
    "### 3.Using for loop, print first ten even numbers"
   ]
  },
  {
   "cell_type": "code",
   "execution_count": null,
   "metadata": {
    "id": "Ecr0LGKNOHqe"
   },
   "outputs": [],
   "source": []
  },
  {
   "cell_type": "markdown",
   "metadata": {
    "id": "nlTYnXtuOHqe"
   },
   "source": [
    "### 4.Using while loop, generate the multiplication table of 5"
   ]
  },
  {
   "cell_type": "code",
   "execution_count": null,
   "metadata": {
    "id": "ipqYNfRJOHqf"
   },
   "outputs": [],
   "source": []
  },
  {
   "cell_type": "markdown",
   "metadata": {
    "id": "Dcy42BP5OHqf"
   },
   "source": [
    "### 5.Using for loop, generate the multiplication table of 8"
   ]
  },
  {
   "cell_type": "code",
   "execution_count": null,
   "metadata": {
    "id": "2UxMRrmiOHqf"
   },
   "outputs": [],
   "source": []
  },
  {
   "cell_type": "markdown",
   "metadata": {
    "id": "JDZZRycvOHqg"
   },
   "source": [
    "### 6. For numbers 1 to 100, if a number is divisible by 3, then print Fizz.\n",
    "### If a number is divisible by 5, then print Buzz.\n",
    "### If a number is divisible by 3 and 5 both, then print FizzBuzz\n",
    "### If a number is neither divisible by 3 or 5, just print the number.\n",
    "\n",
    "Hint: use range(1,101) function  to generate numbers from 1 to 100"
   ]
  },
  {
   "cell_type": "code",
   "execution_count": null,
   "metadata": {
    "id": "qwmvWYQFOHqg"
   },
   "outputs": [],
   "source": []
  },
  {
   "cell_type": "markdown",
   "metadata": {
    "id": "tkPNzRqfOHqg"
   },
   "source": [
    "### 7.  Using the range function find the sum of all numbers from 1 to 100.\n",
    "    For the numbers in the range (1,100):1+2+3+4+5......+100 = 5050"
   ]
  },
  {
   "cell_type": "code",
   "execution_count": null,
   "metadata": {
    "id": "yuc-E2mKOHqh"
   },
   "outputs": [],
   "source": []
  },
  {
   "cell_type": "markdown",
   "metadata": {
    "id": "slAvLFzFOHqh"
   },
   "source": [
    "### 8. Write a program which will find all such numbers which are divisible by 7 but are not a multiple of 5, between 202 and 320 (both included)."
   ]
  },
  {
   "cell_type": "code",
   "execution_count": null,
   "metadata": {
    "id": "t7SvKF2DOHqi"
   },
   "outputs": [],
   "source": []
  },
  {
   "cell_type": "markdown",
   "metadata": {
    "id": "pD5x8-_ROHqi"
   },
   "source": [
    "### 9. Python Program to count the number of vowels in a string.\n",
    "st = \"Data Science\"\n",
    "\n",
    "Output: No of vowels = 5"
   ]
  },
  {
   "cell_type": "code",
   "execution_count": null,
   "metadata": {
    "id": "by_70OGaOHqi"
   },
   "outputs": [],
   "source": []
  },
  {
   "cell_type": "markdown",
   "metadata": {
    "id": "CHDGr7TEOHqj"
   },
   "source": [
    "### 10. Print Data Science 5 times using for loop"
   ]
  },
  {
   "cell_type": "code",
   "execution_count": null,
   "metadata": {
    "id": "XLKF_rUsOHqj"
   },
   "outputs": [],
   "source": []
  }
 ],
 "metadata": {
  "colab": {
   "collapsed_sections": [],
   "name": "Practice Exercise - Looping_Statements.ipynb",
   "provenance": []
  },
  "kernelspec": {
   "display_name": "Python 3",
   "language": "python",
   "name": "python3"
  },
  "language_info": {
   "codemirror_mode": {
    "name": "ipython",
    "version": 3
   },
   "file_extension": ".py",
   "mimetype": "text/x-python",
   "name": "python",
   "nbconvert_exporter": "python",
   "pygments_lexer": "ipython3",
   "version": "3.6.10"
  }
 },
 "nbformat": 4,
 "nbformat_minor": 1
}
