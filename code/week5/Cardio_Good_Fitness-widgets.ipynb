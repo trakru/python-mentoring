{
 "cells": [
  {
   "cell_type": "markdown",
   "metadata": {},
   "source": [
    "# Objective: \n",
    "\n",
    "* Explore the dataset and extract actionable insights that will enable growth in the market.\n",
    "* Perform univariate and multivariate analysis.\n",
    "* Building customer profiles (characteristics of a customer) for the different products.\n",
    "* Generate set recommendations that will help the company in targeting new customers.\n",
    "\n",
    "\n",
    "# Data:\n",
    "**CardioGoodFitness.csv** - it contains information about customers purchasing product.\n",
    "* Product - the model no. of the treadmill\n",
    "* Age - in no of years, of the customer\n",
    "* Gender - of the customer\n",
    "* Education - in no. of years, of the customer\n",
    "* Marital Status - of the customer\n",
    "* Usage - Avg. # times the customer wants to use the treadmill every week\n",
    "* Fitness - Self rated fitness score of the customer (5 - very fit, 1 - very unfit)\n",
    "* Income - of the customer\n",
    "* Miles- expected to run"
   ]
  },
  {
   "cell_type": "markdown",
   "metadata": {
    "colab_type": "text",
    "id": "vL8wmJEThU1y"
   },
   "source": [
    "### Import the necessary packages"
   ]
  },
  {
   "cell_type": "code",
   "execution_count": 1,
   "metadata": {
    "colab": {},
    "colab_type": "code",
    "id": "z1qCk8-qhU1z"
   },
   "outputs": [],
   "source": [
    "import pandas as pd\n",
    "import numpy as np\n",
    "import seaborn as sns\n",
    "import matplotlib.pyplot as plt\n",
    "import warnings\n",
    "warnings.filterwarnings('ignore')\n",
    "\n",
    "# for widgets\n",
    "import ipywidgets as widgets\n",
    "from ipywidgets import interact, interact_manual"
   ]
  },
  {
   "cell_type": "markdown",
   "metadata": {
    "colab_type": "text",
    "id": "a9ZMNfUNhU14"
   },
   "source": [
    "### Read the dataset"
   ]
  },
  {
   "cell_type": "code",
   "execution_count": 2,
   "metadata": {
    "colab": {},
    "colab_type": "code",
    "id": "os8icaEvhU14"
   },
   "outputs": [],
   "source": [
    "data=pd.read_csv(\"./data/CardioGoodFitness.csv\")"
   ]
  },
  {
   "cell_type": "code",
   "execution_count": 3,
   "metadata": {
    "colab": {},
    "colab_type": "code",
    "id": "Dh8TmfB_hU2P"
   },
   "outputs": [],
   "source": [
    "# copying data to another varaible to avoid any changes to original data\n",
    "cardio=data.copy()"
   ]
  },
  {
   "cell_type": "markdown",
   "metadata": {},
   "source": [
    "### View the first and last 5 rows of the dataset."
   ]
  },
  {
   "cell_type": "code",
   "execution_count": 4,
   "metadata": {},
   "outputs": [
    {
     "data": {
      "text/html": [
       "<div>\n",
       "<style scoped>\n",
       "    .dataframe tbody tr th:only-of-type {\n",
       "        vertical-align: middle;\n",
       "    }\n",
       "\n",
       "    .dataframe tbody tr th {\n",
       "        vertical-align: top;\n",
       "    }\n",
       "\n",
       "    .dataframe thead th {\n",
       "        text-align: right;\n",
       "    }\n",
       "</style>\n",
       "<table border=\"1\" class=\"dataframe\">\n",
       "  <thead>\n",
       "    <tr style=\"text-align: right;\">\n",
       "      <th></th>\n",
       "      <th>Product</th>\n",
       "      <th>Age</th>\n",
       "      <th>Gender</th>\n",
       "      <th>Education</th>\n",
       "      <th>MaritalStatus</th>\n",
       "      <th>Usage</th>\n",
       "      <th>Fitness</th>\n",
       "      <th>Income</th>\n",
       "      <th>Miles</th>\n",
       "    </tr>\n",
       "  </thead>\n",
       "  <tbody>\n",
       "    <tr>\n",
       "      <th>0</th>\n",
       "      <td>TM195</td>\n",
       "      <td>18</td>\n",
       "      <td>Male</td>\n",
       "      <td>14</td>\n",
       "      <td>Single</td>\n",
       "      <td>3</td>\n",
       "      <td>4</td>\n",
       "      <td>29562</td>\n",
       "      <td>112</td>\n",
       "    </tr>\n",
       "    <tr>\n",
       "      <th>1</th>\n",
       "      <td>TM195</td>\n",
       "      <td>19</td>\n",
       "      <td>Male</td>\n",
       "      <td>15</td>\n",
       "      <td>Single</td>\n",
       "      <td>2</td>\n",
       "      <td>3</td>\n",
       "      <td>31836</td>\n",
       "      <td>75</td>\n",
       "    </tr>\n",
       "    <tr>\n",
       "      <th>2</th>\n",
       "      <td>TM195</td>\n",
       "      <td>19</td>\n",
       "      <td>Female</td>\n",
       "      <td>14</td>\n",
       "      <td>Partnered</td>\n",
       "      <td>4</td>\n",
       "      <td>3</td>\n",
       "      <td>30699</td>\n",
       "      <td>66</td>\n",
       "    </tr>\n",
       "    <tr>\n",
       "      <th>3</th>\n",
       "      <td>TM195</td>\n",
       "      <td>19</td>\n",
       "      <td>Male</td>\n",
       "      <td>12</td>\n",
       "      <td>Single</td>\n",
       "      <td>3</td>\n",
       "      <td>3</td>\n",
       "      <td>32973</td>\n",
       "      <td>85</td>\n",
       "    </tr>\n",
       "    <tr>\n",
       "      <th>4</th>\n",
       "      <td>TM195</td>\n",
       "      <td>20</td>\n",
       "      <td>Male</td>\n",
       "      <td>13</td>\n",
       "      <td>Partnered</td>\n",
       "      <td>4</td>\n",
       "      <td>2</td>\n",
       "      <td>35247</td>\n",
       "      <td>47</td>\n",
       "    </tr>\n",
       "  </tbody>\n",
       "</table>\n",
       "</div>"
      ],
      "text/plain": [
       "  Product  Age  Gender  Education MaritalStatus  Usage  Fitness  Income  Miles\n",
       "0   TM195   18    Male         14        Single      3        4   29562    112\n",
       "1   TM195   19    Male         15        Single      2        3   31836     75\n",
       "2   TM195   19  Female         14     Partnered      4        3   30699     66\n",
       "3   TM195   19    Male         12        Single      3        3   32973     85\n",
       "4   TM195   20    Male         13     Partnered      4        2   35247     47"
      ]
     },
     "execution_count": 4,
     "metadata": {},
     "output_type": "execute_result"
    }
   ],
   "source": [
    "cardio.head(5)"
   ]
  },
  {
   "cell_type": "code",
   "execution_count": 5,
   "metadata": {
    "colab": {},
    "colab_type": "code",
    "id": "rDScQ4dChU2b",
    "outputId": "8beac685-7f6e-440d-a7a6-8ac6809ad855"
   },
   "outputs": [
    {
     "data": {
      "text/html": [
       "<div>\n",
       "<style scoped>\n",
       "    .dataframe tbody tr th:only-of-type {\n",
       "        vertical-align: middle;\n",
       "    }\n",
       "\n",
       "    .dataframe tbody tr th {\n",
       "        vertical-align: top;\n",
       "    }\n",
       "\n",
       "    .dataframe thead th {\n",
       "        text-align: right;\n",
       "    }\n",
       "</style>\n",
       "<table border=\"1\" class=\"dataframe\">\n",
       "  <thead>\n",
       "    <tr style=\"text-align: right;\">\n",
       "      <th></th>\n",
       "      <th>Product</th>\n",
       "      <th>Age</th>\n",
       "      <th>Gender</th>\n",
       "      <th>Education</th>\n",
       "      <th>MaritalStatus</th>\n",
       "      <th>Usage</th>\n",
       "      <th>Fitness</th>\n",
       "      <th>Income</th>\n",
       "      <th>Miles</th>\n",
       "    </tr>\n",
       "  </thead>\n",
       "  <tbody>\n",
       "    <tr>\n",
       "      <th>175</th>\n",
       "      <td>TM798</td>\n",
       "      <td>40</td>\n",
       "      <td>Male</td>\n",
       "      <td>21</td>\n",
       "      <td>Single</td>\n",
       "      <td>6</td>\n",
       "      <td>5</td>\n",
       "      <td>83416</td>\n",
       "      <td>200</td>\n",
       "    </tr>\n",
       "    <tr>\n",
       "      <th>176</th>\n",
       "      <td>TM798</td>\n",
       "      <td>42</td>\n",
       "      <td>Male</td>\n",
       "      <td>18</td>\n",
       "      <td>Single</td>\n",
       "      <td>5</td>\n",
       "      <td>4</td>\n",
       "      <td>89641</td>\n",
       "      <td>200</td>\n",
       "    </tr>\n",
       "    <tr>\n",
       "      <th>177</th>\n",
       "      <td>TM798</td>\n",
       "      <td>45</td>\n",
       "      <td>Male</td>\n",
       "      <td>16</td>\n",
       "      <td>Single</td>\n",
       "      <td>5</td>\n",
       "      <td>5</td>\n",
       "      <td>90886</td>\n",
       "      <td>160</td>\n",
       "    </tr>\n",
       "    <tr>\n",
       "      <th>178</th>\n",
       "      <td>TM798</td>\n",
       "      <td>47</td>\n",
       "      <td>Male</td>\n",
       "      <td>18</td>\n",
       "      <td>Partnered</td>\n",
       "      <td>4</td>\n",
       "      <td>5</td>\n",
       "      <td>104581</td>\n",
       "      <td>120</td>\n",
       "    </tr>\n",
       "    <tr>\n",
       "      <th>179</th>\n",
       "      <td>TM798</td>\n",
       "      <td>48</td>\n",
       "      <td>Male</td>\n",
       "      <td>18</td>\n",
       "      <td>Partnered</td>\n",
       "      <td>4</td>\n",
       "      <td>5</td>\n",
       "      <td>95508</td>\n",
       "      <td>180</td>\n",
       "    </tr>\n",
       "  </tbody>\n",
       "</table>\n",
       "</div>"
      ],
      "text/plain": [
       "    Product  Age Gender  Education MaritalStatus  Usage  Fitness  Income  \\\n",
       "175   TM798   40   Male         21        Single      6        5   83416   \n",
       "176   TM798   42   Male         18        Single      5        4   89641   \n",
       "177   TM798   45   Male         16        Single      5        5   90886   \n",
       "178   TM798   47   Male         18     Partnered      4        5  104581   \n",
       "179   TM798   48   Male         18     Partnered      4        5   95508   \n",
       "\n",
       "     Miles  \n",
       "175    200  \n",
       "176    200  \n",
       "177    160  \n",
       "178    120  \n",
       "179    180  "
      ]
     },
     "execution_count": 5,
     "metadata": {},
     "output_type": "execute_result"
    }
   ],
   "source": [
    "cardio.tail(5)"
   ]
  },
  {
   "cell_type": "markdown",
   "metadata": {
    "colab_type": "text",
    "id": "dEuSu6e4hU2e"
   },
   "source": [
    "### Understand the shape of the dataset."
   ]
  },
  {
   "cell_type": "code",
   "execution_count": 6,
   "metadata": {
    "colab": {},
    "colab_type": "code",
    "id": "no6NSlX_hU2f",
    "outputId": "1647487e-a48d-40d5-b97f-fc37d2fe7dd7"
   },
   "outputs": [
    {
     "data": {
      "text/plain": [
       "(180, 9)"
      ]
     },
     "execution_count": 6,
     "metadata": {},
     "output_type": "execute_result"
    }
   ],
   "source": [
    "cardio.shape"
   ]
  },
  {
   "cell_type": "markdown",
   "metadata": {
    "colab_type": "text",
    "id": "VdaB2-GBhU2k"
   },
   "source": [
    "* Dataset has 180 rows and 9 columns."
   ]
  },
  {
   "cell_type": "markdown",
   "metadata": {
    "colab_type": "text",
    "id": "mwAu-vEwhU2m"
   },
   "source": [
    "### Check the data types of the columns for the dataset."
   ]
  },
  {
   "cell_type": "code",
   "execution_count": 7,
   "metadata": {
    "colab": {
     "base_uri": "https://localhost:8080/",
     "height": 166
    },
    "colab_type": "code",
    "executionInfo": {
     "elapsed": 2289,
     "status": "error",
     "timestamp": 1599632480319,
     "user": {
      "displayName": "Ruchi Toshniwal",
      "photoUrl": "",
      "userId": "09568511010094008563"
     },
     "user_tz": -330
    },
    "id": "0f2JqPWghU2m",
    "outputId": "9886f74e-20d6-4333-ad8f-6d0e20cd0864"
   },
   "outputs": [
    {
     "name": "stdout",
     "output_type": "stream",
     "text": [
      "<class 'pandas.core.frame.DataFrame'>\n",
      "RangeIndex: 180 entries, 0 to 179\n",
      "Data columns (total 9 columns):\n",
      " #   Column         Non-Null Count  Dtype \n",
      "---  ------         --------------  ----- \n",
      " 0   Product        180 non-null    object\n",
      " 1   Age            180 non-null    int64 \n",
      " 2   Gender         180 non-null    object\n",
      " 3   Education      180 non-null    int64 \n",
      " 4   MaritalStatus  180 non-null    object\n",
      " 5   Usage          180 non-null    int64 \n",
      " 6   Fitness        180 non-null    int64 \n",
      " 7   Income         180 non-null    int64 \n",
      " 8   Miles          180 non-null    int64 \n",
      "dtypes: int64(6), object(3)\n",
      "memory usage: 12.8+ KB\n"
     ]
    }
   ],
   "source": [
    "cardio.info()"
   ]
  },
  {
   "cell_type": "markdown",
   "metadata": {
    "colab_type": "text",
    "id": "X2X_FLxThU2q"
   },
   "source": [
    "## Fixing the data types\n",
    "* All variables are Integer are valid data type except for fitness, it is a rating given by a customer for self-fitness on a scale of 5, it should be treated as a category.\n",
    "\n",
    "\n",
    "* Product,Gender and Marital Status are of object type, we can change them to categories.\n",
    "\n",
    "`coverting \"objects\" to \"category\" reduces the data space required to store the dataframe`"
   ]
  },
  {
   "cell_type": "code",
   "execution_count": 8,
   "metadata": {
    "colab": {},
    "colab_type": "code",
    "id": "-PWJeppUhU2q"
   },
   "outputs": [],
   "source": [
    "cardio[\"Product\"]=cardio[\"Product\"].astype(\"category\")\n",
    "cardio[\"Gender\"]=cardio[\"Gender\"].astype(\"category\")\n",
    "cardio[\"MaritalStatus\"]=cardio[\"MaritalStatus\"].astype(\"category\")\n",
    "cardio[\"Fitness\"]=cardio[\"Fitness\"].astype(\"category\")"
   ]
  },
  {
   "cell_type": "code",
   "execution_count": 9,
   "metadata": {
    "colab": {},
    "colab_type": "code",
    "id": "pYZ71bgIhU2u",
    "outputId": "e25e89a9-274a-4c2b-9c7b-111153f2364f"
   },
   "outputs": [
    {
     "name": "stdout",
     "output_type": "stream",
     "text": [
      "<class 'pandas.core.frame.DataFrame'>\n",
      "RangeIndex: 180 entries, 0 to 179\n",
      "Data columns (total 9 columns):\n",
      " #   Column         Non-Null Count  Dtype   \n",
      "---  ------         --------------  -----   \n",
      " 0   Product        180 non-null    category\n",
      " 1   Age            180 non-null    int64   \n",
      " 2   Gender         180 non-null    category\n",
      " 3   Education      180 non-null    int64   \n",
      " 4   MaritalStatus  180 non-null    category\n",
      " 5   Usage          180 non-null    int64   \n",
      " 6   Fitness        180 non-null    category\n",
      " 7   Income         180 non-null    int64   \n",
      " 8   Miles          180 non-null    int64   \n",
      "dtypes: category(4), int64(5)\n",
      "memory usage: 8.3 KB\n"
     ]
    }
   ],
   "source": [
    "cardio.info()"
   ]
  },
  {
   "cell_type": "markdown",
   "metadata": {
    "colab_type": "text",
    "id": "qprm7Af4hU2y"
   },
   "source": [
    "* Product,Gender, Marital Status and Fitness have been converted to categories\n",
    "\n",
    "`we can see that the memory usage has decreased from 12.8KB to 8.3KB`"
   ]
  },
  {
   "cell_type": "markdown",
   "metadata": {
    "colab_type": "text",
    "id": "7E1orwlJhU20"
   },
   "source": [
    "### Give a statistical summary for the dataset."
   ]
  },
  {
   "cell_type": "code",
   "execution_count": 10,
   "metadata": {
    "colab": {},
    "colab_type": "code",
    "id": "FHhLDK6ehU20",
    "outputId": "18119201-539a-41a0-8ce8-f10ea84ca6ca"
   },
   "outputs": [
    {
     "data": {
      "text/html": [
       "<div>\n",
       "<style scoped>\n",
       "    .dataframe tbody tr th:only-of-type {\n",
       "        vertical-align: middle;\n",
       "    }\n",
       "\n",
       "    .dataframe tbody tr th {\n",
       "        vertical-align: top;\n",
       "    }\n",
       "\n",
       "    .dataframe thead th {\n",
       "        text-align: right;\n",
       "    }\n",
       "</style>\n",
       "<table border=\"1\" class=\"dataframe\">\n",
       "  <thead>\n",
       "    <tr style=\"text-align: right;\">\n",
       "      <th></th>\n",
       "      <th>Age</th>\n",
       "      <th>Education</th>\n",
       "      <th>Usage</th>\n",
       "      <th>Income</th>\n",
       "      <th>Miles</th>\n",
       "    </tr>\n",
       "  </thead>\n",
       "  <tbody>\n",
       "    <tr>\n",
       "      <th>count</th>\n",
       "      <td>180.000000</td>\n",
       "      <td>180.000000</td>\n",
       "      <td>180.000000</td>\n",
       "      <td>180.000000</td>\n",
       "      <td>180.000000</td>\n",
       "    </tr>\n",
       "    <tr>\n",
       "      <th>mean</th>\n",
       "      <td>28.788889</td>\n",
       "      <td>15.572222</td>\n",
       "      <td>3.455556</td>\n",
       "      <td>53719.577778</td>\n",
       "      <td>103.194444</td>\n",
       "    </tr>\n",
       "    <tr>\n",
       "      <th>std</th>\n",
       "      <td>6.943498</td>\n",
       "      <td>1.617055</td>\n",
       "      <td>1.084797</td>\n",
       "      <td>16506.684226</td>\n",
       "      <td>51.863605</td>\n",
       "    </tr>\n",
       "    <tr>\n",
       "      <th>min</th>\n",
       "      <td>18.000000</td>\n",
       "      <td>12.000000</td>\n",
       "      <td>2.000000</td>\n",
       "      <td>29562.000000</td>\n",
       "      <td>21.000000</td>\n",
       "    </tr>\n",
       "    <tr>\n",
       "      <th>25%</th>\n",
       "      <td>24.000000</td>\n",
       "      <td>14.000000</td>\n",
       "      <td>3.000000</td>\n",
       "      <td>44058.750000</td>\n",
       "      <td>66.000000</td>\n",
       "    </tr>\n",
       "    <tr>\n",
       "      <th>50%</th>\n",
       "      <td>26.000000</td>\n",
       "      <td>16.000000</td>\n",
       "      <td>3.000000</td>\n",
       "      <td>50596.500000</td>\n",
       "      <td>94.000000</td>\n",
       "    </tr>\n",
       "    <tr>\n",
       "      <th>75%</th>\n",
       "      <td>33.000000</td>\n",
       "      <td>16.000000</td>\n",
       "      <td>4.000000</td>\n",
       "      <td>58668.000000</td>\n",
       "      <td>114.750000</td>\n",
       "    </tr>\n",
       "    <tr>\n",
       "      <th>max</th>\n",
       "      <td>50.000000</td>\n",
       "      <td>21.000000</td>\n",
       "      <td>7.000000</td>\n",
       "      <td>104581.000000</td>\n",
       "      <td>360.000000</td>\n",
       "    </tr>\n",
       "  </tbody>\n",
       "</table>\n",
       "</div>"
      ],
      "text/plain": [
       "              Age   Education       Usage         Income       Miles\n",
       "count  180.000000  180.000000  180.000000     180.000000  180.000000\n",
       "mean    28.788889   15.572222    3.455556   53719.577778  103.194444\n",
       "std      6.943498    1.617055    1.084797   16506.684226   51.863605\n",
       "min     18.000000   12.000000    2.000000   29562.000000   21.000000\n",
       "25%     24.000000   14.000000    3.000000   44058.750000   66.000000\n",
       "50%     26.000000   16.000000    3.000000   50596.500000   94.000000\n",
       "75%     33.000000   16.000000    4.000000   58668.000000  114.750000\n",
       "max     50.000000   21.000000    7.000000  104581.000000  360.000000"
      ]
     },
     "execution_count": 10,
     "metadata": {},
     "output_type": "execute_result"
    }
   ],
   "source": [
    "cardio.describe()"
   ]
  },
  {
   "cell_type": "markdown",
   "metadata": {
    "colab_type": "text",
    "id": "Ce6QhBIRhU24"
   },
   "source": [
    "* Mean of Age is greater than the median, this suggests that Age is right skewed.\n",
    "* Education,Usage,Fitness has approximately same mean and median.\n",
    "* Mean is greater than the median for Income and Miles variable which suggests that these variables are right skewed."
   ]
  },
  {
   "cell_type": "code",
   "execution_count": 11,
   "metadata": {
    "colab": {},
    "colab_type": "code",
    "id": "KFqXLxldhU25",
    "outputId": "d79a30fe-f2bd-4d3e-ea5f-18df7a71422f"
   },
   "outputs": [
    {
     "data": {
      "text/html": [
       "<div>\n",
       "<style scoped>\n",
       "    .dataframe tbody tr th:only-of-type {\n",
       "        vertical-align: middle;\n",
       "    }\n",
       "\n",
       "    .dataframe tbody tr th {\n",
       "        vertical-align: top;\n",
       "    }\n",
       "\n",
       "    .dataframe thead th {\n",
       "        text-align: right;\n",
       "    }\n",
       "</style>\n",
       "<table border=\"1\" class=\"dataframe\">\n",
       "  <thead>\n",
       "    <tr style=\"text-align: right;\">\n",
       "      <th></th>\n",
       "      <th>Product</th>\n",
       "      <th>Gender</th>\n",
       "      <th>MaritalStatus</th>\n",
       "      <th>Fitness</th>\n",
       "    </tr>\n",
       "  </thead>\n",
       "  <tbody>\n",
       "    <tr>\n",
       "      <th>count</th>\n",
       "      <td>180</td>\n",
       "      <td>180</td>\n",
       "      <td>180</td>\n",
       "      <td>180</td>\n",
       "    </tr>\n",
       "    <tr>\n",
       "      <th>unique</th>\n",
       "      <td>3</td>\n",
       "      <td>2</td>\n",
       "      <td>2</td>\n",
       "      <td>5</td>\n",
       "    </tr>\n",
       "    <tr>\n",
       "      <th>top</th>\n",
       "      <td>TM195</td>\n",
       "      <td>Male</td>\n",
       "      <td>Partnered</td>\n",
       "      <td>3</td>\n",
       "    </tr>\n",
       "    <tr>\n",
       "      <th>freq</th>\n",
       "      <td>80</td>\n",
       "      <td>104</td>\n",
       "      <td>107</td>\n",
       "      <td>97</td>\n",
       "    </tr>\n",
       "  </tbody>\n",
       "</table>\n",
       "</div>"
      ],
      "text/plain": [
       "       Product Gender MaritalStatus  Fitness\n",
       "count      180    180           180      180\n",
       "unique       3      2             2        5\n",
       "top      TM195   Male     Partnered        3\n",
       "freq        80    104           107       97"
      ]
     },
     "execution_count": 11,
     "metadata": {},
     "output_type": "execute_result"
    }
   ],
   "source": [
    "cardio.describe(include=[\"category\"])"
   ]
  },
  {
   "cell_type": "markdown",
   "metadata": {
    "colab_type": "text",
    "id": "sVoCcftIhU28"
   },
   "source": [
    "* Product has three types of treadmill models, TM195 being the most sold model.\n",
    "* Males(104) have purchased most products as compared to females(76).\n",
    "* Married customers(107) have purchased most products as compared to singles(73)\n",
    "* Most customers(97) rate them as 3 on a scale of 1 to 5 in Fitness levels."
   ]
  },
  {
   "cell_type": "markdown",
   "metadata": {
    "colab_type": "text",
    "id": "Ie6gSJh8hU28"
   },
   "source": [
    "### Check for missing values"
   ]
  },
  {
   "cell_type": "code",
   "execution_count": 12,
   "metadata": {
    "colab": {},
    "colab_type": "code",
    "id": "tUmkQJKKhU29",
    "outputId": "c9bdd694-ca8f-45c4-efe0-fc6cdc988ad6"
   },
   "outputs": [
    {
     "data": {
      "text/plain": [
       "Product          0\n",
       "Age              0\n",
       "Gender           0\n",
       "Education        0\n",
       "MaritalStatus    0\n",
       "Usage            0\n",
       "Fitness          0\n",
       "Income           0\n",
       "Miles            0\n",
       "dtype: int64"
      ]
     },
     "execution_count": 12,
     "metadata": {},
     "output_type": "execute_result"
    }
   ],
   "source": [
    "cardio.isnull().sum()"
   ]
  },
  {
   "cell_type": "markdown",
   "metadata": {
    "colab_type": "text",
    "id": "YNQaVrJfhU3C"
   },
   "source": [
    "* There are no missing values in the data."
   ]
  },
  {
   "cell_type": "markdown",
   "metadata": {},
   "source": [
    "### Optional: Widget dashboard"
   ]
  },
  {
   "cell_type": "code",
   "execution_count": 13,
   "metadata": {},
   "outputs": [
    {
     "data": {
      "application/vnd.jupyter.widget-view+json": {
       "model_id": "60a638e91acd431283839cfb7570f8e6",
       "version_major": 2,
       "version_minor": 0
      },
      "text/plain": [
       "interactive(children=(Text(value='Education', description='column'), IntSlider(value=10, description='x', max=…"
      ]
     },
     "metadata": {},
     "output_type": "display_data"
    }
   ],
   "source": [
    "# Example with one column\n",
    "\n",
    "@interact\n",
    "def show_values_more_than(column='Education', x=10):\n",
    "    return cardio.loc[cardio[column] >= x].head()"
   ]
  },
  {
   "cell_type": "code",
   "execution_count": 18,
   "metadata": {},
   "outputs": [
    {
     "data": {
      "application/vnd.jupyter.widget-view+json": {
       "model_id": "f83e02dc1bc54c36b09aca3be2864cc7",
       "version_major": 2,
       "version_minor": 0
      },
      "text/plain": [
       "interactive(children=(Dropdown(description='column', options=('Usage', 'Age'), value='Usage'), IntSlider(value…"
      ]
     },
     "metadata": {},
     "output_type": "display_data"
    }
   ],
   "source": [
    "# Example with more than one column\n",
    "\n",
    "@interact\n",
    "def show_values_more_than(column=['Usage', 'Age'], x=(1, 60)):\n",
    "    result_array = cardio.loc[cardio[column] >= x]\n",
    "    if result_array.size > 0:\n",
    "            return result_array.head()\n",
    "    else:\n",
    "        print(f'''Please change filter. \n",
    "The min & max value for {column} are {cardio[column].min()} & {cardio[column].max()}''')"
   ]
  },
  {
   "cell_type": "code",
   "execution_count": 15,
   "metadata": {},
   "outputs": [],
   "source": [
    "# y = cardio.loc[cardio['Usage'] >= 15].head()"
   ]
  },
  {
   "cell_type": "code",
   "execution_count": 16,
   "metadata": {},
   "outputs": [],
   "source": [
    "# !pip install cufflinks"
   ]
  },
  {
   "cell_type": "markdown",
   "metadata": {
    "colab_type": "text",
    "id": "kUJ_B5KxhU3D"
   },
   "source": [
    "### EDA"
   ]
  },
  {
   "cell_type": "markdown",
   "metadata": {
    "colab_type": "text",
    "id": "7Rwx-1ZuhU3D"
   },
   "source": [
    "### Univariate analysis"
   ]
  },
  {
   "cell_type": "code",
   "execution_count": 46,
   "metadata": {},
   "outputs": [
    {
     "data": {
      "text/plain": [
       "int"
      ]
     },
     "execution_count": 46,
     "metadata": {},
     "output_type": "execute_result"
    }
   ],
   "source": [
    "type(cardio['Age'].tolist()[0])"
   ]
  },
  {
   "cell_type": "code",
   "execution_count": 51,
   "metadata": {},
   "outputs": [],
   "source": [
    "import plotly.express as px\n",
    "df = px.data.tips()"
   ]
  },
  {
   "cell_type": "code",
   "execution_count": 52,
   "metadata": {},
   "outputs": [
    {
     "data": {
      "text/html": [
       "<div>\n",
       "<style scoped>\n",
       "    .dataframe tbody tr th:only-of-type {\n",
       "        vertical-align: middle;\n",
       "    }\n",
       "\n",
       "    .dataframe tbody tr th {\n",
       "        vertical-align: top;\n",
       "    }\n",
       "\n",
       "    .dataframe thead th {\n",
       "        text-align: right;\n",
       "    }\n",
       "</style>\n",
       "<table border=\"1\" class=\"dataframe\">\n",
       "  <thead>\n",
       "    <tr style=\"text-align: right;\">\n",
       "      <th></th>\n",
       "      <th>total_bill</th>\n",
       "      <th>tip</th>\n",
       "      <th>sex</th>\n",
       "      <th>smoker</th>\n",
       "      <th>day</th>\n",
       "      <th>time</th>\n",
       "      <th>size</th>\n",
       "    </tr>\n",
       "  </thead>\n",
       "  <tbody>\n",
       "    <tr>\n",
       "      <th>0</th>\n",
       "      <td>16.99</td>\n",
       "      <td>1.01</td>\n",
       "      <td>Female</td>\n",
       "      <td>No</td>\n",
       "      <td>Sun</td>\n",
       "      <td>Dinner</td>\n",
       "      <td>2</td>\n",
       "    </tr>\n",
       "    <tr>\n",
       "      <th>1</th>\n",
       "      <td>10.34</td>\n",
       "      <td>1.66</td>\n",
       "      <td>Male</td>\n",
       "      <td>No</td>\n",
       "      <td>Sun</td>\n",
       "      <td>Dinner</td>\n",
       "      <td>3</td>\n",
       "    </tr>\n",
       "    <tr>\n",
       "      <th>2</th>\n",
       "      <td>21.01</td>\n",
       "      <td>3.50</td>\n",
       "      <td>Male</td>\n",
       "      <td>No</td>\n",
       "      <td>Sun</td>\n",
       "      <td>Dinner</td>\n",
       "      <td>3</td>\n",
       "    </tr>\n",
       "    <tr>\n",
       "      <th>3</th>\n",
       "      <td>23.68</td>\n",
       "      <td>3.31</td>\n",
       "      <td>Male</td>\n",
       "      <td>No</td>\n",
       "      <td>Sun</td>\n",
       "      <td>Dinner</td>\n",
       "      <td>2</td>\n",
       "    </tr>\n",
       "    <tr>\n",
       "      <th>4</th>\n",
       "      <td>24.59</td>\n",
       "      <td>3.61</td>\n",
       "      <td>Female</td>\n",
       "      <td>No</td>\n",
       "      <td>Sun</td>\n",
       "      <td>Dinner</td>\n",
       "      <td>4</td>\n",
       "    </tr>\n",
       "    <tr>\n",
       "      <th>...</th>\n",
       "      <td>...</td>\n",
       "      <td>...</td>\n",
       "      <td>...</td>\n",
       "      <td>...</td>\n",
       "      <td>...</td>\n",
       "      <td>...</td>\n",
       "      <td>...</td>\n",
       "    </tr>\n",
       "    <tr>\n",
       "      <th>239</th>\n",
       "      <td>29.03</td>\n",
       "      <td>5.92</td>\n",
       "      <td>Male</td>\n",
       "      <td>No</td>\n",
       "      <td>Sat</td>\n",
       "      <td>Dinner</td>\n",
       "      <td>3</td>\n",
       "    </tr>\n",
       "    <tr>\n",
       "      <th>240</th>\n",
       "      <td>27.18</td>\n",
       "      <td>2.00</td>\n",
       "      <td>Female</td>\n",
       "      <td>Yes</td>\n",
       "      <td>Sat</td>\n",
       "      <td>Dinner</td>\n",
       "      <td>2</td>\n",
       "    </tr>\n",
       "    <tr>\n",
       "      <th>241</th>\n",
       "      <td>22.67</td>\n",
       "      <td>2.00</td>\n",
       "      <td>Male</td>\n",
       "      <td>Yes</td>\n",
       "      <td>Sat</td>\n",
       "      <td>Dinner</td>\n",
       "      <td>2</td>\n",
       "    </tr>\n",
       "    <tr>\n",
       "      <th>242</th>\n",
       "      <td>17.82</td>\n",
       "      <td>1.75</td>\n",
       "      <td>Male</td>\n",
       "      <td>No</td>\n",
       "      <td>Sat</td>\n",
       "      <td>Dinner</td>\n",
       "      <td>2</td>\n",
       "    </tr>\n",
       "    <tr>\n",
       "      <th>243</th>\n",
       "      <td>18.78</td>\n",
       "      <td>3.00</td>\n",
       "      <td>Female</td>\n",
       "      <td>No</td>\n",
       "      <td>Thur</td>\n",
       "      <td>Dinner</td>\n",
       "      <td>2</td>\n",
       "    </tr>\n",
       "  </tbody>\n",
       "</table>\n",
       "<p>244 rows × 7 columns</p>\n",
       "</div>"
      ],
      "text/plain": [
       "     total_bill   tip     sex smoker   day    time  size\n",
       "0         16.99  1.01  Female     No   Sun  Dinner     2\n",
       "1         10.34  1.66    Male     No   Sun  Dinner     3\n",
       "2         21.01  3.50    Male     No   Sun  Dinner     3\n",
       "3         23.68  3.31    Male     No   Sun  Dinner     2\n",
       "4         24.59  3.61  Female     No   Sun  Dinner     4\n",
       "..          ...   ...     ...    ...   ...     ...   ...\n",
       "239       29.03  5.92    Male     No   Sat  Dinner     3\n",
       "240       27.18  2.00  Female    Yes   Sat  Dinner     2\n",
       "241       22.67  2.00    Male    Yes   Sat  Dinner     2\n",
       "242       17.82  1.75    Male     No   Sat  Dinner     2\n",
       "243       18.78  3.00  Female     No  Thur  Dinner     2\n",
       "\n",
       "[244 rows x 7 columns]"
      ]
     },
     "execution_count": 52,
     "metadata": {},
     "output_type": "execute_result"
    }
   ],
   "source": [
    "df"
   ]
  },
  {
   "cell_type": "code",
   "execution_count": 59,
   "metadata": {},
   "outputs": [
    {
     "ename": "ValueError",
     "evalue": "\n    Invalid value of type 'pandas.core.series.Series' received for the 'dx' property of box\n        Received value: 0      18\n1      19\n2      19\n3      19\n4      20\n       ..\n175    40\n176    42\n177    45\n178    47\n179    48\nName: Age, Length: 180, dtype: int64\n\n    The 'dx' property is a number and may be specified as:\n      - An int or float",
     "output_type": "error",
     "traceback": [
      "\u001b[1;31m---------------------------------------------------------------------------\u001b[0m",
      "\u001b[1;31mValueError\u001b[0m                                Traceback (most recent call last)",
      "\u001b[1;32m<ipython-input-59-52fe5a2ab36a>\u001b[0m in \u001b[0;36m<module>\u001b[1;34m\u001b[0m\n\u001b[0;32m      2\u001b[0m \u001b[1;31m# fig.show()\u001b[0m\u001b[1;33m\u001b[0m\u001b[1;33m\u001b[0m\u001b[1;33m\u001b[0m\u001b[0m\n\u001b[0;32m      3\u001b[0m \u001b[1;33m\u001b[0m\u001b[0m\n\u001b[1;32m----> 4\u001b[1;33m \u001b[0mfig\u001b[0m \u001b[1;33m=\u001b[0m \u001b[0mgo\u001b[0m\u001b[1;33m.\u001b[0m\u001b[0mBox\u001b[0m\u001b[1;33m(\u001b[0m\u001b[0mdx\u001b[0m\u001b[1;33m=\u001b[0m\u001b[0mcardio\u001b[0m\u001b[1;33m[\u001b[0m\u001b[1;34m'Age'\u001b[0m\u001b[1;33m]\u001b[0m\u001b[1;33m,\u001b[0m\u001b[0mboxmean\u001b[0m\u001b[1;33m=\u001b[0m\u001b[1;32mTrue\u001b[0m\u001b[1;33m)\u001b[0m\u001b[1;33m\u001b[0m\u001b[1;33m\u001b[0m\u001b[0m\n\u001b[0m\u001b[0;32m      5\u001b[0m \u001b[0mfig\u001b[0m\u001b[1;33m.\u001b[0m\u001b[0mshow\u001b[0m\u001b[1;33m(\u001b[0m\u001b[1;33m)\u001b[0m\u001b[1;33m\u001b[0m\u001b[1;33m\u001b[0m\u001b[0m\n",
      "\u001b[1;32m~\\Anaconda3\\lib\\site-packages\\plotly\\graph_objs\\_box.py\u001b[0m in \u001b[0;36m__init__\u001b[1;34m(self, arg, alignmentgroup, boxmean, boxpoints, customdata, customdatasrc, dx, dy, fillcolor, hoverinfo, hoverinfosrc, hoverlabel, hoveron, hovertemplate, hovertemplatesrc, hovertext, hovertextsrc, ids, idssrc, jitter, legendgroup, legendgrouptitle, legendrank, line, lowerfence, lowerfencesrc, marker, mean, meansrc, median, mediansrc, meta, metasrc, name, notched, notchspan, notchspansrc, notchwidth, offsetgroup, opacity, orientation, pointpos, q1, q1src, q3, q3src, quartilemethod, sd, sdsrc, selected, selectedpoints, showlegend, stream, text, textsrc, uid, uirevision, unselected, upperfence, upperfencesrc, visible, whiskerwidth, width, x, x0, xaxis, xcalendar, xhoverformat, xperiod, xperiod0, xperiodalignment, xsrc, y, y0, yaxis, ycalendar, yhoverformat, yperiod, yperiod0, yperiodalignment, ysrc, **kwargs)\u001b[0m\n\u001b[0;32m   3094\u001b[0m         \u001b[0m_v\u001b[0m \u001b[1;33m=\u001b[0m \u001b[0mdx\u001b[0m \u001b[1;32mif\u001b[0m \u001b[0mdx\u001b[0m \u001b[1;32mis\u001b[0m \u001b[1;32mnot\u001b[0m \u001b[1;32mNone\u001b[0m \u001b[1;32melse\u001b[0m \u001b[0m_v\u001b[0m\u001b[1;33m\u001b[0m\u001b[1;33m\u001b[0m\u001b[0m\n\u001b[0;32m   3095\u001b[0m         \u001b[1;32mif\u001b[0m \u001b[0m_v\u001b[0m \u001b[1;32mis\u001b[0m \u001b[1;32mnot\u001b[0m \u001b[1;32mNone\u001b[0m\u001b[1;33m:\u001b[0m\u001b[1;33m\u001b[0m\u001b[1;33m\u001b[0m\u001b[0m\n\u001b[1;32m-> 3096\u001b[1;33m             \u001b[0mself\u001b[0m\u001b[1;33m[\u001b[0m\u001b[1;34m\"dx\"\u001b[0m\u001b[1;33m]\u001b[0m \u001b[1;33m=\u001b[0m \u001b[0m_v\u001b[0m\u001b[1;33m\u001b[0m\u001b[1;33m\u001b[0m\u001b[0m\n\u001b[0m\u001b[0;32m   3097\u001b[0m         \u001b[0m_v\u001b[0m \u001b[1;33m=\u001b[0m \u001b[0marg\u001b[0m\u001b[1;33m.\u001b[0m\u001b[0mpop\u001b[0m\u001b[1;33m(\u001b[0m\u001b[1;34m\"dy\"\u001b[0m\u001b[1;33m,\u001b[0m \u001b[1;32mNone\u001b[0m\u001b[1;33m)\u001b[0m\u001b[1;33m\u001b[0m\u001b[1;33m\u001b[0m\u001b[0m\n\u001b[0;32m   3098\u001b[0m         \u001b[0m_v\u001b[0m \u001b[1;33m=\u001b[0m \u001b[0mdy\u001b[0m \u001b[1;32mif\u001b[0m \u001b[0mdy\u001b[0m \u001b[1;32mis\u001b[0m \u001b[1;32mnot\u001b[0m \u001b[1;32mNone\u001b[0m \u001b[1;32melse\u001b[0m \u001b[0m_v\u001b[0m\u001b[1;33m\u001b[0m\u001b[1;33m\u001b[0m\u001b[0m\n",
      "\u001b[1;32m~\\Anaconda3\\lib\\site-packages\\plotly\\basedatatypes.py\u001b[0m in \u001b[0;36m__setitem__\u001b[1;34m(self, prop, value)\u001b[0m\n\u001b[0;32m   4817\u001b[0m                 \u001b[1;31m# ### Handle simple property ###\u001b[0m\u001b[1;33m\u001b[0m\u001b[1;33m\u001b[0m\u001b[1;33m\u001b[0m\u001b[0m\n\u001b[0;32m   4818\u001b[0m                 \u001b[1;32melse\u001b[0m\u001b[1;33m:\u001b[0m\u001b[1;33m\u001b[0m\u001b[1;33m\u001b[0m\u001b[0m\n\u001b[1;32m-> 4819\u001b[1;33m                     \u001b[0mself\u001b[0m\u001b[1;33m.\u001b[0m\u001b[0m_set_prop\u001b[0m\u001b[1;33m(\u001b[0m\u001b[0mprop\u001b[0m\u001b[1;33m,\u001b[0m \u001b[0mvalue\u001b[0m\u001b[1;33m)\u001b[0m\u001b[1;33m\u001b[0m\u001b[1;33m\u001b[0m\u001b[0m\n\u001b[0m\u001b[0;32m   4820\u001b[0m             \u001b[1;32melse\u001b[0m\u001b[1;33m:\u001b[0m\u001b[1;33m\u001b[0m\u001b[1;33m\u001b[0m\u001b[0m\n\u001b[0;32m   4821\u001b[0m                 \u001b[1;31m# Make sure properties dict is initialized\u001b[0m\u001b[1;33m\u001b[0m\u001b[1;33m\u001b[0m\u001b[1;33m\u001b[0m\u001b[0m\n",
      "\u001b[1;32m~\\Anaconda3\\lib\\site-packages\\plotly\\basedatatypes.py\u001b[0m in \u001b[0;36m_set_prop\u001b[1;34m(self, prop, val)\u001b[0m\n\u001b[0;32m   5161\u001b[0m                 \u001b[1;32mreturn\u001b[0m\u001b[1;33m\u001b[0m\u001b[1;33m\u001b[0m\u001b[0m\n\u001b[0;32m   5162\u001b[0m             \u001b[1;32melse\u001b[0m\u001b[1;33m:\u001b[0m\u001b[1;33m\u001b[0m\u001b[1;33m\u001b[0m\u001b[0m\n\u001b[1;32m-> 5163\u001b[1;33m                 \u001b[1;32mraise\u001b[0m \u001b[0merr\u001b[0m\u001b[1;33m\u001b[0m\u001b[1;33m\u001b[0m\u001b[0m\n\u001b[0m\u001b[0;32m   5164\u001b[0m \u001b[1;33m\u001b[0m\u001b[0m\n\u001b[0;32m   5165\u001b[0m         \u001b[1;31m# val is None\u001b[0m\u001b[1;33m\u001b[0m\u001b[1;33m\u001b[0m\u001b[1;33m\u001b[0m\u001b[0m\n",
      "\u001b[1;32m~\\Anaconda3\\lib\\site-packages\\plotly\\basedatatypes.py\u001b[0m in \u001b[0;36m_set_prop\u001b[1;34m(self, prop, val)\u001b[0m\n\u001b[0;32m   5156\u001b[0m \u001b[1;33m\u001b[0m\u001b[0m\n\u001b[0;32m   5157\u001b[0m         \u001b[1;32mtry\u001b[0m\u001b[1;33m:\u001b[0m\u001b[1;33m\u001b[0m\u001b[1;33m\u001b[0m\u001b[0m\n\u001b[1;32m-> 5158\u001b[1;33m             \u001b[0mval\u001b[0m \u001b[1;33m=\u001b[0m \u001b[0mvalidator\u001b[0m\u001b[1;33m.\u001b[0m\u001b[0mvalidate_coerce\u001b[0m\u001b[1;33m(\u001b[0m\u001b[0mval\u001b[0m\u001b[1;33m)\u001b[0m\u001b[1;33m\u001b[0m\u001b[1;33m\u001b[0m\u001b[0m\n\u001b[0m\u001b[0;32m   5159\u001b[0m         \u001b[1;32mexcept\u001b[0m \u001b[0mValueError\u001b[0m \u001b[1;32mas\u001b[0m \u001b[0merr\u001b[0m\u001b[1;33m:\u001b[0m\u001b[1;33m\u001b[0m\u001b[1;33m\u001b[0m\u001b[0m\n\u001b[0;32m   5160\u001b[0m             \u001b[1;32mif\u001b[0m \u001b[0mself\u001b[0m\u001b[1;33m.\u001b[0m\u001b[0m_skip_invalid\u001b[0m\u001b[1;33m:\u001b[0m\u001b[1;33m\u001b[0m\u001b[1;33m\u001b[0m\u001b[0m\n",
      "\u001b[1;32m~\\Anaconda3\\lib\\site-packages\\_plotly_utils\\basevalidators.py\u001b[0m in \u001b[0;36mvalidate_coerce\u001b[1;34m(self, v)\u001b[0m\n\u001b[0;32m    805\u001b[0m             \u001b[1;31m# Check numeric\u001b[0m\u001b[1;33m\u001b[0m\u001b[1;33m\u001b[0m\u001b[1;33m\u001b[0m\u001b[0m\n\u001b[0;32m    806\u001b[0m             \u001b[1;32mif\u001b[0m \u001b[1;32mnot\u001b[0m \u001b[0misinstance\u001b[0m\u001b[1;33m(\u001b[0m\u001b[0mv\u001b[0m\u001b[1;33m,\u001b[0m \u001b[0mnumbers\u001b[0m\u001b[1;33m.\u001b[0m\u001b[0mNumber\u001b[0m\u001b[1;33m)\u001b[0m\u001b[1;33m:\u001b[0m\u001b[1;33m\u001b[0m\u001b[1;33m\u001b[0m\u001b[0m\n\u001b[1;32m--> 807\u001b[1;33m                 \u001b[0mself\u001b[0m\u001b[1;33m.\u001b[0m\u001b[0mraise_invalid_val\u001b[0m\u001b[1;33m(\u001b[0m\u001b[0mv\u001b[0m\u001b[1;33m)\u001b[0m\u001b[1;33m\u001b[0m\u001b[1;33m\u001b[0m\u001b[0m\n\u001b[0m\u001b[0;32m    808\u001b[0m \u001b[1;33m\u001b[0m\u001b[0m\n\u001b[0;32m    809\u001b[0m             \u001b[1;31m# Check min/max\u001b[0m\u001b[1;33m\u001b[0m\u001b[1;33m\u001b[0m\u001b[1;33m\u001b[0m\u001b[0m\n",
      "\u001b[1;32m~\\Anaconda3\\lib\\site-packages\\_plotly_utils\\basevalidators.py\u001b[0m in \u001b[0;36mraise_invalid_val\u001b[1;34m(self, v, inds)\u001b[0m\n\u001b[0;32m    298\u001b[0m                 \u001b[0mtyp\u001b[0m\u001b[1;33m=\u001b[0m\u001b[0mtype_str\u001b[0m\u001b[1;33m(\u001b[0m\u001b[0mv\u001b[0m\u001b[1;33m)\u001b[0m\u001b[1;33m,\u001b[0m\u001b[1;33m\u001b[0m\u001b[1;33m\u001b[0m\u001b[0m\n\u001b[0;32m    299\u001b[0m                 \u001b[0mv\u001b[0m\u001b[1;33m=\u001b[0m\u001b[0mrepr\u001b[0m\u001b[1;33m(\u001b[0m\u001b[0mv\u001b[0m\u001b[1;33m)\u001b[0m\u001b[1;33m,\u001b[0m\u001b[1;33m\u001b[0m\u001b[1;33m\u001b[0m\u001b[0m\n\u001b[1;32m--> 300\u001b[1;33m                 \u001b[0mvalid_clr_desc\u001b[0m\u001b[1;33m=\u001b[0m\u001b[0mself\u001b[0m\u001b[1;33m.\u001b[0m\u001b[0mdescription\u001b[0m\u001b[1;33m(\u001b[0m\u001b[1;33m)\u001b[0m\u001b[1;33m,\u001b[0m\u001b[1;33m\u001b[0m\u001b[1;33m\u001b[0m\u001b[0m\n\u001b[0m\u001b[0;32m    301\u001b[0m             )\n\u001b[0;32m    302\u001b[0m         )\n",
      "\u001b[1;31mValueError\u001b[0m: \n    Invalid value of type 'pandas.core.series.Series' received for the 'dx' property of box\n        Received value: 0      18\n1      19\n2      19\n3      19\n4      20\n       ..\n175    40\n176    42\n177    45\n178    47\n179    48\nName: Age, Length: 180, dtype: int64\n\n    The 'dx' property is a number and may be specified as:\n      - An int or float"
     ]
    }
   ],
   "source": [
    "# fig = px.box(cardio, x=\"Age\")\n",
    "# fig.show()\n",
    "\n",
    "fig = go.Box(dx=cardio['Age'],boxmean=True)\n",
    "fig.show()"
   ]
  },
  {
   "cell_type": "code",
   "execution_count": null,
   "metadata": {},
   "outputs": [],
   "source": [
    "fig.add_trace(go.Box(dx=cardio['Age'].tolist(),boxmean=True,\n",
    "              row=1, col=1))"
   ]
  },
  {
   "cell_type": "code",
   "execution_count": 79,
   "metadata": {},
   "outputs": [
    {
     "data": {
      "application/vnd.plotly.v1+json": {
       "config": {
        "plotlyServerURL": "https://plot.ly"
       },
       "data": [
        {
         "boxmean": true,
         "type": "box",
         "x": [
          18,
          19,
          19,
          19,
          20,
          20,
          21,
          21,
          21,
          21,
          22,
          22,
          22,
          22,
          23,
          23,
          23,
          23,
          23,
          23,
          23,
          23,
          24,
          24,
          24,
          24,
          24,
          25,
          25,
          25,
          25,
          25,
          25,
          25,
          26,
          26,
          26,
          26,
          26,
          26,
          26,
          27,
          27,
          27,
          28,
          28,
          28,
          28,
          28,
          28,
          29,
          29,
          29,
          30,
          30,
          31,
          31,
          32,
          32,
          33,
          33,
          34,
          34,
          35,
          35,
          35,
          36,
          37,
          38,
          38,
          38,
          38,
          39,
          40,
          41,
          43,
          44,
          46,
          47,
          50,
          19,
          20,
          20,
          20,
          21,
          21,
          21,
          23,
          23,
          23,
          23,
          23,
          23,
          23,
          24,
          24,
          24,
          25,
          25,
          25,
          25,
          25,
          25,
          25,
          25,
          25,
          25,
          25,
          26,
          26,
          26,
          27,
          29,
          30,
          30,
          31,
          31,
          31,
          32,
          32,
          33,
          33,
          33,
          33,
          33,
          34,
          34,
          34,
          35,
          35,
          35,
          35,
          37,
          38,
          38,
          40,
          40,
          40,
          45,
          48,
          22,
          22,
          22,
          23,
          23,
          23,
          24,
          24,
          24,
          24,
          25,
          25,
          25,
          25,
          25,
          25,
          25,
          26,
          26,
          27,
          27,
          27,
          28,
          28,
          28,
          29,
          29,
          30,
          30,
          30,
          31,
          33,
          34,
          35,
          38,
          40,
          42,
          45,
          47,
          48
         ],
         "xaxis": "x",
         "yaxis": "y"
        },
        {
         "type": "histogram",
         "x": [
          18,
          19,
          19,
          19,
          20,
          20,
          21,
          21,
          21,
          21,
          22,
          22,
          22,
          22,
          23,
          23,
          23,
          23,
          23,
          23,
          23,
          23,
          24,
          24,
          24,
          24,
          24,
          25,
          25,
          25,
          25,
          25,
          25,
          25,
          26,
          26,
          26,
          26,
          26,
          26,
          26,
          27,
          27,
          27,
          28,
          28,
          28,
          28,
          28,
          28,
          29,
          29,
          29,
          30,
          30,
          31,
          31,
          32,
          32,
          33,
          33,
          34,
          34,
          35,
          35,
          35,
          36,
          37,
          38,
          38,
          38,
          38,
          39,
          40,
          41,
          43,
          44,
          46,
          47,
          50,
          19,
          20,
          20,
          20,
          21,
          21,
          21,
          23,
          23,
          23,
          23,
          23,
          23,
          23,
          24,
          24,
          24,
          25,
          25,
          25,
          25,
          25,
          25,
          25,
          25,
          25,
          25,
          25,
          26,
          26,
          26,
          27,
          29,
          30,
          30,
          31,
          31,
          31,
          32,
          32,
          33,
          33,
          33,
          33,
          33,
          34,
          34,
          34,
          35,
          35,
          35,
          35,
          37,
          38,
          38,
          40,
          40,
          40,
          45,
          48,
          22,
          22,
          22,
          23,
          23,
          23,
          24,
          24,
          24,
          24,
          25,
          25,
          25,
          25,
          25,
          25,
          25,
          26,
          26,
          27,
          27,
          27,
          28,
          28,
          28,
          29,
          29,
          30,
          30,
          30,
          31,
          33,
          34,
          35,
          38,
          40,
          42,
          45,
          47,
          48
         ],
         "xaxis": "x2",
         "yaxis": "y2"
        }
       ],
       "layout": {
        "height": 700,
        "showlegend": false,
        "template": {
         "data": {
          "bar": [
           {
            "error_x": {
             "color": "#2a3f5f"
            },
            "error_y": {
             "color": "#2a3f5f"
            },
            "marker": {
             "line": {
              "color": "#E5ECF6",
              "width": 0.5
             },
             "pattern": {
              "fillmode": "overlay",
              "size": 10,
              "solidity": 0.2
             }
            },
            "type": "bar"
           }
          ],
          "barpolar": [
           {
            "marker": {
             "line": {
              "color": "#E5ECF6",
              "width": 0.5
             },
             "pattern": {
              "fillmode": "overlay",
              "size": 10,
              "solidity": 0.2
             }
            },
            "type": "barpolar"
           }
          ],
          "carpet": [
           {
            "aaxis": {
             "endlinecolor": "#2a3f5f",
             "gridcolor": "white",
             "linecolor": "white",
             "minorgridcolor": "white",
             "startlinecolor": "#2a3f5f"
            },
            "baxis": {
             "endlinecolor": "#2a3f5f",
             "gridcolor": "white",
             "linecolor": "white",
             "minorgridcolor": "white",
             "startlinecolor": "#2a3f5f"
            },
            "type": "carpet"
           }
          ],
          "choropleth": [
           {
            "colorbar": {
             "outlinewidth": 0,
             "ticks": ""
            },
            "type": "choropleth"
           }
          ],
          "contour": [
           {
            "colorbar": {
             "outlinewidth": 0,
             "ticks": ""
            },
            "colorscale": [
             [
              0,
              "#0d0887"
             ],
             [
              0.1111111111111111,
              "#46039f"
             ],
             [
              0.2222222222222222,
              "#7201a8"
             ],
             [
              0.3333333333333333,
              "#9c179e"
             ],
             [
              0.4444444444444444,
              "#bd3786"
             ],
             [
              0.5555555555555556,
              "#d8576b"
             ],
             [
              0.6666666666666666,
              "#ed7953"
             ],
             [
              0.7777777777777778,
              "#fb9f3a"
             ],
             [
              0.8888888888888888,
              "#fdca26"
             ],
             [
              1,
              "#f0f921"
             ]
            ],
            "type": "contour"
           }
          ],
          "contourcarpet": [
           {
            "colorbar": {
             "outlinewidth": 0,
             "ticks": ""
            },
            "type": "contourcarpet"
           }
          ],
          "heatmap": [
           {
            "colorbar": {
             "outlinewidth": 0,
             "ticks": ""
            },
            "colorscale": [
             [
              0,
              "#0d0887"
             ],
             [
              0.1111111111111111,
              "#46039f"
             ],
             [
              0.2222222222222222,
              "#7201a8"
             ],
             [
              0.3333333333333333,
              "#9c179e"
             ],
             [
              0.4444444444444444,
              "#bd3786"
             ],
             [
              0.5555555555555556,
              "#d8576b"
             ],
             [
              0.6666666666666666,
              "#ed7953"
             ],
             [
              0.7777777777777778,
              "#fb9f3a"
             ],
             [
              0.8888888888888888,
              "#fdca26"
             ],
             [
              1,
              "#f0f921"
             ]
            ],
            "type": "heatmap"
           }
          ],
          "heatmapgl": [
           {
            "colorbar": {
             "outlinewidth": 0,
             "ticks": ""
            },
            "colorscale": [
             [
              0,
              "#0d0887"
             ],
             [
              0.1111111111111111,
              "#46039f"
             ],
             [
              0.2222222222222222,
              "#7201a8"
             ],
             [
              0.3333333333333333,
              "#9c179e"
             ],
             [
              0.4444444444444444,
              "#bd3786"
             ],
             [
              0.5555555555555556,
              "#d8576b"
             ],
             [
              0.6666666666666666,
              "#ed7953"
             ],
             [
              0.7777777777777778,
              "#fb9f3a"
             ],
             [
              0.8888888888888888,
              "#fdca26"
             ],
             [
              1,
              "#f0f921"
             ]
            ],
            "type": "heatmapgl"
           }
          ],
          "histogram": [
           {
            "marker": {
             "pattern": {
              "fillmode": "overlay",
              "size": 10,
              "solidity": 0.2
             }
            },
            "type": "histogram"
           }
          ],
          "histogram2d": [
           {
            "colorbar": {
             "outlinewidth": 0,
             "ticks": ""
            },
            "colorscale": [
             [
              0,
              "#0d0887"
             ],
             [
              0.1111111111111111,
              "#46039f"
             ],
             [
              0.2222222222222222,
              "#7201a8"
             ],
             [
              0.3333333333333333,
              "#9c179e"
             ],
             [
              0.4444444444444444,
              "#bd3786"
             ],
             [
              0.5555555555555556,
              "#d8576b"
             ],
             [
              0.6666666666666666,
              "#ed7953"
             ],
             [
              0.7777777777777778,
              "#fb9f3a"
             ],
             [
              0.8888888888888888,
              "#fdca26"
             ],
             [
              1,
              "#f0f921"
             ]
            ],
            "type": "histogram2d"
           }
          ],
          "histogram2dcontour": [
           {
            "colorbar": {
             "outlinewidth": 0,
             "ticks": ""
            },
            "colorscale": [
             [
              0,
              "#0d0887"
             ],
             [
              0.1111111111111111,
              "#46039f"
             ],
             [
              0.2222222222222222,
              "#7201a8"
             ],
             [
              0.3333333333333333,
              "#9c179e"
             ],
             [
              0.4444444444444444,
              "#bd3786"
             ],
             [
              0.5555555555555556,
              "#d8576b"
             ],
             [
              0.6666666666666666,
              "#ed7953"
             ],
             [
              0.7777777777777778,
              "#fb9f3a"
             ],
             [
              0.8888888888888888,
              "#fdca26"
             ],
             [
              1,
              "#f0f921"
             ]
            ],
            "type": "histogram2dcontour"
           }
          ],
          "mesh3d": [
           {
            "colorbar": {
             "outlinewidth": 0,
             "ticks": ""
            },
            "type": "mesh3d"
           }
          ],
          "parcoords": [
           {
            "line": {
             "colorbar": {
              "outlinewidth": 0,
              "ticks": ""
             }
            },
            "type": "parcoords"
           }
          ],
          "pie": [
           {
            "automargin": true,
            "type": "pie"
           }
          ],
          "scatter": [
           {
            "marker": {
             "colorbar": {
              "outlinewidth": 0,
              "ticks": ""
             }
            },
            "type": "scatter"
           }
          ],
          "scatter3d": [
           {
            "line": {
             "colorbar": {
              "outlinewidth": 0,
              "ticks": ""
             }
            },
            "marker": {
             "colorbar": {
              "outlinewidth": 0,
              "ticks": ""
             }
            },
            "type": "scatter3d"
           }
          ],
          "scattercarpet": [
           {
            "marker": {
             "colorbar": {
              "outlinewidth": 0,
              "ticks": ""
             }
            },
            "type": "scattercarpet"
           }
          ],
          "scattergeo": [
           {
            "marker": {
             "colorbar": {
              "outlinewidth": 0,
              "ticks": ""
             }
            },
            "type": "scattergeo"
           }
          ],
          "scattergl": [
           {
            "marker": {
             "colorbar": {
              "outlinewidth": 0,
              "ticks": ""
             }
            },
            "type": "scattergl"
           }
          ],
          "scattermapbox": [
           {
            "marker": {
             "colorbar": {
              "outlinewidth": 0,
              "ticks": ""
             }
            },
            "type": "scattermapbox"
           }
          ],
          "scatterpolar": [
           {
            "marker": {
             "colorbar": {
              "outlinewidth": 0,
              "ticks": ""
             }
            },
            "type": "scatterpolar"
           }
          ],
          "scatterpolargl": [
           {
            "marker": {
             "colorbar": {
              "outlinewidth": 0,
              "ticks": ""
             }
            },
            "type": "scatterpolargl"
           }
          ],
          "scatterternary": [
           {
            "marker": {
             "colorbar": {
              "outlinewidth": 0,
              "ticks": ""
             }
            },
            "type": "scatterternary"
           }
          ],
          "surface": [
           {
            "colorbar": {
             "outlinewidth": 0,
             "ticks": ""
            },
            "colorscale": [
             [
              0,
              "#0d0887"
             ],
             [
              0.1111111111111111,
              "#46039f"
             ],
             [
              0.2222222222222222,
              "#7201a8"
             ],
             [
              0.3333333333333333,
              "#9c179e"
             ],
             [
              0.4444444444444444,
              "#bd3786"
             ],
             [
              0.5555555555555556,
              "#d8576b"
             ],
             [
              0.6666666666666666,
              "#ed7953"
             ],
             [
              0.7777777777777778,
              "#fb9f3a"
             ],
             [
              0.8888888888888888,
              "#fdca26"
             ],
             [
              1,
              "#f0f921"
             ]
            ],
            "type": "surface"
           }
          ],
          "table": [
           {
            "cells": {
             "fill": {
              "color": "#EBF0F8"
             },
             "line": {
              "color": "white"
             }
            },
            "header": {
             "fill": {
              "color": "#C8D4E3"
             },
             "line": {
              "color": "white"
             }
            },
            "type": "table"
           }
          ]
         },
         "layout": {
          "annotationdefaults": {
           "arrowcolor": "#2a3f5f",
           "arrowhead": 0,
           "arrowwidth": 1
          },
          "autotypenumbers": "strict",
          "coloraxis": {
           "colorbar": {
            "outlinewidth": 0,
            "ticks": ""
           }
          },
          "colorscale": {
           "diverging": [
            [
             0,
             "#8e0152"
            ],
            [
             0.1,
             "#c51b7d"
            ],
            [
             0.2,
             "#de77ae"
            ],
            [
             0.3,
             "#f1b6da"
            ],
            [
             0.4,
             "#fde0ef"
            ],
            [
             0.5,
             "#f7f7f7"
            ],
            [
             0.6,
             "#e6f5d0"
            ],
            [
             0.7,
             "#b8e186"
            ],
            [
             0.8,
             "#7fbc41"
            ],
            [
             0.9,
             "#4d9221"
            ],
            [
             1,
             "#276419"
            ]
           ],
           "sequential": [
            [
             0,
             "#0d0887"
            ],
            [
             0.1111111111111111,
             "#46039f"
            ],
            [
             0.2222222222222222,
             "#7201a8"
            ],
            [
             0.3333333333333333,
             "#9c179e"
            ],
            [
             0.4444444444444444,
             "#bd3786"
            ],
            [
             0.5555555555555556,
             "#d8576b"
            ],
            [
             0.6666666666666666,
             "#ed7953"
            ],
            [
             0.7777777777777778,
             "#fb9f3a"
            ],
            [
             0.8888888888888888,
             "#fdca26"
            ],
            [
             1,
             "#f0f921"
            ]
           ],
           "sequentialminus": [
            [
             0,
             "#0d0887"
            ],
            [
             0.1111111111111111,
             "#46039f"
            ],
            [
             0.2222222222222222,
             "#7201a8"
            ],
            [
             0.3333333333333333,
             "#9c179e"
            ],
            [
             0.4444444444444444,
             "#bd3786"
            ],
            [
             0.5555555555555556,
             "#d8576b"
            ],
            [
             0.6666666666666666,
             "#ed7953"
            ],
            [
             0.7777777777777778,
             "#fb9f3a"
            ],
            [
             0.8888888888888888,
             "#fdca26"
            ],
            [
             1,
             "#f0f921"
            ]
           ]
          },
          "colorway": [
           "#636efa",
           "#EF553B",
           "#00cc96",
           "#ab63fa",
           "#FFA15A",
           "#19d3f3",
           "#FF6692",
           "#B6E880",
           "#FF97FF",
           "#FECB52"
          ],
          "font": {
           "color": "#2a3f5f"
          },
          "geo": {
           "bgcolor": "white",
           "lakecolor": "white",
           "landcolor": "#E5ECF6",
           "showlakes": true,
           "showland": true,
           "subunitcolor": "white"
          },
          "hoverlabel": {
           "align": "left"
          },
          "hovermode": "closest",
          "mapbox": {
           "style": "light"
          },
          "paper_bgcolor": "white",
          "plot_bgcolor": "#E5ECF6",
          "polar": {
           "angularaxis": {
            "gridcolor": "white",
            "linecolor": "white",
            "ticks": ""
           },
           "bgcolor": "#E5ECF6",
           "radialaxis": {
            "gridcolor": "white",
            "linecolor": "white",
            "ticks": ""
           }
          },
          "scene": {
           "xaxis": {
            "backgroundcolor": "#E5ECF6",
            "gridcolor": "white",
            "gridwidth": 2,
            "linecolor": "white",
            "showbackground": true,
            "ticks": "",
            "zerolinecolor": "white"
           },
           "yaxis": {
            "backgroundcolor": "#E5ECF6",
            "gridcolor": "white",
            "gridwidth": 2,
            "linecolor": "white",
            "showbackground": true,
            "ticks": "",
            "zerolinecolor": "white"
           },
           "zaxis": {
            "backgroundcolor": "#E5ECF6",
            "gridcolor": "white",
            "gridwidth": 2,
            "linecolor": "white",
            "showbackground": true,
            "ticks": "",
            "zerolinecolor": "white"
           }
          },
          "shapedefaults": {
           "line": {
            "color": "#2a3f5f"
           }
          },
          "ternary": {
           "aaxis": {
            "gridcolor": "white",
            "linecolor": "white",
            "ticks": ""
           },
           "baxis": {
            "gridcolor": "white",
            "linecolor": "white",
            "ticks": ""
           },
           "bgcolor": "#E5ECF6",
           "caxis": {
            "gridcolor": "white",
            "linecolor": "white",
            "ticks": ""
           }
          },
          "title": {
           "x": 0.05
          },
          "xaxis": {
           "automargin": true,
           "gridcolor": "white",
           "linecolor": "white",
           "ticks": "",
           "title": {
            "standoff": 15
           },
           "zerolinecolor": "white",
           "zerolinewidth": 2
          },
          "yaxis": {
           "automargin": true,
           "gridcolor": "white",
           "linecolor": "white",
           "ticks": "",
           "title": {
            "standoff": 15
           },
           "zerolinecolor": "white",
           "zerolinewidth": 2
          }
         }
        },
        "title": {
         "text": "Stacked boxplot & histogram"
        },
        "xaxis": {
         "anchor": "y",
         "domain": [
          0,
          1
         ],
         "matches": "x2",
         "showticklabels": false
        },
        "xaxis2": {
         "anchor": "y2",
         "domain": [
          0,
          1
         ]
        },
        "yaxis": {
         "anchor": "x",
         "domain": [
          0.575,
          1
         ]
        },
        "yaxis2": {
         "anchor": "x2",
         "domain": [
          0,
          0.425
         ]
        }
       }
      },
      "text/html": [
       "<div>                            <div id=\"388bd097-8c3e-4876-9b68-2e8156b73af3\" class=\"plotly-graph-div\" style=\"height:700px; width:100%;\"></div>            <script type=\"text/javascript\">                require([\"plotly\"], function(Plotly) {                    window.PLOTLYENV=window.PLOTLYENV || {};                                    if (document.getElementById(\"388bd097-8c3e-4876-9b68-2e8156b73af3\")) {                    Plotly.newPlot(                        \"388bd097-8c3e-4876-9b68-2e8156b73af3\",                        [{\"boxmean\":true,\"type\":\"box\",\"x\":[18,19,19,19,20,20,21,21,21,21,22,22,22,22,23,23,23,23,23,23,23,23,24,24,24,24,24,25,25,25,25,25,25,25,26,26,26,26,26,26,26,27,27,27,28,28,28,28,28,28,29,29,29,30,30,31,31,32,32,33,33,34,34,35,35,35,36,37,38,38,38,38,39,40,41,43,44,46,47,50,19,20,20,20,21,21,21,23,23,23,23,23,23,23,24,24,24,25,25,25,25,25,25,25,25,25,25,25,26,26,26,27,29,30,30,31,31,31,32,32,33,33,33,33,33,34,34,34,35,35,35,35,37,38,38,40,40,40,45,48,22,22,22,23,23,23,24,24,24,24,25,25,25,25,25,25,25,26,26,27,27,27,28,28,28,29,29,30,30,30,31,33,34,35,38,40,42,45,47,48],\"xaxis\":\"x\",\"yaxis\":\"y\"},{\"type\":\"histogram\",\"x\":[18,19,19,19,20,20,21,21,21,21,22,22,22,22,23,23,23,23,23,23,23,23,24,24,24,24,24,25,25,25,25,25,25,25,26,26,26,26,26,26,26,27,27,27,28,28,28,28,28,28,29,29,29,30,30,31,31,32,32,33,33,34,34,35,35,35,36,37,38,38,38,38,39,40,41,43,44,46,47,50,19,20,20,20,21,21,21,23,23,23,23,23,23,23,24,24,24,25,25,25,25,25,25,25,25,25,25,25,26,26,26,27,29,30,30,31,31,31,32,32,33,33,33,33,33,34,34,34,35,35,35,35,37,38,38,40,40,40,45,48,22,22,22,23,23,23,24,24,24,24,25,25,25,25,25,25,25,26,26,27,27,27,28,28,28,29,29,30,30,30,31,33,34,35,38,40,42,45,47,48],\"xaxis\":\"x2\",\"yaxis\":\"y2\"}],                        {\"height\":700,\"showlegend\":false,\"template\":{\"data\":{\"bar\":[{\"error_x\":{\"color\":\"#2a3f5f\"},\"error_y\":{\"color\":\"#2a3f5f\"},\"marker\":{\"line\":{\"color\":\"#E5ECF6\",\"width\":0.5},\"pattern\":{\"fillmode\":\"overlay\",\"size\":10,\"solidity\":0.2}},\"type\":\"bar\"}],\"barpolar\":[{\"marker\":{\"line\":{\"color\":\"#E5ECF6\",\"width\":0.5},\"pattern\":{\"fillmode\":\"overlay\",\"size\":10,\"solidity\":0.2}},\"type\":\"barpolar\"}],\"carpet\":[{\"aaxis\":{\"endlinecolor\":\"#2a3f5f\",\"gridcolor\":\"white\",\"linecolor\":\"white\",\"minorgridcolor\":\"white\",\"startlinecolor\":\"#2a3f5f\"},\"baxis\":{\"endlinecolor\":\"#2a3f5f\",\"gridcolor\":\"white\",\"linecolor\":\"white\",\"minorgridcolor\":\"white\",\"startlinecolor\":\"#2a3f5f\"},\"type\":\"carpet\"}],\"choropleth\":[{\"colorbar\":{\"outlinewidth\":0,\"ticks\":\"\"},\"type\":\"choropleth\"}],\"contour\":[{\"colorbar\":{\"outlinewidth\":0,\"ticks\":\"\"},\"colorscale\":[[0.0,\"#0d0887\"],[0.1111111111111111,\"#46039f\"],[0.2222222222222222,\"#7201a8\"],[0.3333333333333333,\"#9c179e\"],[0.4444444444444444,\"#bd3786\"],[0.5555555555555556,\"#d8576b\"],[0.6666666666666666,\"#ed7953\"],[0.7777777777777778,\"#fb9f3a\"],[0.8888888888888888,\"#fdca26\"],[1.0,\"#f0f921\"]],\"type\":\"contour\"}],\"contourcarpet\":[{\"colorbar\":{\"outlinewidth\":0,\"ticks\":\"\"},\"type\":\"contourcarpet\"}],\"heatmap\":[{\"colorbar\":{\"outlinewidth\":0,\"ticks\":\"\"},\"colorscale\":[[0.0,\"#0d0887\"],[0.1111111111111111,\"#46039f\"],[0.2222222222222222,\"#7201a8\"],[0.3333333333333333,\"#9c179e\"],[0.4444444444444444,\"#bd3786\"],[0.5555555555555556,\"#d8576b\"],[0.6666666666666666,\"#ed7953\"],[0.7777777777777778,\"#fb9f3a\"],[0.8888888888888888,\"#fdca26\"],[1.0,\"#f0f921\"]],\"type\":\"heatmap\"}],\"heatmapgl\":[{\"colorbar\":{\"outlinewidth\":0,\"ticks\":\"\"},\"colorscale\":[[0.0,\"#0d0887\"],[0.1111111111111111,\"#46039f\"],[0.2222222222222222,\"#7201a8\"],[0.3333333333333333,\"#9c179e\"],[0.4444444444444444,\"#bd3786\"],[0.5555555555555556,\"#d8576b\"],[0.6666666666666666,\"#ed7953\"],[0.7777777777777778,\"#fb9f3a\"],[0.8888888888888888,\"#fdca26\"],[1.0,\"#f0f921\"]],\"type\":\"heatmapgl\"}],\"histogram\":[{\"marker\":{\"pattern\":{\"fillmode\":\"overlay\",\"size\":10,\"solidity\":0.2}},\"type\":\"histogram\"}],\"histogram2d\":[{\"colorbar\":{\"outlinewidth\":0,\"ticks\":\"\"},\"colorscale\":[[0.0,\"#0d0887\"],[0.1111111111111111,\"#46039f\"],[0.2222222222222222,\"#7201a8\"],[0.3333333333333333,\"#9c179e\"],[0.4444444444444444,\"#bd3786\"],[0.5555555555555556,\"#d8576b\"],[0.6666666666666666,\"#ed7953\"],[0.7777777777777778,\"#fb9f3a\"],[0.8888888888888888,\"#fdca26\"],[1.0,\"#f0f921\"]],\"type\":\"histogram2d\"}],\"histogram2dcontour\":[{\"colorbar\":{\"outlinewidth\":0,\"ticks\":\"\"},\"colorscale\":[[0.0,\"#0d0887\"],[0.1111111111111111,\"#46039f\"],[0.2222222222222222,\"#7201a8\"],[0.3333333333333333,\"#9c179e\"],[0.4444444444444444,\"#bd3786\"],[0.5555555555555556,\"#d8576b\"],[0.6666666666666666,\"#ed7953\"],[0.7777777777777778,\"#fb9f3a\"],[0.8888888888888888,\"#fdca26\"],[1.0,\"#f0f921\"]],\"type\":\"histogram2dcontour\"}],\"mesh3d\":[{\"colorbar\":{\"outlinewidth\":0,\"ticks\":\"\"},\"type\":\"mesh3d\"}],\"parcoords\":[{\"line\":{\"colorbar\":{\"outlinewidth\":0,\"ticks\":\"\"}},\"type\":\"parcoords\"}],\"pie\":[{\"automargin\":true,\"type\":\"pie\"}],\"scatter\":[{\"marker\":{\"colorbar\":{\"outlinewidth\":0,\"ticks\":\"\"}},\"type\":\"scatter\"}],\"scatter3d\":[{\"line\":{\"colorbar\":{\"outlinewidth\":0,\"ticks\":\"\"}},\"marker\":{\"colorbar\":{\"outlinewidth\":0,\"ticks\":\"\"}},\"type\":\"scatter3d\"}],\"scattercarpet\":[{\"marker\":{\"colorbar\":{\"outlinewidth\":0,\"ticks\":\"\"}},\"type\":\"scattercarpet\"}],\"scattergeo\":[{\"marker\":{\"colorbar\":{\"outlinewidth\":0,\"ticks\":\"\"}},\"type\":\"scattergeo\"}],\"scattergl\":[{\"marker\":{\"colorbar\":{\"outlinewidth\":0,\"ticks\":\"\"}},\"type\":\"scattergl\"}],\"scattermapbox\":[{\"marker\":{\"colorbar\":{\"outlinewidth\":0,\"ticks\":\"\"}},\"type\":\"scattermapbox\"}],\"scatterpolar\":[{\"marker\":{\"colorbar\":{\"outlinewidth\":0,\"ticks\":\"\"}},\"type\":\"scatterpolar\"}],\"scatterpolargl\":[{\"marker\":{\"colorbar\":{\"outlinewidth\":0,\"ticks\":\"\"}},\"type\":\"scatterpolargl\"}],\"scatterternary\":[{\"marker\":{\"colorbar\":{\"outlinewidth\":0,\"ticks\":\"\"}},\"type\":\"scatterternary\"}],\"surface\":[{\"colorbar\":{\"outlinewidth\":0,\"ticks\":\"\"},\"colorscale\":[[0.0,\"#0d0887\"],[0.1111111111111111,\"#46039f\"],[0.2222222222222222,\"#7201a8\"],[0.3333333333333333,\"#9c179e\"],[0.4444444444444444,\"#bd3786\"],[0.5555555555555556,\"#d8576b\"],[0.6666666666666666,\"#ed7953\"],[0.7777777777777778,\"#fb9f3a\"],[0.8888888888888888,\"#fdca26\"],[1.0,\"#f0f921\"]],\"type\":\"surface\"}],\"table\":[{\"cells\":{\"fill\":{\"color\":\"#EBF0F8\"},\"line\":{\"color\":\"white\"}},\"header\":{\"fill\":{\"color\":\"#C8D4E3\"},\"line\":{\"color\":\"white\"}},\"type\":\"table\"}]},\"layout\":{\"annotationdefaults\":{\"arrowcolor\":\"#2a3f5f\",\"arrowhead\":0,\"arrowwidth\":1},\"autotypenumbers\":\"strict\",\"coloraxis\":{\"colorbar\":{\"outlinewidth\":0,\"ticks\":\"\"}},\"colorscale\":{\"diverging\":[[0,\"#8e0152\"],[0.1,\"#c51b7d\"],[0.2,\"#de77ae\"],[0.3,\"#f1b6da\"],[0.4,\"#fde0ef\"],[0.5,\"#f7f7f7\"],[0.6,\"#e6f5d0\"],[0.7,\"#b8e186\"],[0.8,\"#7fbc41\"],[0.9,\"#4d9221\"],[1,\"#276419\"]],\"sequential\":[[0.0,\"#0d0887\"],[0.1111111111111111,\"#46039f\"],[0.2222222222222222,\"#7201a8\"],[0.3333333333333333,\"#9c179e\"],[0.4444444444444444,\"#bd3786\"],[0.5555555555555556,\"#d8576b\"],[0.6666666666666666,\"#ed7953\"],[0.7777777777777778,\"#fb9f3a\"],[0.8888888888888888,\"#fdca26\"],[1.0,\"#f0f921\"]],\"sequentialminus\":[[0.0,\"#0d0887\"],[0.1111111111111111,\"#46039f\"],[0.2222222222222222,\"#7201a8\"],[0.3333333333333333,\"#9c179e\"],[0.4444444444444444,\"#bd3786\"],[0.5555555555555556,\"#d8576b\"],[0.6666666666666666,\"#ed7953\"],[0.7777777777777778,\"#fb9f3a\"],[0.8888888888888888,\"#fdca26\"],[1.0,\"#f0f921\"]]},\"colorway\":[\"#636efa\",\"#EF553B\",\"#00cc96\",\"#ab63fa\",\"#FFA15A\",\"#19d3f3\",\"#FF6692\",\"#B6E880\",\"#FF97FF\",\"#FECB52\"],\"font\":{\"color\":\"#2a3f5f\"},\"geo\":{\"bgcolor\":\"white\",\"lakecolor\":\"white\",\"landcolor\":\"#E5ECF6\",\"showlakes\":true,\"showland\":true,\"subunitcolor\":\"white\"},\"hoverlabel\":{\"align\":\"left\"},\"hovermode\":\"closest\",\"mapbox\":{\"style\":\"light\"},\"paper_bgcolor\":\"white\",\"plot_bgcolor\":\"#E5ECF6\",\"polar\":{\"angularaxis\":{\"gridcolor\":\"white\",\"linecolor\":\"white\",\"ticks\":\"\"},\"bgcolor\":\"#E5ECF6\",\"radialaxis\":{\"gridcolor\":\"white\",\"linecolor\":\"white\",\"ticks\":\"\"}},\"scene\":{\"xaxis\":{\"backgroundcolor\":\"#E5ECF6\",\"gridcolor\":\"white\",\"gridwidth\":2,\"linecolor\":\"white\",\"showbackground\":true,\"ticks\":\"\",\"zerolinecolor\":\"white\"},\"yaxis\":{\"backgroundcolor\":\"#E5ECF6\",\"gridcolor\":\"white\",\"gridwidth\":2,\"linecolor\":\"white\",\"showbackground\":true,\"ticks\":\"\",\"zerolinecolor\":\"white\"},\"zaxis\":{\"backgroundcolor\":\"#E5ECF6\",\"gridcolor\":\"white\",\"gridwidth\":2,\"linecolor\":\"white\",\"showbackground\":true,\"ticks\":\"\",\"zerolinecolor\":\"white\"}},\"shapedefaults\":{\"line\":{\"color\":\"#2a3f5f\"}},\"ternary\":{\"aaxis\":{\"gridcolor\":\"white\",\"linecolor\":\"white\",\"ticks\":\"\"},\"baxis\":{\"gridcolor\":\"white\",\"linecolor\":\"white\",\"ticks\":\"\"},\"bgcolor\":\"#E5ECF6\",\"caxis\":{\"gridcolor\":\"white\",\"linecolor\":\"white\",\"ticks\":\"\"}},\"title\":{\"x\":0.05},\"xaxis\":{\"automargin\":true,\"gridcolor\":\"white\",\"linecolor\":\"white\",\"ticks\":\"\",\"title\":{\"standoff\":15},\"zerolinecolor\":\"white\",\"zerolinewidth\":2},\"yaxis\":{\"automargin\":true,\"gridcolor\":\"white\",\"linecolor\":\"white\",\"ticks\":\"\",\"title\":{\"standoff\":15},\"zerolinecolor\":\"white\",\"zerolinewidth\":2}}},\"title\":{\"text\":\"Stacked boxplot & histogram\"},\"xaxis\":{\"anchor\":\"y\",\"domain\":[0.0,1.0],\"matches\":\"x2\",\"showticklabels\":false},\"xaxis2\":{\"anchor\":\"y2\",\"domain\":[0.0,1.0]},\"yaxis\":{\"anchor\":\"x\",\"domain\":[0.575,1.0]},\"yaxis2\":{\"anchor\":\"x2\",\"domain\":[0.0,0.425]}},                        {\"responsive\": true}                    ).then(function(){\n",
       "                            \n",
       "var gd = document.getElementById('388bd097-8c3e-4876-9b68-2e8156b73af3');\n",
       "var x = new MutationObserver(function (mutations, observer) {{\n",
       "        var display = window.getComputedStyle(gd).display;\n",
       "        if (!display || display === 'none') {{\n",
       "            console.log([gd, 'removed!']);\n",
       "            Plotly.purge(gd);\n",
       "            observer.disconnect();\n",
       "        }}\n",
       "}});\n",
       "\n",
       "// Listen for the removal of the full notebook cells\n",
       "var notebookContainer = gd.closest('#notebook-container');\n",
       "if (notebookContainer) {{\n",
       "    x.observe(notebookContainer, {childList: true});\n",
       "}}\n",
       "\n",
       "// Listen for the clearing of the current output cell\n",
       "var outputEl = gd.closest('.output');\n",
       "if (outputEl) {{\n",
       "    x.observe(outputEl, {childList: true});\n",
       "}}\n",
       "\n",
       "                        })                };                });            </script>        </div>"
      ]
     },
     "metadata": {},
     "output_type": "display_data"
    }
   ],
   "source": [
    "from plotly.subplots import make_subplots\n",
    "import plotly.graph_objects as go\n",
    "\n",
    "# fig = make_subplots(\n",
    "#     rows=2, cols=2,\n",
    "#     specs=[[{\"type\": \"box\"}, {\"type\": \"barpolar\"}],\n",
    "#            [{\"type\": \"histogram\"}, {\"type\": \"scatter3d\"}]],\n",
    "# )\n",
    "\n",
    "fig = make_subplots(\n",
    "    rows=2, cols=1,\n",
    "    specs=[[{\"type\": \"box\"}],\n",
    "           [{\"type\": \"histogram\"}]],\n",
    "    shared_xaxes=True,\n",
    ")\n",
    "\n",
    "fig.add_trace(go.Box(x=cardio['Age'].tolist(), boxmean=True),\n",
    "              row=1, col=1,)\n",
    "\n",
    "# fig.add_trace(go.Barpolar(theta=[0, 45, 90], r=[2, 3, 1]),\n",
    "#               row=1, col=2)\n",
    "\n",
    "fig.add_trace(go.Histogram(x=cardio['Age'].tolist()),\n",
    "              row=2, col=1)\n",
    "\n",
    "# fig.add_trace(go.Scatter3d(x=[2, 3, 1], y=[0, 0, 0],\n",
    "#                            z=[0.5, 1, 2], mode=\"lines\"),\n",
    "#               row=2, col=2)\n",
    "\n",
    "fig.update_layout(height=700, showlegend=False,\n",
    "                 title_text=\"Stacked boxplot & histogram\")\n",
    "\n",
    "fig.show()"
   ]
  },
  {
   "cell_type": "code",
   "execution_count": 88,
   "metadata": {},
   "outputs": [
    {
     "data": {
      "application/vnd.plotly.v1+json": {
       "config": {
        "plotlyServerURL": "https://plot.ly"
       },
       "data": [
        {
         "alignmentgroup": "True",
         "bingroup": "x",
         "hovertemplate": "Gender=Male<br>Age=%{x}<br>count=%{y}<extra></extra>",
         "legendgroup": "Male",
         "marker": {
          "color": "#636efa",
          "pattern": {
           "shape": ""
          }
         },
         "name": "Male",
         "offsetgroup": "Male",
         "orientation": "v",
         "showlegend": true,
         "type": "histogram",
         "x": [
          18,
          19,
          19,
          20,
          21,
          21,
          22,
          23,
          23,
          23,
          23,
          23,
          24,
          24,
          25,
          25,
          25,
          26,
          26,
          26,
          26,
          27,
          28,
          28,
          29,
          30,
          30,
          31,
          32,
          34,
          35,
          36,
          38,
          38,
          38,
          39,
          40,
          41,
          43,
          47,
          19,
          20,
          20,
          21,
          21,
          23,
          23,
          23,
          23,
          24,
          25,
          25,
          25,
          25,
          25,
          25,
          26,
          27,
          31,
          32,
          32,
          33,
          33,
          34,
          34,
          35,
          35,
          38,
          40,
          45,
          48,
          22,
          22,
          22,
          23,
          23,
          24,
          24,
          24,
          25,
          25,
          25,
          25,
          25,
          25,
          26,
          27,
          27,
          27,
          28,
          28,
          29,
          29,
          30,
          30,
          31,
          34,
          35,
          38,
          40,
          42,
          45,
          47,
          48
         ],
         "xaxis": "x",
         "yaxis": "y"
        },
        {
         "alignmentgroup": "True",
         "customdata": [
          [
           "TM195",
           "Male",
           14,
           "Single",
           3,
           4,
           29562,
           112
          ],
          [
           "TM195",
           "Male",
           15,
           "Single",
           2,
           3,
           31836,
           75
          ],
          [
           "TM195",
           "Male",
           12,
           "Single",
           3,
           3,
           32973,
           85
          ],
          [
           "TM195",
           "Male",
           13,
           "Partnered",
           4,
           2,
           35247,
           47
          ],
          [
           "TM195",
           "Male",
           13,
           "Single",
           3,
           3,
           32973,
           85
          ],
          [
           "TM195",
           "Male",
           15,
           "Single",
           5,
           4,
           35247,
           141
          ],
          [
           "TM195",
           "Male",
           14,
           "Single",
           3,
           3,
           36384,
           85
          ],
          [
           "TM195",
           "Male",
           16,
           "Partnered",
           3,
           1,
           38658,
           47
          ],
          [
           "TM195",
           "Male",
           16,
           "Partnered",
           3,
           3,
           40932,
           75
          ],
          [
           "TM195",
           "Male",
           16,
           "Partnered",
           4,
           3,
           39795,
           94
          ],
          [
           "TM195",
           "Male",
           14,
           "Single",
           4,
           3,
           38658,
           113
          ],
          [
           "TM195",
           "Male",
           16,
           "Single",
           4,
           3,
           40932,
           94
          ],
          [
           "TM195",
           "Male",
           14,
           "Single",
           2,
           3,
           45480,
           113
          ],
          [
           "TM195",
           "Male",
           13,
           "Partnered",
           3,
           2,
           42069,
           47
          ],
          [
           "TM195",
           "Male",
           14,
           "Partnered",
           2,
           3,
           45480,
           56
          ],
          [
           "TM195",
           "Male",
           16,
           "Single",
           3,
           4,
           40932,
           113
          ],
          [
           "TM195",
           "Male",
           16,
           "Single",
           3,
           3,
           43206,
           85
          ],
          [
           "TM195",
           "Male",
           16,
           "Partnered",
           2,
           2,
           53439,
           47
          ],
          [
           "TM195",
           "Male",
           16,
           "Partnered",
           3,
           3,
           51165,
           85
          ],
          [
           "TM195",
           "Male",
           16,
           "Partnered",
           4,
           4,
           44343,
           132
          ],
          [
           "TM195",
           "Male",
           16,
           "Single",
           3,
           3,
           50028,
           85
          ],
          [
           "TM195",
           "Male",
           16,
           "Single",
           4,
           3,
           54576,
           85
          ],
          [
           "TM195",
           "Male",
           14,
           "Single",
           3,
           3,
           52302,
           103
          ],
          [
           "TM195",
           "Male",
           14,
           "Single",
           4,
           3,
           54576,
           113
          ],
          [
           "TM195",
           "Male",
           18,
           "Partnered",
           3,
           3,
           68220,
           85
          ],
          [
           "TM195",
           "Male",
           14,
           "Partnered",
           4,
           4,
           46617,
           141
          ],
          [
           "TM195",
           "Male",
           14,
           "Single",
           3,
           3,
           54576,
           85
          ],
          [
           "TM195",
           "Male",
           14,
           "Partnered",
           2,
           2,
           54576,
           47
          ],
          [
           "TM195",
           "Male",
           14,
           "Partnered",
           4,
           3,
           52302,
           85
          ],
          [
           "TM195",
           "Male",
           16,
           "Single",
           4,
           5,
           51165,
           169
          ],
          [
           "TM195",
           "Male",
           16,
           "Partnered",
           4,
           3,
           48891,
           85
          ],
          [
           "TM195",
           "Male",
           12,
           "Single",
           4,
           3,
           44343,
           94
          ],
          [
           "TM195",
           "Male",
           16,
           "Partnered",
           3,
           3,
           46617,
           75
          ],
          [
           "TM195",
           "Male",
           14,
           "Single",
           2,
           3,
           52302,
           56
          ],
          [
           "TM195",
           "Male",
           16,
           "Partnered",
           3,
           3,
           56850,
           75
          ],
          [
           "TM195",
           "Male",
           16,
           "Partnered",
           4,
           4,
           59124,
           132
          ],
          [
           "TM195",
           "Male",
           16,
           "Partnered",
           3,
           3,
           61398,
           66
          ],
          [
           "TM195",
           "Male",
           16,
           "Partnered",
           4,
           3,
           54576,
           103
          ],
          [
           "TM195",
           "Male",
           16,
           "Partnered",
           3,
           3,
           53439,
           66
          ],
          [
           "TM195",
           "Male",
           16,
           "Partnered",
           4,
           3,
           56850,
           94
          ],
          [
           "TM498",
           "Male",
           14,
           "Single",
           3,
           3,
           31836,
           64
          ],
          [
           "TM498",
           "Male",
           14,
           "Single",
           2,
           3,
           32973,
           53
          ],
          [
           "TM498",
           "Male",
           14,
           "Single",
           3,
           3,
           38658,
           95
          ],
          [
           "TM498",
           "Male",
           16,
           "Partnered",
           2,
           2,
           34110,
           42
          ],
          [
           "TM498",
           "Male",
           12,
           "Partnered",
           2,
           2,
           32973,
           53
          ],
          [
           "TM498",
           "Male",
           14,
           "Partnered",
           3,
           3,
           36384,
           95
          ],
          [
           "TM498",
           "Male",
           14,
           "Partnered",
           3,
           3,
           38658,
           85
          ],
          [
           "TM498",
           "Male",
           16,
           "Partnered",
           4,
           3,
           45480,
           127
          ],
          [
           "TM498",
           "Male",
           16,
           "Partnered",
           3,
           3,
           45480,
           64
          ],
          [
           "TM498",
           "Male",
           14,
           "Single",
           3,
           4,
           48891,
           106
          ],
          [
           "TM498",
           "Male",
           16,
           "Partnered",
           2,
           2,
           52302,
           42
          ],
          [
           "TM498",
           "Male",
           14,
           "Single",
           3,
           3,
           45480,
           95
          ],
          [
           "TM498",
           "Male",
           14,
           "Partnered",
           4,
           3,
           45480,
           170
          ],
          [
           "TM498",
           "Male",
           14,
           "Partnered",
           3,
           4,
           43206,
           106
          ],
          [
           "TM498",
           "Male",
           16,
           "Partnered",
           2,
           3,
           50028,
           53
          ],
          [
           "TM498",
           "Male",
           14,
           "Single",
           4,
           3,
           48891,
           127
          ],
          [
           "TM498",
           "Male",
           16,
           "Single",
           4,
           3,
           51165,
           106
          ],
          [
           "TM498",
           "Male",
           14,
           "Single",
           4,
           2,
           45480,
           53
          ],
          [
           "TM498",
           "Male",
           16,
           "Partnered",
           3,
           3,
           52302,
           95
          ],
          [
           "TM498",
           "Male",
           16,
           "Single",
           4,
           3,
           60261,
           127
          ],
          [
           "TM498",
           "Male",
           16,
           "Partnered",
           3,
           3,
           53439,
           95
          ],
          [
           "TM498",
           "Male",
           13,
           "Partnered",
           4,
           4,
           53439,
           170
          ],
          [
           "TM498",
           "Male",
           16,
           "Partnered",
           3,
           3,
           51165,
           95
          ],
          [
           "TM498",
           "Male",
           16,
           "Partnered",
           3,
           4,
           59124,
           85
          ],
          [
           "TM498",
           "Male",
           15,
           "Single",
           3,
           3,
           67083,
           85
          ],
          [
           "TM498",
           "Male",
           16,
           "Partnered",
           3,
           2,
           53439,
           53
          ],
          [
           "TM498",
           "Male",
           16,
           "Partnered",
           3,
           3,
           53439,
           95
          ],
          [
           "TM498",
           "Male",
           16,
           "Partnered",
           3,
           3,
           59124,
           106
          ],
          [
           "TM498",
           "Male",
           16,
           "Partnered",
           3,
           3,
           64809,
           95
          ],
          [
           "TM498",
           "Male",
           16,
           "Partnered",
           2,
           2,
           54576,
           42
          ],
          [
           "TM498",
           "Male",
           16,
           "Partnered",
           2,
           3,
           57987,
           64
          ],
          [
           "TM798",
           "Male",
           14,
           "Single",
           4,
           3,
           48658,
           106
          ],
          [
           "TM798",
           "Male",
           16,
           "Single",
           3,
           5,
           54781,
           120
          ],
          [
           "TM798",
           "Male",
           18,
           "Single",
           4,
           5,
           48556,
           200
          ],
          [
           "TM798",
           "Male",
           16,
           "Single",
           4,
           5,
           58516,
           140
          ],
          [
           "TM798",
           "Male",
           16,
           "Single",
           4,
           5,
           48556,
           100
          ],
          [
           "TM798",
           "Male",
           16,
           "Single",
           4,
           5,
           61006,
           100
          ],
          [
           "TM798",
           "Male",
           18,
           "Partnered",
           4,
           5,
           57271,
           80
          ],
          [
           "TM798",
           "Male",
           16,
           "Single",
           5,
           5,
           49801,
           160
          ],
          [
           "TM798",
           "Male",
           16,
           "Partnered",
           4,
           5,
           49801,
           120
          ],
          [
           "TM798",
           "Male",
           16,
           "Partnered",
           4,
           4,
           62251,
           160
          ],
          [
           "TM798",
           "Male",
           18,
           "Partnered",
           4,
           3,
           64741,
           100
          ],
          [
           "TM798",
           "Male",
           18,
           "Partnered",
           6,
           4,
           70966,
           180
          ],
          [
           "TM798",
           "Male",
           18,
           "Partnered",
           6,
           5,
           75946,
           240
          ],
          [
           "TM798",
           "Male",
           20,
           "Partnered",
           4,
           5,
           74701,
           170
          ],
          [
           "TM798",
           "Male",
           16,
           "Partnered",
           5,
           4,
           64741,
           180
          ],
          [
           "TM798",
           "Male",
           16,
           "Partnered",
           4,
           5,
           83416,
           160
          ],
          [
           "TM798",
           "Male",
           18,
           "Single",
           4,
           3,
           88396,
           100
          ],
          [
           "TM798",
           "Male",
           21,
           "Partnered",
           4,
           4,
           90886,
           100
          ],
          [
           "TM798",
           "Male",
           18,
           "Partnered",
           7,
           5,
           77191,
           180
          ],
          [
           "TM798",
           "Male",
           18,
           "Single",
           6,
           5,
           88396,
           150
          ],
          [
           "TM798",
           "Male",
           18,
           "Single",
           5,
           5,
           52290,
           180
          ],
          [
           "TM798",
           "Male",
           14,
           "Partnered",
           7,
           5,
           85906,
           300
          ],
          [
           "TM798",
           "Male",
           18,
           "Partnered",
           5,
           4,
           103336,
           160
          ],
          [
           "TM798",
           "Male",
           18,
           "Partnered",
           5,
           5,
           99601,
           150
          ],
          [
           "TM798",
           "Male",
           16,
           "Partnered",
           6,
           5,
           89641,
           260
          ],
          [
           "TM798",
           "Male",
           16,
           "Single",
           5,
           5,
           92131,
           150
          ],
          [
           "TM798",
           "Male",
           16,
           "Partnered",
           4,
           5,
           92131,
           360
          ],
          [
           "TM798",
           "Male",
           18,
           "Partnered",
           5,
           5,
           104581,
           150
          ],
          [
           "TM798",
           "Male",
           21,
           "Single",
           6,
           5,
           83416,
           200
          ],
          [
           "TM798",
           "Male",
           18,
           "Single",
           5,
           4,
           89641,
           200
          ],
          [
           "TM798",
           "Male",
           16,
           "Single",
           5,
           5,
           90886,
           160
          ],
          [
           "TM798",
           "Male",
           18,
           "Partnered",
           4,
           5,
           104581,
           120
          ],
          [
           "TM798",
           "Male",
           18,
           "Partnered",
           4,
           5,
           95508,
           180
          ]
         ],
         "hovertemplate": "Gender=%{customdata[1]}<br>Age=%{x}<br>Product=%{customdata[0]}<br>Education=%{customdata[2]}<br>MaritalStatus=%{customdata[3]}<br>Usage=%{customdata[4]}<br>Fitness=%{customdata[5]}<br>Income=%{customdata[6]}<br>Miles=%{customdata[7]}<extra></extra>",
         "legendgroup": "Male",
         "marker": {
          "color": "#636efa"
         },
         "name": "Male",
         "notched": true,
         "offsetgroup": "Male",
         "showlegend": false,
         "type": "box",
         "x": [
          18,
          19,
          19,
          20,
          21,
          21,
          22,
          23,
          23,
          23,
          23,
          23,
          24,
          24,
          25,
          25,
          25,
          26,
          26,
          26,
          26,
          27,
          28,
          28,
          29,
          30,
          30,
          31,
          32,
          34,
          35,
          36,
          38,
          38,
          38,
          39,
          40,
          41,
          43,
          47,
          19,
          20,
          20,
          21,
          21,
          23,
          23,
          23,
          23,
          24,
          25,
          25,
          25,
          25,
          25,
          25,
          26,
          27,
          31,
          32,
          32,
          33,
          33,
          34,
          34,
          35,
          35,
          38,
          40,
          45,
          48,
          22,
          22,
          22,
          23,
          23,
          24,
          24,
          24,
          25,
          25,
          25,
          25,
          25,
          25,
          26,
          27,
          27,
          27,
          28,
          28,
          29,
          29,
          30,
          30,
          31,
          34,
          35,
          38,
          40,
          42,
          45,
          47,
          48
         ],
         "xaxis": "x2",
         "yaxis": "y2"
        },
        {
         "alignmentgroup": "True",
         "bingroup": "x",
         "hovertemplate": "Gender=Female<br>Age=%{x}<br>count=%{y}<extra></extra>",
         "legendgroup": "Female",
         "marker": {
          "color": "#EF553B",
          "pattern": {
           "shape": ""
          }
         },
         "name": "Female",
         "offsetgroup": "Female",
         "orientation": "v",
         "showlegend": true,
         "type": "histogram",
         "x": [
          19,
          20,
          21,
          21,
          22,
          22,
          22,
          23,
          23,
          23,
          24,
          24,
          24,
          25,
          25,
          25,
          25,
          26,
          26,
          26,
          27,
          27,
          28,
          28,
          28,
          28,
          29,
          29,
          31,
          32,
          33,
          33,
          34,
          35,
          35,
          37,
          38,
          44,
          46,
          50,
          20,
          21,
          23,
          23,
          23,
          24,
          24,
          25,
          25,
          25,
          25,
          25,
          26,
          26,
          29,
          30,
          30,
          31,
          31,
          33,
          33,
          33,
          34,
          35,
          35,
          37,
          38,
          40,
          40,
          23,
          24,
          25,
          26,
          28,
          30,
          33
         ],
         "xaxis": "x",
         "yaxis": "y"
        },
        {
         "alignmentgroup": "True",
         "customdata": [
          [
           "TM195",
           "Female",
           14,
           "Partnered",
           4,
           3,
           30699,
           66
          ],
          [
           "TM195",
           "Female",
           14,
           "Partnered",
           3,
           3,
           32973,
           66
          ],
          [
           "TM195",
           "Female",
           14,
           "Partnered",
           3,
           3,
           35247,
           75
          ],
          [
           "TM195",
           "Female",
           15,
           "Partnered",
           2,
           3,
           37521,
           85
          ],
          [
           "TM195",
           "Female",
           14,
           "Partnered",
           3,
           2,
           35247,
           66
          ],
          [
           "TM195",
           "Female",
           16,
           "Single",
           4,
           3,
           36384,
           75
          ],
          [
           "TM195",
           "Female",
           14,
           "Single",
           3,
           3,
           35247,
           75
          ],
          [
           "TM195",
           "Female",
           14,
           "Single",
           2,
           3,
           34110,
           103
          ],
          [
           "TM195",
           "Female",
           16,
           "Single",
           4,
           3,
           38658,
           113
          ],
          [
           "TM195",
           "Female",
           15,
           "Partnered",
           2,
           2,
           34110,
           38
          ],
          [
           "TM195",
           "Female",
           16,
           "Single",
           4,
           3,
           42069,
           94
          ],
          [
           "TM195",
           "Female",
           16,
           "Partnered",
           5,
           5,
           44343,
           188
          ],
          [
           "TM195",
           "Female",
           16,
           "Single",
           4,
           3,
           46617,
           75
          ],
          [
           "TM195",
           "Female",
           14,
           "Partnered",
           3,
           3,
           48891,
           75
          ],
          [
           "TM195",
           "Female",
           14,
           "Partnered",
           2,
           2,
           53439,
           47
          ],
          [
           "TM195",
           "Female",
           14,
           "Partnered",
           3,
           3,
           39795,
           85
          ],
          [
           "TM195",
           "Female",
           16,
           "Partnered",
           2,
           2,
           40932,
           47
          ],
          [
           "TM195",
           "Female",
           14,
           "Partnered",
           3,
           4,
           44343,
           113
          ],
          [
           "TM195",
           "Female",
           16,
           "Partnered",
           4,
           3,
           52302,
           113
          ],
          [
           "TM195",
           "Female",
           16,
           "Single",
           3,
           3,
           36384,
           66
          ],
          [
           "TM195",
           "Female",
           14,
           "Partnered",
           3,
           2,
           45480,
           66
          ],
          [
           "TM195",
           "Female",
           14,
           "Partnered",
           2,
           3,
           45480,
           56
          ],
          [
           "TM195",
           "Female",
           14,
           "Partnered",
           2,
           3,
           46617,
           56
          ],
          [
           "TM195",
           "Female",
           16,
           "Partnered",
           2,
           3,
           52302,
           66
          ],
          [
           "TM195",
           "Female",
           14,
           "Partnered",
           3,
           3,
           54576,
           94
          ],
          [
           "TM195",
           "Female",
           16,
           "Partnered",
           3,
           3,
           51165,
           56
          ],
          [
           "TM195",
           "Female",
           14,
           "Partnered",
           2,
           2,
           46617,
           38
          ],
          [
           "TM195",
           "Female",
           16,
           "Partnered",
           4,
           3,
           50028,
           94
          ],
          [
           "TM195",
           "Female",
           14,
           "Single",
           2,
           2,
           45480,
           47
          ],
          [
           "TM195",
           "Female",
           14,
           "Single",
           3,
           4,
           46617,
           113
          ],
          [
           "TM195",
           "Female",
           16,
           "Single",
           2,
           2,
           55713,
           38
          ],
          [
           "TM195",
           "Female",
           16,
           "Partnered",
           3,
           3,
           46617,
           85
          ],
          [
           "TM195",
           "Female",
           16,
           "Single",
           2,
           2,
           52302,
           66
          ],
          [
           "TM195",
           "Female",
           16,
           "Partnered",
           3,
           3,
           60261,
           94
          ],
          [
           "TM195",
           "Female",
           18,
           "Single",
           3,
           3,
           67083,
           85
          ],
          [
           "TM195",
           "Female",
           16,
           "Partnered",
           3,
           3,
           37521,
           85
          ],
          [
           "TM195",
           "Female",
           14,
           "Partnered",
           2,
           3,
           54576,
           56
          ],
          [
           "TM195",
           "Female",
           16,
           "Single",
           3,
           4,
           57987,
           75
          ],
          [
           "TM195",
           "Female",
           16,
           "Partnered",
           3,
           2,
           60261,
           47
          ],
          [
           "TM195",
           "Female",
           16,
           "Partnered",
           3,
           3,
           64809,
           66
          ],
          [
           "TM498",
           "Female",
           14,
           "Partnered",
           3,
           3,
           34110,
           106
          ],
          [
           "TM498",
           "Female",
           14,
           "Partnered",
           5,
           4,
           34110,
           212
          ],
          [
           "TM498",
           "Female",
           16,
           "Single",
           3,
           3,
           45480,
           95
          ],
          [
           "TM498",
           "Female",
           16,
           "Partnered",
           3,
           2,
           43206,
           74
          ],
          [
           "TM498",
           "Female",
           14,
           "Single",
           3,
           2,
           40932,
           53
          ],
          [
           "TM498",
           "Female",
           14,
           "Single",
           3,
           2,
           40932,
           85
          ],
          [
           "TM498",
           "Female",
           16,
           "Single",
           3,
           3,
           50028,
           106
          ],
          [
           "TM498",
           "Female",
           14,
           "Partnered",
           2,
           3,
           45480,
           85
          ],
          [
           "TM498",
           "Female",
           14,
           "Single",
           3,
           4,
           43206,
           127
          ],
          [
           "TM498",
           "Female",
           14,
           "Partnered",
           5,
           3,
           47754,
           106
          ],
          [
           "TM498",
           "Female",
           14,
           "Single",
           2,
           3,
           43206,
           64
          ],
          [
           "TM498",
           "Female",
           14,
           "Single",
           2,
           2,
           45480,
           42
          ],
          [
           "TM498",
           "Female",
           16,
           "Partnered",
           4,
           3,
           45480,
           85
          ],
          [
           "TM498",
           "Female",
           16,
           "Single",
           4,
           4,
           50028,
           127
          ],
          [
           "TM498",
           "Female",
           14,
           "Partnered",
           3,
           3,
           51165,
           95
          ],
          [
           "TM498",
           "Female",
           14,
           "Single",
           3,
           3,
           57987,
           74
          ],
          [
           "TM498",
           "Female",
           13,
           "Single",
           4,
           3,
           46617,
           106
          ],
          [
           "TM498",
           "Female",
           16,
           "Partnered",
           2,
           3,
           51165,
           64
          ],
          [
           "TM498",
           "Female",
           18,
           "Single",
           2,
           1,
           65220,
           21
          ],
          [
           "TM498",
           "Female",
           16,
           "Partnered",
           2,
           3,
           50028,
           85
          ],
          [
           "TM498",
           "Female",
           16,
           "Partnered",
           5,
           3,
           53439,
           95
          ],
          [
           "TM498",
           "Female",
           18,
           "Single",
           3,
           4,
           47754,
           74
          ],
          [
           "TM498",
           "Female",
           16,
           "Partnered",
           4,
           3,
           64809,
           95
          ],
          [
           "TM498",
           "Female",
           14,
           "Partnered",
           3,
           2,
           52302,
           53
          ],
          [
           "TM498",
           "Female",
           16,
           "Single",
           3,
           2,
           50028,
           64
          ],
          [
           "TM498",
           "Female",
           16,
           "Partnered",
           2,
           3,
           48891,
           85
          ],
          [
           "TM498",
           "Female",
           16,
           "Partnered",
           4,
           3,
           62535,
           85
          ],
          [
           "TM498",
           "Female",
           16,
           "Partnered",
           3,
           3,
           61398,
           85
          ],
          [
           "TM498",
           "Female",
           16,
           "Single",
           3,
           3,
           57987,
           85
          ],
          [
           "TM798",
           "Female",
           18,
           "Single",
           5,
           4,
           53536,
           100
          ],
          [
           "TM798",
           "Female",
           16,
           "Single",
           5,
           5,
           52291,
           200
          ],
          [
           "TM798",
           "Female",
           18,
           "Partnered",
           5,
           5,
           61006,
           200
          ],
          [
           "TM798",
           "Female",
           21,
           "Single",
           4,
           3,
           69721,
           100
          ],
          [
           "TM798",
           "Female",
           18,
           "Partnered",
           6,
           5,
           92131,
           180
          ],
          [
           "TM798",
           "Female",
           16,
           "Partnered",
           6,
           5,
           90886,
           280
          ],
          [
           "TM798",
           "Female",
           18,
           "Partnered",
           4,
           5,
           95866,
           200
          ]
         ],
         "hovertemplate": "Gender=%{customdata[1]}<br>Age=%{x}<br>Product=%{customdata[0]}<br>Education=%{customdata[2]}<br>MaritalStatus=%{customdata[3]}<br>Usage=%{customdata[4]}<br>Fitness=%{customdata[5]}<br>Income=%{customdata[6]}<br>Miles=%{customdata[7]}<extra></extra>",
         "legendgroup": "Female",
         "marker": {
          "color": "#EF553B"
         },
         "name": "Female",
         "notched": true,
         "offsetgroup": "Female",
         "showlegend": false,
         "type": "box",
         "x": [
          19,
          20,
          21,
          21,
          22,
          22,
          22,
          23,
          23,
          23,
          24,
          24,
          24,
          25,
          25,
          25,
          25,
          26,
          26,
          26,
          27,
          27,
          28,
          28,
          28,
          28,
          29,
          29,
          31,
          32,
          33,
          33,
          34,
          35,
          35,
          37,
          38,
          44,
          46,
          50,
          20,
          21,
          23,
          23,
          23,
          24,
          24,
          25,
          25,
          25,
          25,
          25,
          26,
          26,
          29,
          30,
          30,
          31,
          31,
          33,
          33,
          33,
          34,
          35,
          35,
          37,
          38,
          40,
          40,
          23,
          24,
          25,
          26,
          28,
          30,
          33
         ],
         "xaxis": "x2",
         "yaxis": "y2"
        }
       ],
       "layout": {
        "barmode": "relative",
        "legend": {
         "title": {
          "text": "Gender"
         },
         "tracegroupgap": 0
        },
        "margin": {
         "t": 60
        },
        "template": {
         "data": {
          "bar": [
           {
            "error_x": {
             "color": "#2a3f5f"
            },
            "error_y": {
             "color": "#2a3f5f"
            },
            "marker": {
             "line": {
              "color": "#E5ECF6",
              "width": 0.5
             },
             "pattern": {
              "fillmode": "overlay",
              "size": 10,
              "solidity": 0.2
             }
            },
            "type": "bar"
           }
          ],
          "barpolar": [
           {
            "marker": {
             "line": {
              "color": "#E5ECF6",
              "width": 0.5
             },
             "pattern": {
              "fillmode": "overlay",
              "size": 10,
              "solidity": 0.2
             }
            },
            "type": "barpolar"
           }
          ],
          "carpet": [
           {
            "aaxis": {
             "endlinecolor": "#2a3f5f",
             "gridcolor": "white",
             "linecolor": "white",
             "minorgridcolor": "white",
             "startlinecolor": "#2a3f5f"
            },
            "baxis": {
             "endlinecolor": "#2a3f5f",
             "gridcolor": "white",
             "linecolor": "white",
             "minorgridcolor": "white",
             "startlinecolor": "#2a3f5f"
            },
            "type": "carpet"
           }
          ],
          "choropleth": [
           {
            "colorbar": {
             "outlinewidth": 0,
             "ticks": ""
            },
            "type": "choropleth"
           }
          ],
          "contour": [
           {
            "colorbar": {
             "outlinewidth": 0,
             "ticks": ""
            },
            "colorscale": [
             [
              0,
              "#0d0887"
             ],
             [
              0.1111111111111111,
              "#46039f"
             ],
             [
              0.2222222222222222,
              "#7201a8"
             ],
             [
              0.3333333333333333,
              "#9c179e"
             ],
             [
              0.4444444444444444,
              "#bd3786"
             ],
             [
              0.5555555555555556,
              "#d8576b"
             ],
             [
              0.6666666666666666,
              "#ed7953"
             ],
             [
              0.7777777777777778,
              "#fb9f3a"
             ],
             [
              0.8888888888888888,
              "#fdca26"
             ],
             [
              1,
              "#f0f921"
             ]
            ],
            "type": "contour"
           }
          ],
          "contourcarpet": [
           {
            "colorbar": {
             "outlinewidth": 0,
             "ticks": ""
            },
            "type": "contourcarpet"
           }
          ],
          "heatmap": [
           {
            "colorbar": {
             "outlinewidth": 0,
             "ticks": ""
            },
            "colorscale": [
             [
              0,
              "#0d0887"
             ],
             [
              0.1111111111111111,
              "#46039f"
             ],
             [
              0.2222222222222222,
              "#7201a8"
             ],
             [
              0.3333333333333333,
              "#9c179e"
             ],
             [
              0.4444444444444444,
              "#bd3786"
             ],
             [
              0.5555555555555556,
              "#d8576b"
             ],
             [
              0.6666666666666666,
              "#ed7953"
             ],
             [
              0.7777777777777778,
              "#fb9f3a"
             ],
             [
              0.8888888888888888,
              "#fdca26"
             ],
             [
              1,
              "#f0f921"
             ]
            ],
            "type": "heatmap"
           }
          ],
          "heatmapgl": [
           {
            "colorbar": {
             "outlinewidth": 0,
             "ticks": ""
            },
            "colorscale": [
             [
              0,
              "#0d0887"
             ],
             [
              0.1111111111111111,
              "#46039f"
             ],
             [
              0.2222222222222222,
              "#7201a8"
             ],
             [
              0.3333333333333333,
              "#9c179e"
             ],
             [
              0.4444444444444444,
              "#bd3786"
             ],
             [
              0.5555555555555556,
              "#d8576b"
             ],
             [
              0.6666666666666666,
              "#ed7953"
             ],
             [
              0.7777777777777778,
              "#fb9f3a"
             ],
             [
              0.8888888888888888,
              "#fdca26"
             ],
             [
              1,
              "#f0f921"
             ]
            ],
            "type": "heatmapgl"
           }
          ],
          "histogram": [
           {
            "marker": {
             "pattern": {
              "fillmode": "overlay",
              "size": 10,
              "solidity": 0.2
             }
            },
            "type": "histogram"
           }
          ],
          "histogram2d": [
           {
            "colorbar": {
             "outlinewidth": 0,
             "ticks": ""
            },
            "colorscale": [
             [
              0,
              "#0d0887"
             ],
             [
              0.1111111111111111,
              "#46039f"
             ],
             [
              0.2222222222222222,
              "#7201a8"
             ],
             [
              0.3333333333333333,
              "#9c179e"
             ],
             [
              0.4444444444444444,
              "#bd3786"
             ],
             [
              0.5555555555555556,
              "#d8576b"
             ],
             [
              0.6666666666666666,
              "#ed7953"
             ],
             [
              0.7777777777777778,
              "#fb9f3a"
             ],
             [
              0.8888888888888888,
              "#fdca26"
             ],
             [
              1,
              "#f0f921"
             ]
            ],
            "type": "histogram2d"
           }
          ],
          "histogram2dcontour": [
           {
            "colorbar": {
             "outlinewidth": 0,
             "ticks": ""
            },
            "colorscale": [
             [
              0,
              "#0d0887"
             ],
             [
              0.1111111111111111,
              "#46039f"
             ],
             [
              0.2222222222222222,
              "#7201a8"
             ],
             [
              0.3333333333333333,
              "#9c179e"
             ],
             [
              0.4444444444444444,
              "#bd3786"
             ],
             [
              0.5555555555555556,
              "#d8576b"
             ],
             [
              0.6666666666666666,
              "#ed7953"
             ],
             [
              0.7777777777777778,
              "#fb9f3a"
             ],
             [
              0.8888888888888888,
              "#fdca26"
             ],
             [
              1,
              "#f0f921"
             ]
            ],
            "type": "histogram2dcontour"
           }
          ],
          "mesh3d": [
           {
            "colorbar": {
             "outlinewidth": 0,
             "ticks": ""
            },
            "type": "mesh3d"
           }
          ],
          "parcoords": [
           {
            "line": {
             "colorbar": {
              "outlinewidth": 0,
              "ticks": ""
             }
            },
            "type": "parcoords"
           }
          ],
          "pie": [
           {
            "automargin": true,
            "type": "pie"
           }
          ],
          "scatter": [
           {
            "marker": {
             "colorbar": {
              "outlinewidth": 0,
              "ticks": ""
             }
            },
            "type": "scatter"
           }
          ],
          "scatter3d": [
           {
            "line": {
             "colorbar": {
              "outlinewidth": 0,
              "ticks": ""
             }
            },
            "marker": {
             "colorbar": {
              "outlinewidth": 0,
              "ticks": ""
             }
            },
            "type": "scatter3d"
           }
          ],
          "scattercarpet": [
           {
            "marker": {
             "colorbar": {
              "outlinewidth": 0,
              "ticks": ""
             }
            },
            "type": "scattercarpet"
           }
          ],
          "scattergeo": [
           {
            "marker": {
             "colorbar": {
              "outlinewidth": 0,
              "ticks": ""
             }
            },
            "type": "scattergeo"
           }
          ],
          "scattergl": [
           {
            "marker": {
             "colorbar": {
              "outlinewidth": 0,
              "ticks": ""
             }
            },
            "type": "scattergl"
           }
          ],
          "scattermapbox": [
           {
            "marker": {
             "colorbar": {
              "outlinewidth": 0,
              "ticks": ""
             }
            },
            "type": "scattermapbox"
           }
          ],
          "scatterpolar": [
           {
            "marker": {
             "colorbar": {
              "outlinewidth": 0,
              "ticks": ""
             }
            },
            "type": "scatterpolar"
           }
          ],
          "scatterpolargl": [
           {
            "marker": {
             "colorbar": {
              "outlinewidth": 0,
              "ticks": ""
             }
            },
            "type": "scatterpolargl"
           }
          ],
          "scatterternary": [
           {
            "marker": {
             "colorbar": {
              "outlinewidth": 0,
              "ticks": ""
             }
            },
            "type": "scatterternary"
           }
          ],
          "surface": [
           {
            "colorbar": {
             "outlinewidth": 0,
             "ticks": ""
            },
            "colorscale": [
             [
              0,
              "#0d0887"
             ],
             [
              0.1111111111111111,
              "#46039f"
             ],
             [
              0.2222222222222222,
              "#7201a8"
             ],
             [
              0.3333333333333333,
              "#9c179e"
             ],
             [
              0.4444444444444444,
              "#bd3786"
             ],
             [
              0.5555555555555556,
              "#d8576b"
             ],
             [
              0.6666666666666666,
              "#ed7953"
             ],
             [
              0.7777777777777778,
              "#fb9f3a"
             ],
             [
              0.8888888888888888,
              "#fdca26"
             ],
             [
              1,
              "#f0f921"
             ]
            ],
            "type": "surface"
           }
          ],
          "table": [
           {
            "cells": {
             "fill": {
              "color": "#EBF0F8"
             },
             "line": {
              "color": "white"
             }
            },
            "header": {
             "fill": {
              "color": "#C8D4E3"
             },
             "line": {
              "color": "white"
             }
            },
            "type": "table"
           }
          ]
         },
         "layout": {
          "annotationdefaults": {
           "arrowcolor": "#2a3f5f",
           "arrowhead": 0,
           "arrowwidth": 1
          },
          "autotypenumbers": "strict",
          "coloraxis": {
           "colorbar": {
            "outlinewidth": 0,
            "ticks": ""
           }
          },
          "colorscale": {
           "diverging": [
            [
             0,
             "#8e0152"
            ],
            [
             0.1,
             "#c51b7d"
            ],
            [
             0.2,
             "#de77ae"
            ],
            [
             0.3,
             "#f1b6da"
            ],
            [
             0.4,
             "#fde0ef"
            ],
            [
             0.5,
             "#f7f7f7"
            ],
            [
             0.6,
             "#e6f5d0"
            ],
            [
             0.7,
             "#b8e186"
            ],
            [
             0.8,
             "#7fbc41"
            ],
            [
             0.9,
             "#4d9221"
            ],
            [
             1,
             "#276419"
            ]
           ],
           "sequential": [
            [
             0,
             "#0d0887"
            ],
            [
             0.1111111111111111,
             "#46039f"
            ],
            [
             0.2222222222222222,
             "#7201a8"
            ],
            [
             0.3333333333333333,
             "#9c179e"
            ],
            [
             0.4444444444444444,
             "#bd3786"
            ],
            [
             0.5555555555555556,
             "#d8576b"
            ],
            [
             0.6666666666666666,
             "#ed7953"
            ],
            [
             0.7777777777777778,
             "#fb9f3a"
            ],
            [
             0.8888888888888888,
             "#fdca26"
            ],
            [
             1,
             "#f0f921"
            ]
           ],
           "sequentialminus": [
            [
             0,
             "#0d0887"
            ],
            [
             0.1111111111111111,
             "#46039f"
            ],
            [
             0.2222222222222222,
             "#7201a8"
            ],
            [
             0.3333333333333333,
             "#9c179e"
            ],
            [
             0.4444444444444444,
             "#bd3786"
            ],
            [
             0.5555555555555556,
             "#d8576b"
            ],
            [
             0.6666666666666666,
             "#ed7953"
            ],
            [
             0.7777777777777778,
             "#fb9f3a"
            ],
            [
             0.8888888888888888,
             "#fdca26"
            ],
            [
             1,
             "#f0f921"
            ]
           ]
          },
          "colorway": [
           "#636efa",
           "#EF553B",
           "#00cc96",
           "#ab63fa",
           "#FFA15A",
           "#19d3f3",
           "#FF6692",
           "#B6E880",
           "#FF97FF",
           "#FECB52"
          ],
          "font": {
           "color": "#2a3f5f"
          },
          "geo": {
           "bgcolor": "white",
           "lakecolor": "white",
           "landcolor": "#E5ECF6",
           "showlakes": true,
           "showland": true,
           "subunitcolor": "white"
          },
          "hoverlabel": {
           "align": "left"
          },
          "hovermode": "closest",
          "mapbox": {
           "style": "light"
          },
          "paper_bgcolor": "white",
          "plot_bgcolor": "#E5ECF6",
          "polar": {
           "angularaxis": {
            "gridcolor": "white",
            "linecolor": "white",
            "ticks": ""
           },
           "bgcolor": "#E5ECF6",
           "radialaxis": {
            "gridcolor": "white",
            "linecolor": "white",
            "ticks": ""
           }
          },
          "scene": {
           "xaxis": {
            "backgroundcolor": "#E5ECF6",
            "gridcolor": "white",
            "gridwidth": 2,
            "linecolor": "white",
            "showbackground": true,
            "ticks": "",
            "zerolinecolor": "white"
           },
           "yaxis": {
            "backgroundcolor": "#E5ECF6",
            "gridcolor": "white",
            "gridwidth": 2,
            "linecolor": "white",
            "showbackground": true,
            "ticks": "",
            "zerolinecolor": "white"
           },
           "zaxis": {
            "backgroundcolor": "#E5ECF6",
            "gridcolor": "white",
            "gridwidth": 2,
            "linecolor": "white",
            "showbackground": true,
            "ticks": "",
            "zerolinecolor": "white"
           }
          },
          "shapedefaults": {
           "line": {
            "color": "#2a3f5f"
           }
          },
          "ternary": {
           "aaxis": {
            "gridcolor": "white",
            "linecolor": "white",
            "ticks": ""
           },
           "baxis": {
            "gridcolor": "white",
            "linecolor": "white",
            "ticks": ""
           },
           "bgcolor": "#E5ECF6",
           "caxis": {
            "gridcolor": "white",
            "linecolor": "white",
            "ticks": ""
           }
          },
          "title": {
           "x": 0.05
          },
          "xaxis": {
           "automargin": true,
           "gridcolor": "white",
           "linecolor": "white",
           "ticks": "",
           "title": {
            "standoff": 15
           },
           "zerolinecolor": "white",
           "zerolinewidth": 2
          },
          "yaxis": {
           "automargin": true,
           "gridcolor": "white",
           "linecolor": "white",
           "ticks": "",
           "title": {
            "standoff": 15
           },
           "zerolinecolor": "white",
           "zerolinewidth": 2
          }
         }
        },
        "xaxis": {
         "anchor": "y",
         "domain": [
          0,
          1
         ],
         "title": {
          "text": "Age"
         }
        },
        "xaxis2": {
         "anchor": "y2",
         "domain": [
          0,
          1
         ],
         "matches": "x",
         "showgrid": true,
         "showticklabels": false
        },
        "yaxis": {
         "anchor": "x",
         "domain": [
          0,
          0.7326
         ],
         "title": {
          "text": "count"
         }
        },
        "yaxis2": {
         "anchor": "x2",
         "domain": [
          0.7426,
          1
         ],
         "matches": "y2",
         "showgrid": false,
         "showline": false,
         "showticklabels": false,
         "ticks": ""
        }
       }
      },
      "text/html": [
       "<div>                            <div id=\"cdb159bb-98de-41e8-a9bc-91b7a50ec436\" class=\"plotly-graph-div\" style=\"height:525px; width:100%;\"></div>            <script type=\"text/javascript\">                require([\"plotly\"], function(Plotly) {                    window.PLOTLYENV=window.PLOTLYENV || {};                                    if (document.getElementById(\"cdb159bb-98de-41e8-a9bc-91b7a50ec436\")) {                    Plotly.newPlot(                        \"cdb159bb-98de-41e8-a9bc-91b7a50ec436\",                        [{\"alignmentgroup\":\"True\",\"bingroup\":\"x\",\"hovertemplate\":\"Gender=Male<br>Age=%{x}<br>count=%{y}<extra></extra>\",\"legendgroup\":\"Male\",\"marker\":{\"color\":\"#636efa\",\"pattern\":{\"shape\":\"\"}},\"name\":\"Male\",\"offsetgroup\":\"Male\",\"orientation\":\"v\",\"showlegend\":true,\"type\":\"histogram\",\"x\":[18,19,19,20,21,21,22,23,23,23,23,23,24,24,25,25,25,26,26,26,26,27,28,28,29,30,30,31,32,34,35,36,38,38,38,39,40,41,43,47,19,20,20,21,21,23,23,23,23,24,25,25,25,25,25,25,26,27,31,32,32,33,33,34,34,35,35,38,40,45,48,22,22,22,23,23,24,24,24,25,25,25,25,25,25,26,27,27,27,28,28,29,29,30,30,31,34,35,38,40,42,45,47,48],\"xaxis\":\"x\",\"yaxis\":\"y\"},{\"alignmentgroup\":\"True\",\"customdata\":[[\"TM195\",\"Male\",14,\"Single\",3,4,29562,112],[\"TM195\",\"Male\",15,\"Single\",2,3,31836,75],[\"TM195\",\"Male\",12,\"Single\",3,3,32973,85],[\"TM195\",\"Male\",13,\"Partnered\",4,2,35247,47],[\"TM195\",\"Male\",13,\"Single\",3,3,32973,85],[\"TM195\",\"Male\",15,\"Single\",5,4,35247,141],[\"TM195\",\"Male\",14,\"Single\",3,3,36384,85],[\"TM195\",\"Male\",16,\"Partnered\",3,1,38658,47],[\"TM195\",\"Male\",16,\"Partnered\",3,3,40932,75],[\"TM195\",\"Male\",16,\"Partnered\",4,3,39795,94],[\"TM195\",\"Male\",14,\"Single\",4,3,38658,113],[\"TM195\",\"Male\",16,\"Single\",4,3,40932,94],[\"TM195\",\"Male\",14,\"Single\",2,3,45480,113],[\"TM195\",\"Male\",13,\"Partnered\",3,2,42069,47],[\"TM195\",\"Male\",14,\"Partnered\",2,3,45480,56],[\"TM195\",\"Male\",16,\"Single\",3,4,40932,113],[\"TM195\",\"Male\",16,\"Single\",3,3,43206,85],[\"TM195\",\"Male\",16,\"Partnered\",2,2,53439,47],[\"TM195\",\"Male\",16,\"Partnered\",3,3,51165,85],[\"TM195\",\"Male\",16,\"Partnered\",4,4,44343,132],[\"TM195\",\"Male\",16,\"Single\",3,3,50028,85],[\"TM195\",\"Male\",16,\"Single\",4,3,54576,85],[\"TM195\",\"Male\",14,\"Single\",3,3,52302,103],[\"TM195\",\"Male\",14,\"Single\",4,3,54576,113],[\"TM195\",\"Male\",18,\"Partnered\",3,3,68220,85],[\"TM195\",\"Male\",14,\"Partnered\",4,4,46617,141],[\"TM195\",\"Male\",14,\"Single\",3,3,54576,85],[\"TM195\",\"Male\",14,\"Partnered\",2,2,54576,47],[\"TM195\",\"Male\",14,\"Partnered\",4,3,52302,85],[\"TM195\",\"Male\",16,\"Single\",4,5,51165,169],[\"TM195\",\"Male\",16,\"Partnered\",4,3,48891,85],[\"TM195\",\"Male\",12,\"Single\",4,3,44343,94],[\"TM195\",\"Male\",16,\"Partnered\",3,3,46617,75],[\"TM195\",\"Male\",14,\"Single\",2,3,52302,56],[\"TM195\",\"Male\",16,\"Partnered\",3,3,56850,75],[\"TM195\",\"Male\",16,\"Partnered\",4,4,59124,132],[\"TM195\",\"Male\",16,\"Partnered\",3,3,61398,66],[\"TM195\",\"Male\",16,\"Partnered\",4,3,54576,103],[\"TM195\",\"Male\",16,\"Partnered\",3,3,53439,66],[\"TM195\",\"Male\",16,\"Partnered\",4,3,56850,94],[\"TM498\",\"Male\",14,\"Single\",3,3,31836,64],[\"TM498\",\"Male\",14,\"Single\",2,3,32973,53],[\"TM498\",\"Male\",14,\"Single\",3,3,38658,95],[\"TM498\",\"Male\",16,\"Partnered\",2,2,34110,42],[\"TM498\",\"Male\",12,\"Partnered\",2,2,32973,53],[\"TM498\",\"Male\",14,\"Partnered\",3,3,36384,95],[\"TM498\",\"Male\",14,\"Partnered\",3,3,38658,85],[\"TM498\",\"Male\",16,\"Partnered\",4,3,45480,127],[\"TM498\",\"Male\",16,\"Partnered\",3,3,45480,64],[\"TM498\",\"Male\",14,\"Single\",3,4,48891,106],[\"TM498\",\"Male\",16,\"Partnered\",2,2,52302,42],[\"TM498\",\"Male\",14,\"Single\",3,3,45480,95],[\"TM498\",\"Male\",14,\"Partnered\",4,3,45480,170],[\"TM498\",\"Male\",14,\"Partnered\",3,4,43206,106],[\"TM498\",\"Male\",16,\"Partnered\",2,3,50028,53],[\"TM498\",\"Male\",14,\"Single\",4,3,48891,127],[\"TM498\",\"Male\",16,\"Single\",4,3,51165,106],[\"TM498\",\"Male\",14,\"Single\",4,2,45480,53],[\"TM498\",\"Male\",16,\"Partnered\",3,3,52302,95],[\"TM498\",\"Male\",16,\"Single\",4,3,60261,127],[\"TM498\",\"Male\",16,\"Partnered\",3,3,53439,95],[\"TM498\",\"Male\",13,\"Partnered\",4,4,53439,170],[\"TM498\",\"Male\",16,\"Partnered\",3,3,51165,95],[\"TM498\",\"Male\",16,\"Partnered\",3,4,59124,85],[\"TM498\",\"Male\",15,\"Single\",3,3,67083,85],[\"TM498\",\"Male\",16,\"Partnered\",3,2,53439,53],[\"TM498\",\"Male\",16,\"Partnered\",3,3,53439,95],[\"TM498\",\"Male\",16,\"Partnered\",3,3,59124,106],[\"TM498\",\"Male\",16,\"Partnered\",3,3,64809,95],[\"TM498\",\"Male\",16,\"Partnered\",2,2,54576,42],[\"TM498\",\"Male\",16,\"Partnered\",2,3,57987,64],[\"TM798\",\"Male\",14,\"Single\",4,3,48658,106],[\"TM798\",\"Male\",16,\"Single\",3,5,54781,120],[\"TM798\",\"Male\",18,\"Single\",4,5,48556,200],[\"TM798\",\"Male\",16,\"Single\",4,5,58516,140],[\"TM798\",\"Male\",16,\"Single\",4,5,48556,100],[\"TM798\",\"Male\",16,\"Single\",4,5,61006,100],[\"TM798\",\"Male\",18,\"Partnered\",4,5,57271,80],[\"TM798\",\"Male\",16,\"Single\",5,5,49801,160],[\"TM798\",\"Male\",16,\"Partnered\",4,5,49801,120],[\"TM798\",\"Male\",16,\"Partnered\",4,4,62251,160],[\"TM798\",\"Male\",18,\"Partnered\",4,3,64741,100],[\"TM798\",\"Male\",18,\"Partnered\",6,4,70966,180],[\"TM798\",\"Male\",18,\"Partnered\",6,5,75946,240],[\"TM798\",\"Male\",20,\"Partnered\",4,5,74701,170],[\"TM798\",\"Male\",16,\"Partnered\",5,4,64741,180],[\"TM798\",\"Male\",16,\"Partnered\",4,5,83416,160],[\"TM798\",\"Male\",18,\"Single\",4,3,88396,100],[\"TM798\",\"Male\",21,\"Partnered\",4,4,90886,100],[\"TM798\",\"Male\",18,\"Partnered\",7,5,77191,180],[\"TM798\",\"Male\",18,\"Single\",6,5,88396,150],[\"TM798\",\"Male\",18,\"Single\",5,5,52290,180],[\"TM798\",\"Male\",14,\"Partnered\",7,5,85906,300],[\"TM798\",\"Male\",18,\"Partnered\",5,4,103336,160],[\"TM798\",\"Male\",18,\"Partnered\",5,5,99601,150],[\"TM798\",\"Male\",16,\"Partnered\",6,5,89641,260],[\"TM798\",\"Male\",16,\"Single\",5,5,92131,150],[\"TM798\",\"Male\",16,\"Partnered\",4,5,92131,360],[\"TM798\",\"Male\",18,\"Partnered\",5,5,104581,150],[\"TM798\",\"Male\",21,\"Single\",6,5,83416,200],[\"TM798\",\"Male\",18,\"Single\",5,4,89641,200],[\"TM798\",\"Male\",16,\"Single\",5,5,90886,160],[\"TM798\",\"Male\",18,\"Partnered\",4,5,104581,120],[\"TM798\",\"Male\",18,\"Partnered\",4,5,95508,180]],\"hovertemplate\":\"Gender=%{customdata[1]}<br>Age=%{x}<br>Product=%{customdata[0]}<br>Education=%{customdata[2]}<br>MaritalStatus=%{customdata[3]}<br>Usage=%{customdata[4]}<br>Fitness=%{customdata[5]}<br>Income=%{customdata[6]}<br>Miles=%{customdata[7]}<extra></extra>\",\"legendgroup\":\"Male\",\"marker\":{\"color\":\"#636efa\"},\"name\":\"Male\",\"notched\":true,\"offsetgroup\":\"Male\",\"showlegend\":false,\"type\":\"box\",\"x\":[18,19,19,20,21,21,22,23,23,23,23,23,24,24,25,25,25,26,26,26,26,27,28,28,29,30,30,31,32,34,35,36,38,38,38,39,40,41,43,47,19,20,20,21,21,23,23,23,23,24,25,25,25,25,25,25,26,27,31,32,32,33,33,34,34,35,35,38,40,45,48,22,22,22,23,23,24,24,24,25,25,25,25,25,25,26,27,27,27,28,28,29,29,30,30,31,34,35,38,40,42,45,47,48],\"xaxis\":\"x2\",\"yaxis\":\"y2\"},{\"alignmentgroup\":\"True\",\"bingroup\":\"x\",\"hovertemplate\":\"Gender=Female<br>Age=%{x}<br>count=%{y}<extra></extra>\",\"legendgroup\":\"Female\",\"marker\":{\"color\":\"#EF553B\",\"pattern\":{\"shape\":\"\"}},\"name\":\"Female\",\"offsetgroup\":\"Female\",\"orientation\":\"v\",\"showlegend\":true,\"type\":\"histogram\",\"x\":[19,20,21,21,22,22,22,23,23,23,24,24,24,25,25,25,25,26,26,26,27,27,28,28,28,28,29,29,31,32,33,33,34,35,35,37,38,44,46,50,20,21,23,23,23,24,24,25,25,25,25,25,26,26,29,30,30,31,31,33,33,33,34,35,35,37,38,40,40,23,24,25,26,28,30,33],\"xaxis\":\"x\",\"yaxis\":\"y\"},{\"alignmentgroup\":\"True\",\"customdata\":[[\"TM195\",\"Female\",14,\"Partnered\",4,3,30699,66],[\"TM195\",\"Female\",14,\"Partnered\",3,3,32973,66],[\"TM195\",\"Female\",14,\"Partnered\",3,3,35247,75],[\"TM195\",\"Female\",15,\"Partnered\",2,3,37521,85],[\"TM195\",\"Female\",14,\"Partnered\",3,2,35247,66],[\"TM195\",\"Female\",16,\"Single\",4,3,36384,75],[\"TM195\",\"Female\",14,\"Single\",3,3,35247,75],[\"TM195\",\"Female\",14,\"Single\",2,3,34110,103],[\"TM195\",\"Female\",16,\"Single\",4,3,38658,113],[\"TM195\",\"Female\",15,\"Partnered\",2,2,34110,38],[\"TM195\",\"Female\",16,\"Single\",4,3,42069,94],[\"TM195\",\"Female\",16,\"Partnered\",5,5,44343,188],[\"TM195\",\"Female\",16,\"Single\",4,3,46617,75],[\"TM195\",\"Female\",14,\"Partnered\",3,3,48891,75],[\"TM195\",\"Female\",14,\"Partnered\",2,2,53439,47],[\"TM195\",\"Female\",14,\"Partnered\",3,3,39795,85],[\"TM195\",\"Female\",16,\"Partnered\",2,2,40932,47],[\"TM195\",\"Female\",14,\"Partnered\",3,4,44343,113],[\"TM195\",\"Female\",16,\"Partnered\",4,3,52302,113],[\"TM195\",\"Female\",16,\"Single\",3,3,36384,66],[\"TM195\",\"Female\",14,\"Partnered\",3,2,45480,66],[\"TM195\",\"Female\",14,\"Partnered\",2,3,45480,56],[\"TM195\",\"Female\",14,\"Partnered\",2,3,46617,56],[\"TM195\",\"Female\",16,\"Partnered\",2,3,52302,66],[\"TM195\",\"Female\",14,\"Partnered\",3,3,54576,94],[\"TM195\",\"Female\",16,\"Partnered\",3,3,51165,56],[\"TM195\",\"Female\",14,\"Partnered\",2,2,46617,38],[\"TM195\",\"Female\",16,\"Partnered\",4,3,50028,94],[\"TM195\",\"Female\",14,\"Single\",2,2,45480,47],[\"TM195\",\"Female\",14,\"Single\",3,4,46617,113],[\"TM195\",\"Female\",16,\"Single\",2,2,55713,38],[\"TM195\",\"Female\",16,\"Partnered\",3,3,46617,85],[\"TM195\",\"Female\",16,\"Single\",2,2,52302,66],[\"TM195\",\"Female\",16,\"Partnered\",3,3,60261,94],[\"TM195\",\"Female\",18,\"Single\",3,3,67083,85],[\"TM195\",\"Female\",16,\"Partnered\",3,3,37521,85],[\"TM195\",\"Female\",14,\"Partnered\",2,3,54576,56],[\"TM195\",\"Female\",16,\"Single\",3,4,57987,75],[\"TM195\",\"Female\",16,\"Partnered\",3,2,60261,47],[\"TM195\",\"Female\",16,\"Partnered\",3,3,64809,66],[\"TM498\",\"Female\",14,\"Partnered\",3,3,34110,106],[\"TM498\",\"Female\",14,\"Partnered\",5,4,34110,212],[\"TM498\",\"Female\",16,\"Single\",3,3,45480,95],[\"TM498\",\"Female\",16,\"Partnered\",3,2,43206,74],[\"TM498\",\"Female\",14,\"Single\",3,2,40932,53],[\"TM498\",\"Female\",14,\"Single\",3,2,40932,85],[\"TM498\",\"Female\",16,\"Single\",3,3,50028,106],[\"TM498\",\"Female\",14,\"Partnered\",2,3,45480,85],[\"TM498\",\"Female\",14,\"Single\",3,4,43206,127],[\"TM498\",\"Female\",14,\"Partnered\",5,3,47754,106],[\"TM498\",\"Female\",14,\"Single\",2,3,43206,64],[\"TM498\",\"Female\",14,\"Single\",2,2,45480,42],[\"TM498\",\"Female\",16,\"Partnered\",4,3,45480,85],[\"TM498\",\"Female\",16,\"Single\",4,4,50028,127],[\"TM498\",\"Female\",14,\"Partnered\",3,3,51165,95],[\"TM498\",\"Female\",14,\"Single\",3,3,57987,74],[\"TM498\",\"Female\",13,\"Single\",4,3,46617,106],[\"TM498\",\"Female\",16,\"Partnered\",2,3,51165,64],[\"TM498\",\"Female\",18,\"Single\",2,1,65220,21],[\"TM498\",\"Female\",16,\"Partnered\",2,3,50028,85],[\"TM498\",\"Female\",16,\"Partnered\",5,3,53439,95],[\"TM498\",\"Female\",18,\"Single\",3,4,47754,74],[\"TM498\",\"Female\",16,\"Partnered\",4,3,64809,95],[\"TM498\",\"Female\",14,\"Partnered\",3,2,52302,53],[\"TM498\",\"Female\",16,\"Single\",3,2,50028,64],[\"TM498\",\"Female\",16,\"Partnered\",2,3,48891,85],[\"TM498\",\"Female\",16,\"Partnered\",4,3,62535,85],[\"TM498\",\"Female\",16,\"Partnered\",3,3,61398,85],[\"TM498\",\"Female\",16,\"Single\",3,3,57987,85],[\"TM798\",\"Female\",18,\"Single\",5,4,53536,100],[\"TM798\",\"Female\",16,\"Single\",5,5,52291,200],[\"TM798\",\"Female\",18,\"Partnered\",5,5,61006,200],[\"TM798\",\"Female\",21,\"Single\",4,3,69721,100],[\"TM798\",\"Female\",18,\"Partnered\",6,5,92131,180],[\"TM798\",\"Female\",16,\"Partnered\",6,5,90886,280],[\"TM798\",\"Female\",18,\"Partnered\",4,5,95866,200]],\"hovertemplate\":\"Gender=%{customdata[1]}<br>Age=%{x}<br>Product=%{customdata[0]}<br>Education=%{customdata[2]}<br>MaritalStatus=%{customdata[3]}<br>Usage=%{customdata[4]}<br>Fitness=%{customdata[5]}<br>Income=%{customdata[6]}<br>Miles=%{customdata[7]}<extra></extra>\",\"legendgroup\":\"Female\",\"marker\":{\"color\":\"#EF553B\"},\"name\":\"Female\",\"notched\":true,\"offsetgroup\":\"Female\",\"showlegend\":false,\"type\":\"box\",\"x\":[19,20,21,21,22,22,22,23,23,23,24,24,24,25,25,25,25,26,26,26,27,27,28,28,28,28,29,29,31,32,33,33,34,35,35,37,38,44,46,50,20,21,23,23,23,24,24,25,25,25,25,25,26,26,29,30,30,31,31,33,33,33,34,35,35,37,38,40,40,23,24,25,26,28,30,33],\"xaxis\":\"x2\",\"yaxis\":\"y2\"}],                        {\"barmode\":\"relative\",\"legend\":{\"title\":{\"text\":\"Gender\"},\"tracegroupgap\":0},\"margin\":{\"t\":60},\"template\":{\"data\":{\"bar\":[{\"error_x\":{\"color\":\"#2a3f5f\"},\"error_y\":{\"color\":\"#2a3f5f\"},\"marker\":{\"line\":{\"color\":\"#E5ECF6\",\"width\":0.5},\"pattern\":{\"fillmode\":\"overlay\",\"size\":10,\"solidity\":0.2}},\"type\":\"bar\"}],\"barpolar\":[{\"marker\":{\"line\":{\"color\":\"#E5ECF6\",\"width\":0.5},\"pattern\":{\"fillmode\":\"overlay\",\"size\":10,\"solidity\":0.2}},\"type\":\"barpolar\"}],\"carpet\":[{\"aaxis\":{\"endlinecolor\":\"#2a3f5f\",\"gridcolor\":\"white\",\"linecolor\":\"white\",\"minorgridcolor\":\"white\",\"startlinecolor\":\"#2a3f5f\"},\"baxis\":{\"endlinecolor\":\"#2a3f5f\",\"gridcolor\":\"white\",\"linecolor\":\"white\",\"minorgridcolor\":\"white\",\"startlinecolor\":\"#2a3f5f\"},\"type\":\"carpet\"}],\"choropleth\":[{\"colorbar\":{\"outlinewidth\":0,\"ticks\":\"\"},\"type\":\"choropleth\"}],\"contour\":[{\"colorbar\":{\"outlinewidth\":0,\"ticks\":\"\"},\"colorscale\":[[0.0,\"#0d0887\"],[0.1111111111111111,\"#46039f\"],[0.2222222222222222,\"#7201a8\"],[0.3333333333333333,\"#9c179e\"],[0.4444444444444444,\"#bd3786\"],[0.5555555555555556,\"#d8576b\"],[0.6666666666666666,\"#ed7953\"],[0.7777777777777778,\"#fb9f3a\"],[0.8888888888888888,\"#fdca26\"],[1.0,\"#f0f921\"]],\"type\":\"contour\"}],\"contourcarpet\":[{\"colorbar\":{\"outlinewidth\":0,\"ticks\":\"\"},\"type\":\"contourcarpet\"}],\"heatmap\":[{\"colorbar\":{\"outlinewidth\":0,\"ticks\":\"\"},\"colorscale\":[[0.0,\"#0d0887\"],[0.1111111111111111,\"#46039f\"],[0.2222222222222222,\"#7201a8\"],[0.3333333333333333,\"#9c179e\"],[0.4444444444444444,\"#bd3786\"],[0.5555555555555556,\"#d8576b\"],[0.6666666666666666,\"#ed7953\"],[0.7777777777777778,\"#fb9f3a\"],[0.8888888888888888,\"#fdca26\"],[1.0,\"#f0f921\"]],\"type\":\"heatmap\"}],\"heatmapgl\":[{\"colorbar\":{\"outlinewidth\":0,\"ticks\":\"\"},\"colorscale\":[[0.0,\"#0d0887\"],[0.1111111111111111,\"#46039f\"],[0.2222222222222222,\"#7201a8\"],[0.3333333333333333,\"#9c179e\"],[0.4444444444444444,\"#bd3786\"],[0.5555555555555556,\"#d8576b\"],[0.6666666666666666,\"#ed7953\"],[0.7777777777777778,\"#fb9f3a\"],[0.8888888888888888,\"#fdca26\"],[1.0,\"#f0f921\"]],\"type\":\"heatmapgl\"}],\"histogram\":[{\"marker\":{\"pattern\":{\"fillmode\":\"overlay\",\"size\":10,\"solidity\":0.2}},\"type\":\"histogram\"}],\"histogram2d\":[{\"colorbar\":{\"outlinewidth\":0,\"ticks\":\"\"},\"colorscale\":[[0.0,\"#0d0887\"],[0.1111111111111111,\"#46039f\"],[0.2222222222222222,\"#7201a8\"],[0.3333333333333333,\"#9c179e\"],[0.4444444444444444,\"#bd3786\"],[0.5555555555555556,\"#d8576b\"],[0.6666666666666666,\"#ed7953\"],[0.7777777777777778,\"#fb9f3a\"],[0.8888888888888888,\"#fdca26\"],[1.0,\"#f0f921\"]],\"type\":\"histogram2d\"}],\"histogram2dcontour\":[{\"colorbar\":{\"outlinewidth\":0,\"ticks\":\"\"},\"colorscale\":[[0.0,\"#0d0887\"],[0.1111111111111111,\"#46039f\"],[0.2222222222222222,\"#7201a8\"],[0.3333333333333333,\"#9c179e\"],[0.4444444444444444,\"#bd3786\"],[0.5555555555555556,\"#d8576b\"],[0.6666666666666666,\"#ed7953\"],[0.7777777777777778,\"#fb9f3a\"],[0.8888888888888888,\"#fdca26\"],[1.0,\"#f0f921\"]],\"type\":\"histogram2dcontour\"}],\"mesh3d\":[{\"colorbar\":{\"outlinewidth\":0,\"ticks\":\"\"},\"type\":\"mesh3d\"}],\"parcoords\":[{\"line\":{\"colorbar\":{\"outlinewidth\":0,\"ticks\":\"\"}},\"type\":\"parcoords\"}],\"pie\":[{\"automargin\":true,\"type\":\"pie\"}],\"scatter\":[{\"marker\":{\"colorbar\":{\"outlinewidth\":0,\"ticks\":\"\"}},\"type\":\"scatter\"}],\"scatter3d\":[{\"line\":{\"colorbar\":{\"outlinewidth\":0,\"ticks\":\"\"}},\"marker\":{\"colorbar\":{\"outlinewidth\":0,\"ticks\":\"\"}},\"type\":\"scatter3d\"}],\"scattercarpet\":[{\"marker\":{\"colorbar\":{\"outlinewidth\":0,\"ticks\":\"\"}},\"type\":\"scattercarpet\"}],\"scattergeo\":[{\"marker\":{\"colorbar\":{\"outlinewidth\":0,\"ticks\":\"\"}},\"type\":\"scattergeo\"}],\"scattergl\":[{\"marker\":{\"colorbar\":{\"outlinewidth\":0,\"ticks\":\"\"}},\"type\":\"scattergl\"}],\"scattermapbox\":[{\"marker\":{\"colorbar\":{\"outlinewidth\":0,\"ticks\":\"\"}},\"type\":\"scattermapbox\"}],\"scatterpolar\":[{\"marker\":{\"colorbar\":{\"outlinewidth\":0,\"ticks\":\"\"}},\"type\":\"scatterpolar\"}],\"scatterpolargl\":[{\"marker\":{\"colorbar\":{\"outlinewidth\":0,\"ticks\":\"\"}},\"type\":\"scatterpolargl\"}],\"scatterternary\":[{\"marker\":{\"colorbar\":{\"outlinewidth\":0,\"ticks\":\"\"}},\"type\":\"scatterternary\"}],\"surface\":[{\"colorbar\":{\"outlinewidth\":0,\"ticks\":\"\"},\"colorscale\":[[0.0,\"#0d0887\"],[0.1111111111111111,\"#46039f\"],[0.2222222222222222,\"#7201a8\"],[0.3333333333333333,\"#9c179e\"],[0.4444444444444444,\"#bd3786\"],[0.5555555555555556,\"#d8576b\"],[0.6666666666666666,\"#ed7953\"],[0.7777777777777778,\"#fb9f3a\"],[0.8888888888888888,\"#fdca26\"],[1.0,\"#f0f921\"]],\"type\":\"surface\"}],\"table\":[{\"cells\":{\"fill\":{\"color\":\"#EBF0F8\"},\"line\":{\"color\":\"white\"}},\"header\":{\"fill\":{\"color\":\"#C8D4E3\"},\"line\":{\"color\":\"white\"}},\"type\":\"table\"}]},\"layout\":{\"annotationdefaults\":{\"arrowcolor\":\"#2a3f5f\",\"arrowhead\":0,\"arrowwidth\":1},\"autotypenumbers\":\"strict\",\"coloraxis\":{\"colorbar\":{\"outlinewidth\":0,\"ticks\":\"\"}},\"colorscale\":{\"diverging\":[[0,\"#8e0152\"],[0.1,\"#c51b7d\"],[0.2,\"#de77ae\"],[0.3,\"#f1b6da\"],[0.4,\"#fde0ef\"],[0.5,\"#f7f7f7\"],[0.6,\"#e6f5d0\"],[0.7,\"#b8e186\"],[0.8,\"#7fbc41\"],[0.9,\"#4d9221\"],[1,\"#276419\"]],\"sequential\":[[0.0,\"#0d0887\"],[0.1111111111111111,\"#46039f\"],[0.2222222222222222,\"#7201a8\"],[0.3333333333333333,\"#9c179e\"],[0.4444444444444444,\"#bd3786\"],[0.5555555555555556,\"#d8576b\"],[0.6666666666666666,\"#ed7953\"],[0.7777777777777778,\"#fb9f3a\"],[0.8888888888888888,\"#fdca26\"],[1.0,\"#f0f921\"]],\"sequentialminus\":[[0.0,\"#0d0887\"],[0.1111111111111111,\"#46039f\"],[0.2222222222222222,\"#7201a8\"],[0.3333333333333333,\"#9c179e\"],[0.4444444444444444,\"#bd3786\"],[0.5555555555555556,\"#d8576b\"],[0.6666666666666666,\"#ed7953\"],[0.7777777777777778,\"#fb9f3a\"],[0.8888888888888888,\"#fdca26\"],[1.0,\"#f0f921\"]]},\"colorway\":[\"#636efa\",\"#EF553B\",\"#00cc96\",\"#ab63fa\",\"#FFA15A\",\"#19d3f3\",\"#FF6692\",\"#B6E880\",\"#FF97FF\",\"#FECB52\"],\"font\":{\"color\":\"#2a3f5f\"},\"geo\":{\"bgcolor\":\"white\",\"lakecolor\":\"white\",\"landcolor\":\"#E5ECF6\",\"showlakes\":true,\"showland\":true,\"subunitcolor\":\"white\"},\"hoverlabel\":{\"align\":\"left\"},\"hovermode\":\"closest\",\"mapbox\":{\"style\":\"light\"},\"paper_bgcolor\":\"white\",\"plot_bgcolor\":\"#E5ECF6\",\"polar\":{\"angularaxis\":{\"gridcolor\":\"white\",\"linecolor\":\"white\",\"ticks\":\"\"},\"bgcolor\":\"#E5ECF6\",\"radialaxis\":{\"gridcolor\":\"white\",\"linecolor\":\"white\",\"ticks\":\"\"}},\"scene\":{\"xaxis\":{\"backgroundcolor\":\"#E5ECF6\",\"gridcolor\":\"white\",\"gridwidth\":2,\"linecolor\":\"white\",\"showbackground\":true,\"ticks\":\"\",\"zerolinecolor\":\"white\"},\"yaxis\":{\"backgroundcolor\":\"#E5ECF6\",\"gridcolor\":\"white\",\"gridwidth\":2,\"linecolor\":\"white\",\"showbackground\":true,\"ticks\":\"\",\"zerolinecolor\":\"white\"},\"zaxis\":{\"backgroundcolor\":\"#E5ECF6\",\"gridcolor\":\"white\",\"gridwidth\":2,\"linecolor\":\"white\",\"showbackground\":true,\"ticks\":\"\",\"zerolinecolor\":\"white\"}},\"shapedefaults\":{\"line\":{\"color\":\"#2a3f5f\"}},\"ternary\":{\"aaxis\":{\"gridcolor\":\"white\",\"linecolor\":\"white\",\"ticks\":\"\"},\"baxis\":{\"gridcolor\":\"white\",\"linecolor\":\"white\",\"ticks\":\"\"},\"bgcolor\":\"#E5ECF6\",\"caxis\":{\"gridcolor\":\"white\",\"linecolor\":\"white\",\"ticks\":\"\"}},\"title\":{\"x\":0.05},\"xaxis\":{\"automargin\":true,\"gridcolor\":\"white\",\"linecolor\":\"white\",\"ticks\":\"\",\"title\":{\"standoff\":15},\"zerolinecolor\":\"white\",\"zerolinewidth\":2},\"yaxis\":{\"automargin\":true,\"gridcolor\":\"white\",\"linecolor\":\"white\",\"ticks\":\"\",\"title\":{\"standoff\":15},\"zerolinecolor\":\"white\",\"zerolinewidth\":2}}},\"xaxis\":{\"anchor\":\"y\",\"domain\":[0.0,1.0],\"title\":{\"text\":\"Age\"}},\"xaxis2\":{\"anchor\":\"y2\",\"domain\":[0.0,1.0],\"matches\":\"x\",\"showgrid\":true,\"showticklabels\":false},\"yaxis\":{\"anchor\":\"x\",\"domain\":[0.0,0.7326],\"title\":{\"text\":\"count\"}},\"yaxis2\":{\"anchor\":\"x2\",\"domain\":[0.7426,1.0],\"matches\":\"y2\",\"showgrid\":false,\"showline\":false,\"showticklabels\":false,\"ticks\":\"\"}},                        {\"responsive\": true}                    ).then(function(){\n",
       "                            \n",
       "var gd = document.getElementById('cdb159bb-98de-41e8-a9bc-91b7a50ec436');\n",
       "var x = new MutationObserver(function (mutations, observer) {{\n",
       "        var display = window.getComputedStyle(gd).display;\n",
       "        if (!display || display === 'none') {{\n",
       "            console.log([gd, 'removed!']);\n",
       "            Plotly.purge(gd);\n",
       "            observer.disconnect();\n",
       "        }}\n",
       "}});\n",
       "\n",
       "// Listen for the removal of the full notebook cells\n",
       "var notebookContainer = gd.closest('#notebook-container');\n",
       "if (notebookContainer) {{\n",
       "    x.observe(notebookContainer, {childList: true});\n",
       "}}\n",
       "\n",
       "// Listen for the clearing of the current output cell\n",
       "var outputEl = gd.closest('.output');\n",
       "if (outputEl) {{\n",
       "    x.observe(outputEl, {childList: true});\n",
       "}}\n",
       "\n",
       "                        })                };                });            </script>        </div>"
      ]
     },
     "metadata": {},
     "output_type": "display_data"
    }
   ],
   "source": [
    "import plotly.express as px\n",
    "# df = px.data.tips()\n",
    "fig = px.histogram(cardio, x=\"Age\", color=\"Gender\", marginal=\"box\", # can be `box`, `violin`\n",
    "                         hover_data=cardio.columns)\n",
    "\n",
    "# fig.add_shape(type=\"line\",x0=cardio.Age.mean, y0 =0, y1=0.4 , xref='x', yref='y',\n",
    "#                line = dict(color = 'blue', dash = 'dash'))\n",
    "fig.show()"
   ]
  },
  {
   "cell_type": "code",
   "execution_count": 37,
   "metadata": {},
   "outputs": [],
   "source": [
    "# While doing uni-variate analysis of numerical variables we want to study their central tendency \n",
    "# and dispersion.\n",
    "# Let us write a function that will help us create boxplot and histogram for any input numerical \n",
    "# variable.\n",
    "# This function takes the numerical column as the input and returns the boxplots \n",
    "# and histograms for the variable.\n",
    "# Let us see if this help us write faster and cleaner code.\n",
    "def histogram_boxplot(feature, figsize=(15,10), bins = None):\n",
    "    \"\"\" Boxplot and histogram combined\n",
    "    feature: 1-d feature array\n",
    "    figsize: size of fig (default (9,8))\n",
    "    bins: number of bins (default None / auto)\n",
    "    \"\"\"\n",
    "    f2, (ax_box2, ax_hist2) = plt.subplots(nrows = 2, # Number of rows of the subplot grid= 2\n",
    "                                           sharex = True, # x-axis will be shared among all subplots\n",
    "                                           gridspec_kw = {\"height_ratios\": (.25, .75)}, \n",
    "                                           figsize = figsize \n",
    "                                           ) # creating the 2 subplots\n",
    "    sns.boxplot(feature, ax=ax_box2, showmeans=True, color='violet') # boxplot will be created and a star will indicate the mean value of the column\n",
    "    sns.distplot(feature, kde=F, ax=ax_hist2, bins=bins,palette=\"winter\") if bins else sns.distplot(feature, kde=False, ax=ax_hist2) # For histogram\n",
    "    ax_hist2.axvline(np.mean(feature), color='green', linestyle='--') # Add mean to the histogram\n",
    "    ax_hist2.axvline(np.median(feature), color='black', linestyle='-') # Add median to the histogram"
   ]
  },
  {
   "cell_type": "markdown",
   "metadata": {
    "colab_type": "text",
    "id": "zcKt5KqfhU3G"
   },
   "source": [
    "## Observations on Age"
   ]
  },
  {
   "cell_type": "code",
   "execution_count": 38,
   "metadata": {
    "colab": {},
    "colab_type": "code",
    "id": "ZDBy0T2HhU3H",
    "outputId": "f8fa634b-219f-497f-cf02-f1abea199c15"
   },
   "outputs": [
    {
     "data": {
      "image/png": "[encoded data removed]",
      "text/plain": [
       "<Figure size 1080x720 with 2 Axes>"
      ]
     },
     "metadata": {
      "needs_background": "light"
     },
     "output_type": "display_data"
    }
   ],
   "source": [
    "histogram_boxplot(cardio[\"Age\"])"
   ]
  },
  {
   "cell_type": "markdown",
   "metadata": {
    "colab_type": "text",
    "id": "Q4k9_NhThU3L"
   },
   "source": [
    "* The distribution of Age is right skewed.\n",
    "* There are a outliers in this variable.\n",
    "* From boxplot we can see that the third quartile(Q3) is equal to 33 which means 75% of customers are below the age of 33."
   ]
  },
  {
   "cell_type": "markdown",
   "metadata": {
    "colab_type": "text",
    "id": "ZzQC98O4hU3M"
   },
   "source": [
    "## Observations on Education"
   ]
  },
  {
   "cell_type": "code",
   "execution_count": null,
   "metadata": {
    "colab": {},
    "colab_type": "code",
    "id": "jQCt3HSZhU3N",
    "outputId": "ad24973c-44f2-4335-f3f8-e142a991f6b6"
   },
   "outputs": [],
   "source": [
    "histogram_boxplot(cardio[\"Education\"])"
   ]
  },
  {
   "cell_type": "markdown",
   "metadata": {
    "colab_type": "text",
    "id": "CMKWR6elhU3Q"
   },
   "source": [
    "* Mean education for customers is 15.5 years\n",
    "* There are a few outliers present in data (customers who have education of more than 18 years)"
   ]
  },
  {
   "cell_type": "markdown",
   "metadata": {
    "colab_type": "text",
    "id": "T7CMMF83hU3Q"
   },
   "source": [
    "## Observations on Usage"
   ]
  },
  {
   "cell_type": "code",
   "execution_count": null,
   "metadata": {
    "colab": {},
    "colab_type": "code",
    "id": "O85F-sQnhU3R",
    "outputId": "92bedc83-f8c2-4308-eb31-6f386ebd5d0a"
   },
   "outputs": [],
   "source": [
    "histogram_boxplot(cardio[\"Usage\"])"
   ]
  },
  {
   "cell_type": "markdown",
   "metadata": {
    "colab_type": "text",
    "id": "F3zrP2NohU3T"
   },
   "source": [
    "* Customers want to use the treadmills 3-4 times a week on an average.\n",
    "* There are few outliers, customers who wish to use treadmills 6-7 times a week."
   ]
  },
  {
   "cell_type": "markdown",
   "metadata": {
    "colab_type": "text",
    "id": "ZamRrPIehU3U"
   },
   "source": [
    "## Observations on Income"
   ]
  },
  {
   "cell_type": "code",
   "execution_count": null,
   "metadata": {
    "colab": {},
    "colab_type": "code",
    "id": "TTzBBtvPhU3V",
    "outputId": "19b7caa4-6335-479b-ed52-97fd236c5d96"
   },
   "outputs": [],
   "source": [
    "histogram_boxplot(cardio[\"Income\"])"
   ]
  },
  {
   "cell_type": "markdown",
   "metadata": {
    "colab_type": "text",
    "id": "nOvpkf6QhU3Y"
   },
   "source": [
    "* Mean income of customers who bought treadmill is around 55000.\n",
    "* Income is right skewed.\n",
    "* It has many ouliers towards the higher end."
   ]
  },
  {
   "cell_type": "markdown",
   "metadata": {
    "colab_type": "text",
    "id": "y3vdK3Q9hU3Y"
   },
   "source": [
    "## Observations on Miles"
   ]
  },
  {
   "cell_type": "code",
   "execution_count": null,
   "metadata": {
    "colab": {},
    "colab_type": "code",
    "id": "ZPT8kGrxhU3Y",
    "outputId": "16c4f64d-24b1-4fdb-c483-b2d013cbe195"
   },
   "outputs": [],
   "source": [
    "histogram_boxplot(cardio[\"Miles\"])"
   ]
  },
  {
   "cell_type": "markdown",
   "metadata": {
    "colab_type": "text",
    "id": "s5v2MhbqhU3b"
   },
   "source": [
    "* Most customers expect to run 100 miles per week.\n",
    "* Miles run is right skewed\t\n",
    "* There are outliers present, some customers expect to run more than 200 miles per week, some customers wish to run more than 350 miles per week this could be an error in data collection or any professional runner bought the product."
   ]
  },
  {
   "cell_type": "code",
   "execution_count": 89,
   "metadata": {
    "colab": {},
    "colab_type": "code",
    "id": "UrM7cW9fhU3b"
   },
   "outputs": [],
   "source": [
    "# Function to create barplots that indicate percentage for each category.\n",
    "\n",
    "def perc_on_bar(plot, feature):\n",
    "    '''\n",
    "    plot\n",
    "    feature: categorical feature\n",
    "    the function won't work if a column is passed in hue parameter\n",
    "    '''\n",
    "    total = len(feature) # length of the column\n",
    "    for p in ax.patches:\n",
    "        percentage = '{:.1f}%'.format(100 * p.get_height()/total) # percentage of each class of the category\n",
    "        x = p.get_x() + p.get_width() / 2 - 0.05 # width of the plot\n",
    "        y = p.get_y() + p.get_height()           # hieght of the plot\n",
    "        ax.annotate(percentage, (x, y), size = 12) # annotate the percantage \n",
    "    plt.show() # show the plot"
   ]
  },
  {
   "cell_type": "markdown",
   "metadata": {
    "colab_type": "text",
    "id": "vXoQOPsVhU3h"
   },
   "source": [
    "## Observations on Product"
   ]
  },
  {
   "cell_type": "code",
   "execution_count": 90,
   "metadata": {
    "colab": {},
    "colab_type": "code",
    "id": "PpNeACwrhU3i",
    "outputId": "0b9fe570-1603-45ca-b99d-0a12c48bc773"
   },
   "outputs": [
    {
     "data": {
      "image/png": "[encoded data removed]",
      "text/plain": [
       "<Figure size 1080x360 with 1 Axes>"
      ]
     },
     "metadata": {
      "needs_background": "light"
     },
     "output_type": "display_data"
    }
   ],
   "source": [
    "plt.figure(figsize=(15,5))\n",
    "ax = sns.countplot(cardio[\"Product\"],palette='winter')\n",
    "perc_on_bar(ax,cardio[\"Product\"])"
   ]
  },
  {
   "cell_type": "markdown",
   "metadata": {
    "colab_type": "text",
    "id": "GLM8IJcPhU3l"
   },
   "source": [
    "* Highest selling product is TM195(44.4%),followed by TM498(33.3%) and TM798(22.2%)"
   ]
  },
  {
   "cell_type": "markdown",
   "metadata": {
    "colab_type": "text",
    "id": "9h1kEiVohU3m"
   },
   "source": [
    "## Observations on Gender"
   ]
  },
  {
   "cell_type": "code",
   "execution_count": 91,
   "metadata": {
    "colab": {},
    "colab_type": "code",
    "id": "fy8n93tRhU3m",
    "outputId": "15dd2304-c3e1-4d62-bffd-e06473fe3c22"
   },
   "outputs": [
    {
     "data": {
      "image/png": "[encoded data removed]",
      "text/plain": [
       "<Figure size 1080x360 with 1 Axes>"
      ]
     },
     "metadata": {
      "needs_background": "light"
     },
     "output_type": "display_data"
    }
   ],
   "source": [
    "plt.figure(figsize=(15,5))\n",
    "ax = sns.countplot(cardio[\"Gender\"],palette='winter')\n",
    "perc_on_bar(ax,cardio[\"Gender\"])"
   ]
  },
  {
   "cell_type": "markdown",
   "metadata": {
    "colab_type": "text",
    "id": "c_iRgToOhU3q"
   },
   "source": [
    "* There are more males customers(57.8%) than females(42.2%)"
   ]
  },
  {
   "cell_type": "markdown",
   "metadata": {
    "colab_type": "text",
    "id": "0PRwtEHfhU3q"
   },
   "source": [
    "## Observations on Marital Status"
   ]
  },
  {
   "cell_type": "code",
   "execution_count": 92,
   "metadata": {
    "colab": {},
    "colab_type": "code",
    "id": "lVzWtUwZhU3r",
    "outputId": "056e4524-11e7-47c2-9b9e-3ab25e513409"
   },
   "outputs": [
    {
     "data": {
      "image/png": "[encoded data removed]",
      "text/plain": [
       "<Figure size 1080x360 with 1 Axes>"
      ]
     },
     "metadata": {
      "needs_background": "light"
     },
     "output_type": "display_data"
    }
   ],
   "source": [
    "plt.figure(figsize=(15,5))\n",
    "ax = sns.countplot(cardio[\"MaritalStatus\"],palette='winter')\n",
    "perc_on_bar(ax,cardio[\"MaritalStatus\"])"
   ]
  },
  {
   "cell_type": "markdown",
   "metadata": {
    "colab_type": "text",
    "id": "GYxDM5iuhU3u"
   },
   "source": [
    "* 40.6% of customers are single while 59.4% of customers have a partner."
   ]
  },
  {
   "cell_type": "markdown",
   "metadata": {
    "colab_type": "text",
    "id": "mW3ErAsThU3u"
   },
   "source": [
    "## Observations on Fitness"
   ]
  },
  {
   "cell_type": "code",
   "execution_count": 93,
   "metadata": {
    "colab": {},
    "colab_type": "code",
    "id": "7XdZHnnShU3v",
    "outputId": "55ba85d5-5697-45a3-dcfc-26d3765a59a9"
   },
   "outputs": [
    {
     "data": {
      "image/png": "[encoded data removed]",
      "text/plain": [
       "<Figure size 1080x360 with 1 Axes>"
      ]
     },
     "metadata": {
      "needs_background": "light"
     },
     "output_type": "display_data"
    }
   ],
   "source": [
    "plt.figure(figsize=(15,5))\n",
    "ax = sns.countplot(cardio[\"Fitness\"],palette='winter')\n",
    "perc_on_bar(ax,cardio[\"Fitness\"])"
   ]
  },
  {
   "cell_type": "markdown",
   "metadata": {
    "colab_type": "text",
    "id": "UEMcXPZqhU3z"
   },
   "source": [
    "* 53.9% of the customers have rated them at 3 on a scale of 5 (1 being the least fit and 5 being the most fit),followed by 5 rating (17.2%)."
   ]
  },
  {
   "cell_type": "markdown",
   "metadata": {
    "colab_type": "text",
    "id": "-VRDnwwjhU30"
   },
   "source": [
    "## Observations on Education\n",
    "\n",
    "* We saw earlier that years of education has a mean of 15.5 years of education, let's check what is the proportion of each level of education among our customer population."
   ]
  },
  {
   "cell_type": "code",
   "execution_count": 96,
   "metadata": {
    "colab": {},
    "colab_type": "code",
    "id": "VJ1AhJ9LhU30",
    "outputId": "5ffa2594-1140-4edf-ea34-7006c7df2c06",
    "scrolled": true
   },
   "outputs": [
    {
     "data": {
      "image/png": "[encoded data removed]",
      "text/plain": [
       "<Figure size 1080x360 with 1 Axes>"
      ]
     },
     "metadata": {
      "needs_background": "light"
     },
     "output_type": "display_data"
    }
   ],
   "source": [
    "plt.figure(figsize=(15,5))\n",
    "ax = sns.countplot(cardio[\"Education\"],palette='winter')\n",
    "perc_on_bar(ax,cardio[\"Education\"])"
   ]
  },
  {
   "cell_type": "markdown",
   "metadata": {
    "colab_type": "text",
    "id": "AK0aPSjChU34"
   },
   "source": [
    "* 47.2% of customers have 16 years of education, followed by 14 years of education(30.6%)."
   ]
  },
  {
   "cell_type": "markdown",
   "metadata": {
    "colab_type": "text",
    "id": "V0q55GwAhU35"
   },
   "source": [
    "## Observations on Usage\n",
    "\n",
    "* We saw earlier that customers wish to use products for 3-4 days in a week, let's check what is the proportion of each level of usage among our customer population."
   ]
  },
  {
   "cell_type": "code",
   "execution_count": 95,
   "metadata": {
    "colab": {},
    "colab_type": "code",
    "id": "F5EyrfRrhU36",
    "outputId": "5d7a5a21-33af-4b1d-afa3-0c2a1cf18680"
   },
   "outputs": [
    {
     "data": {
      "image/png": "[encoded data removed]",
      "text/plain": [
       "<Figure size 720x360 with 1 Axes>"
      ]
     },
     "metadata": {
      "needs_background": "light"
     },
     "output_type": "display_data"
    }
   ],
   "source": [
    "plt.figure(figsize=(10,5))\n",
    "ax = sns.countplot(cardio[\"Usage\"],palette='winter')\n",
    "perc_on_bar(ax,cardio[\"Usage\"])"
   ]
  },
  {
   "cell_type": "markdown",
   "metadata": {
    "colab_type": "text",
    "id": "APZ3PvhZhU39"
   },
   "source": [
    "* 38.3% of customers wish to use the product 3 times a week followed by 28.9% customers who wish to use the product 4 times a week."
   ]
  },
  {
   "cell_type": "markdown",
   "metadata": {
    "colab_type": "text",
    "id": "beo_tDmVhU3-"
   },
   "source": [
    "## Bivariate Analysis"
   ]
  },
  {
   "cell_type": "code",
   "execution_count": null,
   "metadata": {
    "colab": {},
    "colab_type": "code",
    "id": "vwCqg8aahU3_",
    "outputId": "510fae10-a960-4cd1-bf07-6dcb74e05912"
   },
   "outputs": [],
   "source": [
    "plt.figure(figsize=(15,5))\n",
    "sns.heatmap(cardio.corr(),annot=True)\n",
    "plt.show()"
   ]
  },
  {
   "cell_type": "markdown",
   "metadata": {
    "colab_type": "text",
    "id": "AwMIoSYxhU4C"
   },
   "source": [
    "* Miles is highly correlated with usage, a customer running more miles would mean he is also using the treadmill more. \n",
    "* Education and Income has a positive correlation, indicating higher the education higher would be the income.\n",
    "* Income shows a positive correlation with Age , Usage, and Miles.\n",
    "* A positive correlation between age and income is expected but a high poistive correlation of income with usage and miles should be investigated further."
   ]
  },
  {
   "cell_type": "code",
   "execution_count": null,
   "metadata": {
    "colab": {},
    "colab_type": "code",
    "id": "EjuIZ5PghU4D",
    "outputId": "0804b4ba-019f-4c52-ca0a-eaeb16f10661"
   },
   "outputs": [],
   "source": [
    "sns.pairplot(data=cardio.drop([\"Fitness\"],axis=1),hue=\"Product\")\n",
    "plt.show()"
   ]
  },
  {
   "cell_type": "markdown",
   "metadata": {
    "colab_type": "text",
    "id": "9QgRUdkGhU4H"
   },
   "source": [
    "* We can see varying distributions in variables for different products, we should investigate it further."
   ]
  },
  {
   "cell_type": "markdown",
   "metadata": {},
   "source": [
    "### Product vs Age"
   ]
  },
  {
   "cell_type": "code",
   "execution_count": 94,
   "metadata": {
    "colab": {},
    "colab_type": "code",
    "id": "4lGQHGbOhU4I",
    "outputId": "0511dfdf-0bba-4d26-e301-7904b6495f37"
   },
   "outputs": [
    {
     "data": {
      "image/png": "[encoded data removed]",
      "text/plain": [
       "<Figure size 1080x504 with 1 Axes>"
      ]
     },
     "metadata": {
      "needs_background": "light"
     },
     "output_type": "display_data"
    }
   ],
   "source": [
    "plt.figure(figsize=(15,7))\n",
    "sns.boxplot(cardio[\"Product\"],cardio[\"Age\"],palette=\"PuBu\")\n",
    "plt.show()"
   ]
  },
  {
   "cell_type": "markdown",
   "metadata": {
    "colab_type": "text",
    "id": "jXdLGbEZhU4L"
   },
   "source": [
    "* TM195 and TM498 are preferred by customers of all ages but for TM798 customers are in the range of above 22 and below 38 (but there are some outliers)"
   ]
  },
  {
   "cell_type": "markdown",
   "metadata": {},
   "source": [
    "## Product vs Education"
   ]
  },
  {
   "cell_type": "code",
   "execution_count": null,
   "metadata": {
    "colab": {},
    "colab_type": "code",
    "id": "sgHiqp2vhU4M",
    "outputId": "c869fb66-8eae-4e2e-e475-e9089a93de43"
   },
   "outputs": [],
   "source": [
    "plt.figure(figsize=(15,7))\n",
    "sns.boxplot(cardio[\"Product\"],cardio[\"Education\"],palette=\"PuBu\")\n",
    "plt.show()"
   ]
  },
  {
   "cell_type": "markdown",
   "metadata": {
    "colab_type": "text",
    "id": "SQigCYpPhU4P"
   },
   "source": [
    "* Customers buying TM798 have higher education as compared to the customers buying the other two other products"
   ]
  },
  {
   "cell_type": "markdown",
   "metadata": {},
   "source": [
    "## Product vs Usage"
   ]
  },
  {
   "cell_type": "code",
   "execution_count": null,
   "metadata": {
    "colab": {},
    "colab_type": "code",
    "id": "JA7b2geohU4P",
    "outputId": "efeae5fe-7251-4bdf-9b4d-8d11eff4667d"
   },
   "outputs": [],
   "source": [
    "plt.figure(figsize=(15,7))\n",
    "sns.boxplot(cardio[\"Product\"],cardio[\"Usage\"],palette=\"PuBu\")\n",
    "plt.show()"
   ]
  },
  {
   "cell_type": "markdown",
   "metadata": {
    "colab_type": "text",
    "id": "L06jSo6khU4Y"
   },
   "source": [
    "* Customers who have higher expected treadmill usage(greater than 3 days) prefer the TM798 product, Customers with very light(2-3 days) usage prefer TM498, customers who have moderate usage (greater than 2 days but less than or equal to 5 days) prefer TM195."
   ]
  },
  {
   "cell_type": "markdown",
   "metadata": {},
   "source": [
    "## Product vs Income"
   ]
  },
  {
   "cell_type": "code",
   "execution_count": null,
   "metadata": {
    "colab": {},
    "colab_type": "code",
    "id": "FzKbtTA2hU4a",
    "outputId": "6a1e45df-4816-4e85-d06f-93ad07d163f5"
   },
   "outputs": [],
   "source": [
    "plt.figure(figsize=(15,7))\n",
    "sns.boxplot(cardio[\"Product\"],cardio[\"Income\"],palette=\"PuBu\")\n",
    "plt.show()"
   ]
  },
  {
   "cell_type": "markdown",
   "metadata": {
    "colab_type": "text",
    "id": "et9dLGNNhU4m"
   },
   "source": [
    "* Customers with higher income prefer TM798, whereas TM195 and TM498 are prefered by middle income customers."
   ]
  },
  {
   "cell_type": "markdown",
   "metadata": {},
   "source": [
    "## Product vs Miles"
   ]
  },
  {
   "cell_type": "code",
   "execution_count": null,
   "metadata": {
    "colab": {},
    "colab_type": "code",
    "id": "JgckIkY_hU4r",
    "outputId": "dd000433-a565-41d1-a42c-ff623f23ef9a"
   },
   "outputs": [],
   "source": [
    "plt.figure(figsize=(15,7))\n",
    "sns.boxplot(cardio[\"Product\"],cardio[\"Miles\"],palette=\"PuBu\")\n",
    "plt.show()"
   ]
  },
  {
   "cell_type": "markdown",
   "metadata": {
    "colab_type": "text",
    "id": "_BbYkZZChU4y"
   },
   "source": [
    "* Customers who expect to run higher miles go for TM798."
   ]
  },
  {
   "cell_type": "markdown",
   "metadata": {},
   "source": [
    "## Product vs Gender"
   ]
  },
  {
   "cell_type": "code",
   "execution_count": null,
   "metadata": {
    "colab": {},
    "colab_type": "code",
    "id": "ckDy4TLehU41",
    "outputId": "504264f6-6716-41be-c309-9cd85fc6ca42"
   },
   "outputs": [],
   "source": [
    "plt.figure(figsize=(15,7))\n",
    "sns.countplot(cardio[\"Product\"],hue=cardio[\"Gender\"],palette='winter')\n",
    "plt.legend(bbox_to_anchor=(1.00, 1))\n",
    "plt.show()"
   ]
  },
  {
   "cell_type": "markdown",
   "metadata": {
    "colab_type": "text",
    "id": "W848VNhihU47"
   },
   "source": [
    "* TM798 has been bought more by the male customers as compared to the female customers, for TM195 and TM498 there is equal distribution among genders"
   ]
  },
  {
   "cell_type": "markdown",
   "metadata": {},
   "source": [
    "## Product vs Marital Status"
   ]
  },
  {
   "cell_type": "code",
   "execution_count": null,
   "metadata": {
    "colab": {},
    "colab_type": "code",
    "id": "Kc7IMVGxhU4-",
    "outputId": "8dcdce18-cd8e-4012-f48b-c0acf062f47e",
    "scrolled": true
   },
   "outputs": [],
   "source": [
    "plt.figure(figsize=(15,7))\n",
    "sns.countplot(cardio[\"Product\"],hue=cardio[\"MaritalStatus\"],palette='winter')\n",
    "plt.legend(bbox_to_anchor=(1.00, 1))\n",
    "plt.show()"
   ]
  },
  {
   "cell_type": "markdown",
   "metadata": {
    "colab_type": "text",
    "id": "xIKDs2ClhU5K"
   },
   "source": [
    "* All the products are couple/partner friendly.\n",
    "* Couples/partnered customers have a higher chance of buying a product when compared to single customers."
   ]
  },
  {
   "cell_type": "markdown",
   "metadata": {},
   "source": [
    "## Product vs Fitness"
   ]
  },
  {
   "cell_type": "code",
   "execution_count": null,
   "metadata": {
    "colab": {},
    "colab_type": "code",
    "id": "m5da_gs1hU5L",
    "outputId": "d111e4a3-5fb7-4aad-f494-daba5d0b0b95"
   },
   "outputs": [],
   "source": [
    "plt.figure(figsize=(15,7))\n",
    "sns.countplot(cardio[\"Product\"],hue=cardio[\"Fitness\"],palette=\"gnuplot2_r\")\n",
    "plt.legend(bbox_to_anchor=(1.00, 1))\n",
    "plt.show()"
   ]
  },
  {
   "cell_type": "markdown",
   "metadata": {
    "colab_type": "text",
    "id": "0n55T_zyhU5T"
   },
   "source": [
    "* Customers who purchased  TM195 and TM498 gave themselves a balanced fitness rating of 3  (on a scale of 5, 1 being the least fit and 5 being the most fit), but for TM798 most of customers have rated themselves higher in fitness that is 5."
   ]
  },
  {
   "cell_type": "markdown",
   "metadata": {
    "colab_type": "text",
    "id": "Wo2KmQnLhU5T"
   },
   "source": [
    "### Grouping data w.r.t to products to build customer profiles"
   ]
  },
  {
   "cell_type": "code",
   "execution_count": null,
   "metadata": {
    "colab": {},
    "colab_type": "code",
    "id": "D7TQxHxyhU5W",
    "outputId": "52f55ed3-314d-488f-e492-2245edd65935"
   },
   "outputs": [],
   "source": [
    "cardio[cardio[\"Product\"]==\"TM195\"].describe(include=\"all\")"
   ]
  },
  {
   "cell_type": "markdown",
   "metadata": {
    "colab_type": "text",
    "id": "BIRNR_b6hU5d"
   },
   "source": [
    "#### TM195 Customer\n",
    "\n",
    "The TM195 customer is our regular customer (since this product is sold more than others).\n",
    "* Early 20’s to early 30’s\n",
    "* 12-18 years of educataion\n",
    "* Income between 40K and 50K\n",
    "* Plans to use treadmill three to four times per week for light usage.\n",
    "* Has an average fitness level (rated 3)"
   ]
  },
  {
   "cell_type": "code",
   "execution_count": null,
   "metadata": {
    "colab": {},
    "colab_type": "code",
    "id": "r_odTH3IhU5e",
    "outputId": "d7e3219c-9822-44fc-d579-588639136481"
   },
   "outputs": [],
   "source": [
    "cardio[cardio[\"Product\"]==\"TM498\"].describe(include=\"all\")"
   ]
  },
  {
   "cell_type": "markdown",
   "metadata": {
    "colab_type": "text",
    "id": "BKsC07k5hU5k"
   },
   "source": [
    "#### TM498 Customer\n",
    "\n",
    "The TM498 customers is similar to the TM195 customer in most aspects. The differences are that these customers have a slightly higher annual income, a narrower usage, and a broader expectation of Miles to run each week.\n",
    "\n",
    "With such a specific usage anticipation it is likely the TM498 customer is a working adult with a fixed or busy schedule (since these customers only tend to use the treadmill 3 times a week)\n",
    "\n",
    "* Adult in their mid 20’s to early 30’s\n",
    "* 12-18 years of educatation.\n",
    "* Income around 50K.\n",
    "* Plans to use treadmill three days a week for a light to moderate amount.\n",
    "* Has an average fitness level."
   ]
  },
  {
   "cell_type": "code",
   "execution_count": null,
   "metadata": {
    "colab": {},
    "colab_type": "code",
    "id": "MF3DLNLihU5k",
    "outputId": "6bb22d1b-1a61-4429-c3bd-aacca1c900fd"
   },
   "outputs": [],
   "source": [
    "cardio[cardio[\"Product\"]==\"TM798\"].describe(include=\"all\")"
   ]
  },
  {
   "cell_type": "markdown",
   "metadata": {
    "colab_type": "text",
    "id": "YV4T7cSYhU5r"
   },
   "source": [
    "#### TM798 Customer\n",
    "\n",
    "The TM798 model attracts a specific customer. In stark contrast to models T498 and T195, the T798 customer is predominantly male, highly educated and has higher salary.\n",
    "* Generally preferred by Males in late 20’s\n",
    "* Highly Educated\n",
    "* Higher income earner\n",
    "* Plans to use treadmill 4-5 days a week, running 160 miles on an average.\n",
    "* Considers themselves very fit."
   ]
  },
  {
   "cell_type": "markdown",
   "metadata": {
    "colab_type": "text",
    "id": "4YeXEKy2hU5u"
   },
   "source": [
    "### Customer Segmentation\n",
    "\n",
    "This will help us to understand and cater needs of customers better based on their gender,marital status, Age etc."
   ]
  },
  {
   "cell_type": "markdown",
   "metadata": {},
   "source": [
    "## Usage vs Gender vs Marital Status"
   ]
  },
  {
   "cell_type": "code",
   "execution_count": null,
   "metadata": {
    "colab": {},
    "colab_type": "code",
    "id": "OGihyBDzhU5v",
    "outputId": "bcd052cb-b418-4cf9-9319-c4559ebb59a3"
   },
   "outputs": [],
   "source": [
    "plt.figure(figsize=(15,7))\n",
    "sns.boxplot(cardio[\"Gender\"],cardio[\"Usage\"],hue=cardio[\"MaritalStatus\"],palette=\"viridis\")\n",
    "plt.legend(bbox_to_anchor=(1.00, 1))\n",
    "plt.show()"
   ]
  },
  {
   "cell_type": "markdown",
   "metadata": {
    "colab_type": "text",
    "id": "kRJtRvJqhU50"
   },
   "source": [
    "* Usage for single females, single or partnered male is same it varies for females that have a partner."
   ]
  },
  {
   "cell_type": "markdown",
   "metadata": {},
   "source": [
    "## Gender vs Income"
   ]
  },
  {
   "cell_type": "code",
   "execution_count": null,
   "metadata": {
    "colab": {},
    "colab_type": "code",
    "id": "UVoclOPmhU51",
    "outputId": "77df7633-ee33-48c9-abb2-6d2f185f824e"
   },
   "outputs": [],
   "source": [
    "plt.figure(figsize=(15,7))\n",
    "sns.boxplot(cardio[\"Gender\"],cardio[\"Income\"],palette=\"viridis\")\n",
    "plt.show()"
   ]
  },
  {
   "cell_type": "markdown",
   "metadata": {
    "colab_type": "text",
    "id": "H1BQ9Ti9hU56"
   },
   "source": [
    "* There is a large disparity in income of both the genders, there are more males with higher income than females."
   ]
  },
  {
   "cell_type": "markdown",
   "metadata": {},
   "source": [
    "## Gender vs Income vs Marital Status"
   ]
  },
  {
   "cell_type": "code",
   "execution_count": null,
   "metadata": {
    "colab": {},
    "colab_type": "code",
    "id": "AlP-bclchU57",
    "outputId": "f56c525f-7bcd-4a01-e671-ec32bd6a7ff9"
   },
   "outputs": [],
   "source": [
    "plt.figure(figsize=(15,7))\n",
    "sns.boxplot(cardio[\"Gender\"],cardio[\"Income\"],hue=cardio[\"MaritalStatus\"],palette=\"viridis\")\n",
    "plt.legend(bbox_to_anchor=(1.00, 1))\n",
    "plt.show()"
   ]
  },
  {
   "cell_type": "markdown",
   "metadata": {
    "colab_type": "text",
    "id": "3WLfjf2ehU6E"
   },
   "source": [
    "* Males with a partner have higher income, while the income for single and partnered females is almost compareable."
   ]
  },
  {
   "cell_type": "markdown",
   "metadata": {},
   "source": [
    "## Gender vs Miles"
   ]
  },
  {
   "cell_type": "code",
   "execution_count": null,
   "metadata": {
    "colab": {},
    "colab_type": "code",
    "id": "tHMitnZahU6F",
    "outputId": "f7f52261-2f84-4776-b1fd-d674bf390a47"
   },
   "outputs": [],
   "source": [
    "plt.figure(figsize=(15,7))\n",
    "sns.boxplot(cardio[\"Gender\"],cardio[\"Miles\"],palette=\"viridis\")\n",
    "plt.show()"
   ]
  },
  {
   "cell_type": "markdown",
   "metadata": {
    "colab_type": "text",
    "id": "Rx_gIB91hU6N"
   },
   "source": [
    "* Males expect to run more miles than females"
   ]
  },
  {
   "cell_type": "markdown",
   "metadata": {},
   "source": [
    "## Gender vs Miles vs Marital Status"
   ]
  },
  {
   "cell_type": "code",
   "execution_count": null,
   "metadata": {
    "colab": {},
    "colab_type": "code",
    "id": "x7fR4sclhU6O",
    "outputId": "21667b1c-9725-4962-c24b-08a8f5feac47"
   },
   "outputs": [],
   "source": [
    "plt.figure(figsize=(15,7))\n",
    "sns.boxplot(cardio[\"Gender\"],cardio[\"Miles\"],hue=cardio[\"MaritalStatus\"],palette=\"viridis\")\n",
    "plt.legend(bbox_to_anchor=(1.00, 1))\n",
    "plt.show()"
   ]
  },
  {
   "cell_type": "markdown",
   "metadata": {
    "colab_type": "text",
    "id": "FrT2AQRihU6d"
   },
   "source": [
    "* Single and Partnered male expect to run more miles, while not much difference can be noticed between Single or Partnered females."
   ]
  },
  {
   "cell_type": "markdown",
   "metadata": {},
   "source": [
    "## Gender vs Miles vs Education"
   ]
  },
  {
   "cell_type": "code",
   "execution_count": null,
   "metadata": {
    "colab": {},
    "colab_type": "code",
    "id": "Arbr8MUuhU6e",
    "outputId": "486a9d06-ed10-4288-d705-ce65f277c979"
   },
   "outputs": [],
   "source": [
    "plt.figure(figsize=(15,7))\n",
    "sns.boxplot(cardio[\"Gender\"],cardio[\"Miles\"],hue=cardio[\"Education\"])\n",
    "plt.legend(bbox_to_anchor=(1.00, 1))\n",
    "plt.show()"
   ]
  },
  {
   "cell_type": "markdown",
   "metadata": {
    "colab_type": "text",
    "id": "EX69QDpUhU6n"
   },
   "source": [
    "* The expected miles to run increases as the education level increases, indicating that the more educated customers are more fitness aware."
   ]
  },
  {
   "cell_type": "markdown",
   "metadata": {},
   "source": [
    "## Age vs Miles vs Gender"
   ]
  },
  {
   "cell_type": "code",
   "execution_count": null,
   "metadata": {
    "colab": {},
    "colab_type": "code",
    "id": "TPHrVd_QhU6q",
    "outputId": "e64423fd-156d-4d89-bd8c-70df2da8a2fd"
   },
   "outputs": [],
   "source": [
    "plt.figure(figsize=(15,7))\n",
    "sns.lineplot(cardio[\"Age\"],cardio[\"Miles\"],hue=cardio[\"Gender\"],ci=0)\n",
    "plt.legend(bbox_to_anchor=(1.00, 1))\n",
    "plt.show()"
   ]
  },
  {
   "cell_type": "markdown",
   "metadata": {
    "colab_type": "text",
    "id": "KDIxm0ihhU6w"
   },
   "source": [
    "* With the increase in age the average expected miles to run decreases in females, whereas for males it shows an increasing and decreasing trend.\n",
    "* As the age increases above 25, males expect to run more miles than females.\n",
    "* After 30 there is a sharp decrease in the Average miles a female expects to run."
   ]
  },
  {
   "cell_type": "markdown",
   "metadata": {},
   "source": [
    "## Age vs Miles vs Marital Status"
   ]
  },
  {
   "cell_type": "code",
   "execution_count": null,
   "metadata": {
    "colab": {},
    "colab_type": "code",
    "id": "70W9ABOvhU6x",
    "outputId": "aba9a2af-e333-4808-b4aa-205718e8afe7"
   },
   "outputs": [],
   "source": [
    "plt.figure(figsize=(15,7))\n",
    "sns.lineplot(cardio[\"Age\"],cardio[\"Miles\"],hue=cardio[\"MaritalStatus\"],ci=0)\n",
    "plt.legend(bbox_to_anchor=(1.00, 1))\n",
    "plt.show()"
   ]
  },
  {
   "cell_type": "markdown",
   "metadata": {
    "colab_type": "text",
    "id": "d9JFMcbxhU64"
   },
   "source": [
    "* The trend is mostly similar across younger years for a single or a customer with a partner, however after 40 years singles tend to work more on their fitness."
   ]
  },
  {
   "cell_type": "markdown",
   "metadata": {},
   "source": [
    "## Age vs Income vs Product"
   ]
  },
  {
   "cell_type": "code",
   "execution_count": null,
   "metadata": {
    "colab": {},
    "colab_type": "code",
    "id": "GIRNNa8DhU66",
    "outputId": "40d5fe2d-b628-444d-ea27-f30f2f0b95f9"
   },
   "outputs": [],
   "source": [
    "plt.figure(figsize=(15,7))\n",
    "sns.lineplot(cardio[\"Age\"],cardio[\"Income\"],hue=cardio[\"Product\"],ci=0)\n",
    "plt.legend(bbox_to_anchor=(1.00, 1))\n",
    "plt.show()"
   ]
  },
  {
   "cell_type": "markdown",
   "metadata": {
    "colab_type": "text",
    "id": "0OYdYLjihU6_"
   },
   "source": [
    "* TM195 and TM498 have simlilar income group customers[30k-60k] for all age groups but TM798 is purchased by higher income [greater than 60k] customers only for all age groups."
   ]
  },
  {
   "cell_type": "markdown",
   "metadata": {},
   "source": [
    "## Income vs Miles vs Education"
   ]
  },
  {
   "cell_type": "code",
   "execution_count": null,
   "metadata": {
    "colab": {},
    "colab_type": "code",
    "id": "XzogGmhQhU7A",
    "outputId": "4775f2b1-2629-4e89-e8a4-74e2a17984d4",
    "scrolled": true
   },
   "outputs": [],
   "source": [
    "plt.figure(figsize=(15,7))\n",
    "sns.scatterplot(cardio[\"Income\"],cardio[\"Miles\"],hue=cardio[\"Education\"],ci=0.,palette=\"Dark2\")\n",
    "plt.legend(bbox_to_anchor=(1.00, 1))\n",
    "plt.show()"
   ]
  },
  {
   "cell_type": "markdown",
   "metadata": {
    "colab_type": "text",
    "id": "HDP-aphahU7G"
   },
   "source": [
    "*  Customers having an income of more than 70k have 18-21 years of education and expect to run 100-200 miles a week."
   ]
  },
  {
   "cell_type": "markdown",
   "metadata": {},
   "source": [
    "## Income vs Miles vs Product"
   ]
  },
  {
   "cell_type": "code",
   "execution_count": null,
   "metadata": {
    "colab": {},
    "colab_type": "code",
    "id": "QqaDPYy_hU7H",
    "outputId": "4d17616a-6eac-424d-cf2f-55a686b88298"
   },
   "outputs": [],
   "source": [
    "plt.figure(figsize=(15,7))\n",
    "sns.scatterplot(cardio[\"Income\"],cardio[\"Miles\"],hue=cardio[\"Product\"],ci=0,palette=\"inferno\")\n",
    "plt.legend(bbox_to_anchor=(1.00, 1))\n",
    "plt.show()"
   ]
  },
  {
   "cell_type": "markdown",
   "metadata": {
    "colab_type": "text",
    "id": "1bas54bHhU7N"
   },
   "source": [
    "* Customers having an income of more than 70k tend to buy TM798 and run more miles."
   ]
  },
  {
   "cell_type": "markdown",
   "metadata": {
    "colab_type": "text",
    "id": "jQiVoBXDhU7P"
   },
   "source": [
    "## Conclusion"
   ]
  },
  {
   "cell_type": "markdown",
   "metadata": {
    "colab_type": "text",
    "id": "iDWulRfyhU7P"
   },
   "source": [
    "### Key insights\n",
    "\n",
    "#### TM195: \n",
    "\n",
    "* An affordable and general-purpose treadmill that can be used for a wide range of users.\n",
    "\n",
    "* It can be considered as an entry-level product generally targeted for first-time fitness enthusiasts or college-going population. \n",
    "\n",
    "* Customers with light to moderate usage 3 to 4 times a week go for this product.\n",
    "\n",
    "\n",
    "#### TM495: \n",
    "\n",
    "* An affordable product like the TM195 with more features and probably has a high price than TM195. \n",
    "\n",
    "* The product also generally targets the same age group as the TM195 but has users of slightly higher income.\n",
    "\n",
    "* The product is used generally 3 times per week.\n",
    "\n",
    "\n",
    "#### TM798: \n",
    "\n",
    "* A top of the range treadmill with plenty of features that excite the fitness enthusiasts. \n",
    "\n",
    "* It has a higher price point and probably the flagship product of the company. \n",
    "\n",
    "* The buyers of the product are core users that rate themselves very highly on the fitness score as evident from the usage and expected miles to run. \n",
    "\n",
    "* The buyers in this segment are more educated, have an income(greater than 60k) more than the other two treadmill users, and take their fitness very seriously. \n",
    "\n",
    "* Male customers prefer this product more than females."
   ]
  },
  {
   "cell_type": "markdown",
   "metadata": {},
   "source": [
    "### Business Recommendations"
   ]
  },
  {
   "cell_type": "markdown",
   "metadata": {
    "colab_type": "text",
    "id": "_C5l8rpwhU7R"
   },
   "source": [
    "* The company has an affordable product in its portfolio that brings in the bulk of the volume of its sales, which is the TM195. The TM798 is their flagship product that brings in the profits for the company. \n",
    "\n",
    "\n",
    "* The company needs to engage in more marketing to convey that product TM798 is suitable for both the genders and try to lure the younger age group into buying their flagship product. Currently, it seems TM798 is marketed as an exclusive product for the males making more money as there is a large disparity in income for both genders.\n",
    "\n",
    "\n",
    "* Years of education are proportionate to income, and so customers with higher education can be recommended an expensive model(TM798).\n",
    "\n",
    "\n",
    "* Females above 30 years can be recommended the lower end products(TM195 and TM498) since they wish to run a fewer number of miles and therefore the usage of the product won't be higher.\n",
    "\n",
    "\n",
    "* Partnered Females can be recommended all types of products (low end to high end) since their usage varies from 2 days per week to 6 days per week.\n",
    "\n",
    "\n",
    "* Singles above 40 years can be recommended the higher end product(TM798) since they wish to run more miles and therefore the usage would be higher.\n",
    "\n",
    "\n",
    "* Partnered males have a higher income and also expect to run more miles hence the higher end product TM798 would be a good recommendation for them."
   ]
  }
 ],
 "metadata": {
  "colab": {
   "name": "Cardio_Fitness.ipynb",
   "provenance": []
  },
  "kernelspec": {
   "display_name": "Python 3",
   "language": "python",
   "name": "python3"
  },
  "language_info": {
   "codemirror_mode": {
    "name": "ipython",
    "version": 3
   },
   "file_extension": ".py",
   "mimetype": "text/x-python",
   "name": "python",
   "nbconvert_exporter": "python",
   "pygments_lexer": "ipython3",
   "version": "3.6.10"
  }
 },
 "nbformat": 4,
 "nbformat_minor": 1
}
